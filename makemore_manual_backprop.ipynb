{
 "cells": [
  {
   "cell_type": "code",
   "execution_count": 1,
   "id": "5a1262a5-343b-4caa-88ef-28e3d2019fa9",
   "metadata": {},
   "outputs": [],
   "source": [
    "import torch\n",
    "import torch.nn.functional as F\n",
    "import matplotlib.pyplot as plt #for making figures\n",
    "%matplotlib inline"
   ]
  },
  {
   "cell_type": "code",
   "execution_count": 2,
   "id": "5578dda3-a7e0-4a06-85b8-14dbb1611b14",
   "metadata": {},
   "outputs": [
    {
     "data": {
      "text/plain": [
       "['emma', 'olivia', 'ava', 'isabella', 'sophia', 'charlotte', 'mia', 'amelia']"
      ]
     },
     "execution_count": 2,
     "metadata": {},
     "output_type": "execute_result"
    }
   ],
   "source": [
    "#read in all the words\n",
    "words = open('names.txt', 'r').read().splitlines()\n",
    "words[:8]"
   ]
  },
  {
   "cell_type": "code",
   "execution_count": 3,
   "id": "e057488a-b3f0-4620-abae-b228a29f6b31",
   "metadata": {},
   "outputs": [
    {
     "data": {
      "text/plain": [
       "32033"
      ]
     },
     "execution_count": 3,
     "metadata": {},
     "output_type": "execute_result"
    }
   ],
   "source": [
    "len(words)"
   ]
  },
  {
   "cell_type": "code",
   "execution_count": 4,
   "id": "f2bd0dd4-5f12-4cd8-b1c3-0b0164bd2f01",
   "metadata": {},
   "outputs": [],
   "source": [
    "#build the vocabulary of characters and mappings to/from integers\n",
    "chars = sorted(list(set(''.join(words))))\n",
    "stoi = {s:i+1 for i,s in enumerate(chars)}\n",
    "stoi['.'] = 0\n",
    "itos = {i:s for s,i in stoi.items()}\n",
    "vocab_size = len(itos)"
   ]
  },
  {
   "cell_type": "code",
   "execution_count": 5,
   "id": "81ae4a03-8fe5-4528-a672-534b22858751",
   "metadata": {},
   "outputs": [
    {
     "data": {
      "text/plain": [
       "27"
      ]
     },
     "execution_count": 5,
     "metadata": {},
     "output_type": "execute_result"
    }
   ],
   "source": [
    "vocab_size"
   ]
  },
  {
   "cell_type": "code",
   "execution_count": 6,
   "id": "9d65ff2c-c44c-4e06-baf9-579dd488be7f",
   "metadata": {},
   "outputs": [
    {
     "name": "stdout",
     "output_type": "stream",
     "text": [
      "torch.Size([182625, 3]) torch.Size([182625])\n",
      "torch.Size([22655, 3]) torch.Size([22655])\n",
      "torch.Size([22866, 3]) torch.Size([22866])\n"
     ]
    }
   ],
   "source": [
    "#build the dataset\n",
    "block_size = 3 #context length: how many characters do we take to predict the next one?\n",
    "\n",
    "def build_dataset(words):\n",
    "    X, Y = [], []\n",
    "\n",
    "    for w in words[:]:\n",
    "        #print(f'Word: {w}')\n",
    "        context = [0] * block_size \n",
    "        ##print(''.join(str(context)))\n",
    "        for ch in w + '.':\n",
    "            ix = stoi[ch]\n",
    "            #print(f'ix: {ix}')\n",
    "            X.append(context)\n",
    "            Y.append(ix)\n",
    "            ##print('Appended context into X and ix into Y')\n",
    "            context = context[1:] + [ix] #crop and append\n",
    "            #print(''.join(str(context)))\n",
    "\n",
    "    X = torch.tensor(X)\n",
    "    Y = torch.tensor(Y)\n",
    "    print(X.shape, Y.shape)\n",
    "    #print(X)\n",
    "    return X, Y\n",
    "\n",
    "import random\n",
    "random.seed(42)\n",
    "random.shuffle(words)\n",
    "n1 = int(0.8*len(words))\n",
    "n2 = int(0.9*len(words))\n",
    "\n",
    "Xtr, Ytr = build_dataset(words[:n1])\n",
    "Xdev, Ydev = build_dataset(words[n1:n2])\n",
    "Xte, Yte = build_dataset(words[n2:])"
   ]
  },
  {
   "cell_type": "code",
   "execution_count": 7,
   "id": "58857958-de9d-4607-8868-1ddc90e9f3c0",
   "metadata": {},
   "outputs": [],
   "source": [
    "#Boilerplate from the batchnorm version above this comment\n",
    "\n",
    "#Utility function we will use later when comparing manual gradients to PyTorch gradients\n",
    "def cmp(s, dt, t): \n",
    "    ex = torch.all(dt == t.grad).item() #Check for exact equality\n",
    "    app = torch.allclose(dt, t.grad) #Check for approximate equality (allclose() uses epsilons for comparison)\n",
    "    maxdiff = (dt - t.grad).abs().max().item()\n",
    "    print(f'{s:15s} | exact: {str(ex):5s} | approximate: {str(app):5s} | maxdiff: {maxdiff}')"
   ]
  },
  {
   "cell_type": "code",
   "execution_count": 8,
   "id": "d65aa41d-9fb1-41c4-b6ea-c4aa2065adf8",
   "metadata": {},
   "outputs": [
    {
     "name": "stdout",
     "output_type": "stream",
     "text": [
      "4137\n"
     ]
    }
   ],
   "source": [
    "#MLP revisited\n",
    "n_embd = 10 # the dimensionality of the character embedding vectors\n",
    "n_hidden = 64 # the number of neurons in the hidden layer of the MLP\n",
    "\n",
    "g = torch.Generator().manual_seed(2147483647)\n",
    "C = torch.randn((vocab_size, n_embd),  generator=g)\n",
    "#Layer 1\n",
    "W1 = torch.randn((n_embd * block_size, n_hidden), generator=g) * (5/3)/((n_embd * block_size) ** 0.5) #Kaiming init: Gain for tanh / sqrt of fan-in number of neurons\n",
    "b1 = torch.randn(n_hidden, generator=g) * 0.1 #using b1 just for fun, to check if we're still calculating the right gradient for this even though its useless\n",
    "\n",
    "#Layer 2\n",
    "W2 = torch.randn((n_hidden, vocab_size),  generator=g) * 0.1\n",
    "b2 = torch.randn(vocab_size, generator=g) * 0.1\n",
    "\n",
    "#Batchnorm parameters\n",
    "bngain = torch.ones((1, n_hidden)) *0.1 + 1.0\n",
    "bnbias = torch.zeros((1, n_hidden))*0.1 \n",
    "\n",
    "#Parameters are being initialized in with smaller values because sometimes initializing with\n",
    "#all zeroes can mask an incorrect implementation of the backward pass\n",
    "\n",
    "#bnmean_running = torch.zeros((1, n_hidden))\n",
    "#bnstd_running = torch.ones((1, n_hidden))\n",
    "\n",
    "parameters = [C, W1, b1, W2, b2, bngain, bnbias]\n",
    "print(sum(p.nelement() for p in parameters))\n",
    "for p in parameters:\n",
    "    p.requires_grad = True"
   ]
  },
  {
   "cell_type": "code",
   "execution_count": 9,
   "id": "7ee9b6a7-8c26-4179-a59a-4ca16f5c75ed",
   "metadata": {},
   "outputs": [],
   "source": [
    "batch_size = 32\n",
    "n = batch_size #a shorter variable for convenience\n",
    "#construct a minibatch\n",
    "ix = torch.randint(0, Xtr.shape[0], (batch_size, ), generator=g)\n",
    "Xb, Yb = Xtr[ix], Ytr[ix] #batch X,Y"
   ]
  },
  {
   "cell_type": "code",
   "execution_count": 10,
   "id": "354311d9-c33b-4bc7-b6dd-8e8986f22cf5",
   "metadata": {},
   "outputs": [
    {
     "data": {
      "text/plain": [
       "tensor(3.3482, grad_fn=<NegBackward0>)"
      ]
     },
     "execution_count": 10,
     "metadata": {},
     "output_type": "execute_result"
    }
   ],
   "source": [
    "#forward pass, \"chunckated\" into smaller steps that possible to backward pass one at a time\n",
    "\n",
    "emb = C[Xb] #embed the characters into vectors\n",
    "embcat = emb.view(emb.shape[0], -1) #concatenate the vectors\n",
    "\n",
    "#Linear Layer 1\n",
    "hprebn = embcat @ W1 + b1 #hidden layer pre-batch-norm \n",
    "\n",
    "#BatchNorm Layer\n",
    "bnmeani = 1/n*hprebn.sum(0, keepdim=True)\n",
    "bndiff = hprebn - bnmeani\n",
    "bndiff2 = bndiff**2\n",
    "bnvar = 1/(n-1)*(bndiff2).sum(0, keepdim=True) #note: Bessel's correction (dividing by n-1, not n) see https://www.statisticshowto.com/bessels-correction/\n",
    "bnvar_inv = (bnvar+1e-5)**-0.5\n",
    "bnraw = bndiff * bnvar_inv\n",
    "hpreact = bngain * bnraw + bnbias #hidden layer pre-activation\n",
    "\n",
    "#Non-linearity\n",
    "h = torch.tanh(hpreact) #hidden layer\n",
    "\n",
    "#Linear Layer 2\n",
    "logits = h @ W2 + b2\n",
    "\n",
    "#Cross Entropy Loss (same as F.cross_entropy(logits, Yb))\n",
    "logit_maxes = logits.max(1, keepdim=True).values\n",
    "norm_logits = logits - logit_maxes # subtract max for numerical stability\n",
    "counts = norm_logits.exp()\n",
    "counts_sum = counts.sum(1, keepdims=True)\n",
    "counts_sum_inv = counts_sum**-1 #if I use (1.0 / counts_sum) instead then I can't get backprop to be bit exact\n",
    "probs = counts * counts_sum_inv\n",
    "logprobs = probs.log() #Batch of inputs and the probability they output a specific letter. 32 x 27\n",
    "loss = -logprobs[range(n), Yb].mean() #Extract the loss calculated for the corresponding letter of Yb and calculate the mean across all the extracted values\n",
    "#print(f'logprobs: {logprobs}')\n",
    "#print(f'logprobs[range(n), ]: {logprobs[range(n), ]}')\n",
    "#print(f'Yb: {Yb}')\n",
    "#print(f'logprobs[range(n), Yb]: {logprobs[range(n), Yb]}')\n",
    "\n",
    "#PyTorch backward pass\n",
    "for p in parameters:\n",
    "    p.grad = None\n",
    "for t in [logprobs, probs, counts, counts_sum, counts_sum_inv,\n",
    "          norm_logits, logit_maxes, logits, h, hpreact, bnraw,\n",
    "          bnvar_inv, bnvar, bndiff2, bndiff, hprebn, bnmeani,\n",
    "          embcat, emb]:\n",
    "    t.retain_grad()\n",
    "loss.backward()\n",
    "loss\n",
    "\n"
   ]
  },
  {
   "cell_type": "code",
   "execution_count": 11,
   "id": "727b3c2c-8fa8-4028-802e-60abacac57bd",
   "metadata": {},
   "outputs": [],
   "source": [
    "#For dlogprobs where dloss/dlogprobs is the derivative of loss\n",
    "#with respect to ALL elements in logprobs\n",
    "#therefore, dlogprobs will have the same shape as logprobs (32, 7)\n",
    "\n",
    "#Consider that the loss = (a + b + c)/3 where logprobs comprises elements a, b, c\n",
    "#dloss/da is then = (1 + b + c)/3\n",
    "#It follows then that dloss/dlogprobs = 1/3, or more generally 1/n\n",
    "\n",
    "#Since we also do a selection for logprobs [range(n), Yb] \n",
    "#we only want elements that contributed to the loss to have a gradient\n",
    "#To do this, we can just create a new tensor with the same as logprobs\n",
    "#initialised to all zeroes, and then set the same indices to our gradient\n",
    "\n",
    "#For dcounts_sum_inv\n",
    "#The local derivative is the same as if we have f(x,y) = xy, therefore df/dx = y\n",
    "#However, we need to take into account the shapes of counts and counts_sum_inv,\n",
    "#(32,27) and 32,1 respectively.\n",
    "#What this means is that we need to backprop through and differentiate the hidden\n",
    "#PyTorch broadcast during matrix multiplication \n",
    "#Consider the example:\n",
    "#c = a @ b\n",
    "#a[3x3] * b[3,1] ---> Multiplication would then look like bc b1 is a column vector\n",
    "#a11*b1, a12*b1, a13*b1\n",
    "#a21*b2, a22*b2, a33*b2\n",
    "#a31*b3, a32*b3, a33*b3\n",
    "#The operation that needs backprop is the many multiplications of an a[] column with a b vector\n",
    "#This can be handled by summing all the gradients of dc/db and we do so horizontally\n",
    "\n",
    "#For dlogit_maxes\n",
    "#Similar to dcount_sum_inv, need to consider the shape\n",
    "#But otherwise it's just the sum of local derivative\n",
    "#Remember that you can pull the sum out of the equation and then use after performing all inner operations\n",
    "\n",
    "#For dlogits\n",
    "#1st branch is just dnorm_logits\n",
    "#2nd branch is similar to dlogprobs where we only want the values that contributed to the loss\n",
    "#torch.max() also gives the indices of where the max values are\n",
    "#So we can approach it like dlogprobs \n",
    "\n",
    "#For dh\n",
    "#Do the working on simple matrices d = a x b and break it down to the dot products, it is genius\n",
    "#and it turns out it's the local derivative (a matrix) needs to TRANSPOSED before multiplication\n",
    "#Or see 48:00 of the vid\n",
    "#For dW2, it's similar, just compare the shapes and do the appropriate transposition\n",
    "\n",
    "#For dbnvar\n",
    "#It's just a standard differentiation, you can set x = bnvar + 1e-5 so then you \n",
    "#just differentiate x**-0.5. ezypzy\n",
    "\n",
    "#Bessel's Correction\n",
    "#See https://math.oxford.emory.edu/site/math117/besselCorrection/\n",
    "#By using the full sample size as the divisor for the variance in a BATCH (not the full population),\n",
    "#You underestimate the population variance.\n",
    "#A intuitive way of understanding this is use calculate the variance for a sample size of 1.\n",
    "#This bias can be corrected by n-1 as the divisor. (Bessel's Correction)\n",
    "\n",
    "#Sums and broadcasts\n",
    "#They are a duality, sum in the forward pass will require a broadcast in the backpass (e.g. torch.ones_like * local derivative)\n",
    "#broadcast in the forward pass will require a sum in the backpass\n",
    "\n",
    "#For demb\n",
    "#Views are just a reinterpretation of a tensor\n",
    "#So just reinterpret it back to the original shape for the derivative\n",
    "\n",
    "#For dC\n",
    "#The hardest one. Requires shape analysis and understanding that we're looking for embeddings in C that contributed to the loss.\n",
    "#C is a lookup of letters, so in dC we're looking to \"activate\" the letters that contributed to the loss.\n",
    "#To start we create a tensor like C initialised with all zeroes.\n",
    "#Then, we iterate through the batch Xb, to get the index (numerical equivalent) of the letters in the sliding window\n",
    "#Then for each index within dC, we activate the (10d) row of dC with a (10d) row of gradients from demb"
   ]
  },
  {
   "cell_type": "code",
   "execution_count": 12,
   "id": "bb10e766-2519-4931-b42a-e3e874665201",
   "metadata": {},
   "outputs": [
    {
     "ename": "NameError",
     "evalue": "name 'dlogits' is not defined",
     "output_type": "error",
     "traceback": [
      "\u001b[1;31m---------------------------------------------------------------------------\u001b[0m",
      "\u001b[1;31mNameError\u001b[0m                                 Traceback (most recent call last)",
      "Cell \u001b[1;32mIn[12], line 1\u001b[0m\n\u001b[1;32m----> 1\u001b[0m \u001b[43mdlogits\u001b[49m\u001b[38;5;241m.\u001b[39mshape, h\u001b[38;5;241m.\u001b[39mshape, b2\u001b[38;5;241m.\u001b[39mshape\n",
      "\u001b[1;31mNameError\u001b[0m: name 'dlogits' is not defined"
     ]
    }
   ],
   "source": [
    "dlogits.shape, h.shape, b2.shape"
   ]
  },
  {
   "cell_type": "code",
   "execution_count": null,
   "id": "72efceea-e519-442c-98d3-61d671f73d06",
   "metadata": {},
   "outputs": [],
   "source": [
    "embcat.shape, emb.shape, C.shape"
   ]
  },
  {
   "cell_type": "code",
   "execution_count": 17,
   "id": "849fe7e2-bee6-4e52-a445-7655ca0078ad",
   "metadata": {},
   "outputs": [
    {
     "name": "stdout",
     "output_type": "stream",
     "text": [
      "logprobs        | exact: True  | approximate: True  | maxdiff: 0.0\n",
      "probs           | exact: True  | approximate: True  | maxdiff: 0.0\n",
      "counts_sum_inv  | exact: True  | approximate: True  | maxdiff: 0.0\n",
      "counts_sum      | exact: True  | approximate: True  | maxdiff: 0.0\n",
      "counts          | exact: True  | approximate: True  | maxdiff: 0.0\n",
      "norm_logits     | exact: True  | approximate: True  | maxdiff: 0.0\n",
      "logit_maxes     | exact: True  | approximate: True  | maxdiff: 0.0\n",
      "logits          | exact: True  | approximate: True  | maxdiff: 0.0\n",
      "h               | exact: True  | approximate: True  | maxdiff: 0.0\n",
      "W2              | exact: True  | approximate: True  | maxdiff: 0.0\n",
      "b2              | exact: True  | approximate: True  | maxdiff: 0.0\n",
      "hpreact         | exact: True  | approximate: True  | maxdiff: 0.0\n",
      "bngain          | exact: True  | approximate: True  | maxdiff: 0.0\n",
      "bnbias          | exact: True  | approximate: True  | maxdiff: 0.0\n",
      "bnraw           | exact: True  | approximate: True  | maxdiff: 0.0\n",
      "bnvar_inv       | exact: True  | approximate: True  | maxdiff: 0.0\n",
      "bnvar           | exact: True  | approximate: True  | maxdiff: 0.0\n",
      "bndiff2         | exact: True  | approximate: True  | maxdiff: 0.0\n",
      "bndiff          | exact: True  | approximate: True  | maxdiff: 0.0\n",
      "bnmeani         | exact: True  | approximate: True  | maxdiff: 0.0\n",
      "hprebn          | exact: True  | approximate: True  | maxdiff: 0.0\n",
      "embcat          | exact: True  | approximate: True  | maxdiff: 0.0\n",
      "W1              | exact: True  | approximate: True  | maxdiff: 0.0\n",
      "b1              | exact: True  | approximate: True  | maxdiff: 0.0\n",
      "emb             | exact: True  | approximate: True  | maxdiff: 0.0\n",
      "C               | exact: True  | approximate: True  | maxdiff: 0.0\n"
     ]
    }
   ],
   "source": [
    "# Exercise 1: backprop through the whole thing manually, \n",
    "# backpropagating through exactly all of the variables \n",
    "# as they are defined in the forward pass above, one by one\n",
    "\n",
    "dlogprobs = torch.zeros_like(logprobs)\n",
    "dlogprobs[range(n), Yb] = -1.0/n\n",
    "\n",
    "dprobs = 1.0/probs*dlogprobs\n",
    "\n",
    "dcounts_sum_inv = (counts  * dprobs).sum(1, keepdim=True)\n",
    "\n",
    "dcounts_sum = (-counts_sum**-2) * dcounts_sum_inv\n",
    "\n",
    "dcounts = torch.ones_like(counts) * dcounts_sum + counts_sum_inv * dprobs\n",
    "\n",
    "dnorm_logits = norm_logits.exp() * dcounts\n",
    "\n",
    "dlogit_maxes = (- dnorm_logits).sum(1, keepdim=True)\n",
    "\n",
    "#Alternative way of implementing dlogit's branch 2 like with dlogprobs\n",
    "#dlogits_b2 = torch.zeros_like(logits)\n",
    "#dlogits_b2[range(n), logits.max(1).indices] = 1.0 \n",
    "\n",
    "#Specifically does not use keepdims=True so that it's collapsed into a 1 x n tensor\n",
    "dlogits_b2 = F.one_hot(logits.max(1).indices, num_classes=logits.shape[1])\n",
    "\n",
    "dlogits = dnorm_logits.clone() + dlogits_b2  * dlogit_maxes\n",
    "\n",
    "dh = dlogits @ torch.transpose(W2, 0, 1)\n",
    "\n",
    "#Shortform for transpose is h.T\n",
    "dW2 = torch.transpose(h, 0, 1) @ dlogits\n",
    "\n",
    "db2 = dlogits.sum(0)\n",
    "\n",
    "dhpreact = (1.0 - h**2) * dh\n",
    "\n",
    "dbngain = (dhpreact * bnraw).sum(0, keepdim=True)\n",
    "\n",
    "dbnbias = dhpreact.sum(0, keepdims=True)\n",
    "\n",
    "dbnraw = dhpreact * bngain\n",
    "\n",
    "dbnvar_inv = (dbnraw * bndiff).sum(0, keepdim=True) \n",
    "\n",
    "dbnvar = -0.5 * (bnvar + 1e-5)**-1.5 * dbnvar_inv\n",
    "\n",
    "# emb = C[Xb] #embed the characters into vectors\n",
    "# embcat = emb.view(emb.shape[0], -1) #concatenate the vectors\n",
    "\n",
    "# #Linear Layer 1\n",
    "# hprebn = embcat @ W1 + b1 #hidden layer pre-batch-norm \n",
    "\n",
    "dbndiff2 = 1.0/(n-1)*torch.ones_like(bndiff2) * dbnvar\n",
    "\n",
    "dbndiff = bnvar_inv * dbnraw + 2*bndiff*dbndiff2\n",
    "\n",
    "dbnmeani = -dbndiff.sum(0, keepdim=True)\n",
    "\n",
    "dhprebn = dbndiff.clone() + 1.0/n*torch.ones_like(hprebn) * dbnmeani #Clone for safety\n",
    "\n",
    "dembcat = dhprebn @ W1.T\n",
    "\n",
    "dW1 = embcat.T @ dhprebn \n",
    "\n",
    "db1 = dhprebn.sum(0)\n",
    "\n",
    "demb = dembcat.view(emb.shape)\n",
    "\n",
    "dC = torch.zeros_like(C)\n",
    "for k in range(Xb.shape[0]):\n",
    "    for j in range(Xb.shape[1]):\n",
    "        ix = Xb[k,j]\n",
    "        dC[ix] += demb[k,j]\n",
    "        \n",
    "##Other solutions found in the comments but very hard to understand\n",
    "#1. dC.index_add_(0, Xb.view(-1), demb.view(-1, 10)) \n",
    "#2. X_e = F.one_hot(Xb, num_classes = 27).float() # Convert the selection operation into a selection matrix (emb = C[Xb] <-> X_e @ C)\n",
    "#   dC = (X_e.permute(0,2,1) @ demb).sum(0) # Differentiate like any other matrix operation (dC = X_e.T @ demb; indices to track the batch dimensions)\n",
    "#3. Xe = F.one_hot(Xb.flatten(), num_classes=27).float().permute(1, 0)\n",
    "#4. dC = Xe @ demb.view((-1, demb.shape[2]))\n",
    "cmp('logprobs', dlogprobs, logprobs)\n",
    "cmp('probs', dprobs, probs)\n",
    "cmp('counts_sum_inv', dcounts_sum_inv, counts_sum_inv)\n",
    "cmp('counts_sum', dcounts_sum, counts_sum)\n",
    "cmp('counts', dcounts, counts)\n",
    "cmp('norm_logits', dnorm_logits, norm_logits)\n",
    "cmp('logit_maxes', dlogit_maxes, logit_maxes)\n",
    "cmp('logits', dlogits, logits)\n",
    "cmp('h', dh, h)\n",
    "cmp('W2', dW2, W2)\n",
    "cmp('b2', db2, b2)\n",
    "cmp('hpreact', dhpreact, hpreact)\n",
    "cmp('bngain', dbngain, bngain)\n",
    "cmp('bnbias', dbnbias, bnbias)\n",
    "cmp('bnraw', dbnraw, bnraw)\n",
    "cmp('bnvar_inv', dbnvar_inv, bnvar_inv)\n",
    "cmp('bnvar', dbnvar, bnvar)\n",
    "cmp('bndiff2', dbndiff2, bndiff2)\n",
    "cmp('bndiff', dbndiff, bndiff)\n",
    "cmp('bnmeani', dbnmeani, bnmeani)\n",
    "cmp('hprebn', dhprebn, hprebn)\n",
    "cmp('embcat', dembcat, embcat)\n",
    "cmp('W1', dW1, W1)\n",
    "cmp('b1', db1, b1)\n",
    "cmp('emb', demb, emb)\n",
    "cmp('C', dC, C)"
   ]
  },
  {
   "cell_type": "code",
   "execution_count": null,
   "id": "a286af29-fc5a-4163-9824-93084663c210",
   "metadata": {},
   "outputs": [],
   "source": [
    "#emb = C[Xb] #embed the characters into vectors\n",
    "print(emb.shape, C.shape, Xb.shape)\n",
    "print(Xb[:5])\n",
    "print(emb)"
   ]
  },
  {
   "cell_type": "code",
   "execution_count": null,
   "id": "3f460c0f-0621-4491-b5f0-285536c144c3",
   "metadata": {},
   "outputs": [],
   "source": [
    "# Exercise 2: backprop through cross_entropy but all in one go\n",
    "# to complete this challenge look at the mathematical expression of the loss,\n",
    "# take the derivative, simplify the expression, and just write it out\n",
    "\n",
    "# forward pass\n",
    "\n",
    "# before:\n",
    "# logit_maxes = logits.max(1, keepdim=True).values\n",
    "# norm_logits = logits - logit_maxes # subtract max for numerical stability\n",
    "# counts = norm_logits.exp()\n",
    "# counts_sum = counts.sum(1, keepdims=True)\n",
    "# counts_sum_inv = counts_sum**-1 # if I use (1.0 / counts_sum) instead then I can't get backprop to be bit exact...\n",
    "# probs = counts * counts_sum_inv\n",
    "# logprobs = probs.log()\n",
    "# loss = -logprobs[range(n), Yb].mean()\n",
    "\n",
    "# now:\n",
    "loss_fast = F.cross_entropy(logits, Yb)\n",
    "print(loss_fast.item(), 'diff:', (loss_fast - loss).item())"
   ]
  },
  {
   "cell_type": "code",
   "execution_count": 14,
   "id": "7294d819-88af-4cf0-bd9a-0140d3360480",
   "metadata": {},
   "outputs": [
    {
     "name": "stdout",
     "output_type": "stream",
     "text": [
      "logits          | exact: False | approximate: True  | maxdiff: 6.28642737865448e-09\n"
     ]
    }
   ],
   "source": [
    "# backward pass\n",
    "\n",
    "#When the ith index of the logits is not equal to the label, the gradient for the ith logit is equal to the probability\n",
    "#When the ith index of the logits is equal to the label, the  gradient for the ith logit is equal to the probability - 1\n",
    "#Softmax along each example (a row) of logits\n",
    "#Where the ith index is equal to the label, subtract one from the logit\n",
    "#The loss for a batch is average loss so the loss of the batch logits needs to be divided by n\n",
    "\n",
    "# -----------------\n",
    "# YOUR CODE HERE :)\n",
    "dlogits = F.softmax(logits, 1)\n",
    "dlogits[range(n), Yb] -= 1\n",
    "dlogits /= n\n",
    "# -----------------\n",
    "\n",
    "cmp('logits', dlogits, logits) # I can only get approximate to be true, my maxdiff is 6e-9"
   ]
  },
  {
   "cell_type": "code",
   "execution_count": 15,
   "id": "04de8302-41e3-425f-aba0-841007aa3f15",
   "metadata": {},
   "outputs": [
    {
     "name": "stdout",
     "output_type": "stream",
     "text": [
      "max diff: tensor(4.7684e-07, grad_fn=<MaxBackward1>)\n"
     ]
    }
   ],
   "source": [
    "# Exercise 3: backprop through batchnorm but all in one go\n",
    "# to complete this challenge look at the mathematical expression of the output of batchnorm,\n",
    "# take the derivative w.r.t. its input, simplify the expression, and just write it out\n",
    "# BatchNorm paper: https://arxiv.org/abs/1502.03167\n",
    "\n",
    "# forward pass\n",
    "\n",
    "# before:\n",
    "# bnmeani = 1/n*hprebn.sum(0, keepdim=True)\n",
    "# bndiff = hprebn - bnmeani\n",
    "# bndiff2 = bndiff**2\n",
    "# bnvar = 1/(n-1)*(bndiff2).sum(0, keepdim=True) # note: Bessel's correction (dividing by n-1, not n)\n",
    "# bnvar_inv = (bnvar + 1e-5)**-0.5\n",
    "# bnraw = bndiff * bnvar_inv\n",
    "# hpreact = bngain * bnraw + bnbias\n",
    "\n",
    "# now:\n",
    "hpreact_fast = bngain * (hprebn - hprebn.mean(0, keepdim=True)) / torch.sqrt(hprebn.var(0, keepdim=True, unbiased=True) + 1e-5) + bnbias\n",
    "print('max diff:', (hpreact_fast - hpreact).abs().max())"
   ]
  },
  {
   "cell_type": "code",
   "execution_count": null,
   "id": "07ba7c91-7a86-4222-81a8-6e7e3e1c0f84",
   "metadata": {},
   "outputs": [],
   "source": [
    "#Re: Summing gradients:\n",
    "#When differentiating a vector function (i.e. dxi/dvar) you need to sum all the gradients\n",
    "#Therefore dL/dvar isn't just (dL/dxi)*(dxi/dvar), it's sum through all i for (dL/dxi)*(dxi/dvar)\n",
    "#Another way of understanding is like when you sum up all the sources of the gradient if your variable shows up in multiple functions\n",
    "#e.g. dL/dx = (dL/dy) * (dy/dx)[y = x^2] + (dL/dz) * (dz/dx)[z = x^3]\n",
    "#Since there are mutiple values of x, you have multiple sources of the gradient.\n",
    "#Also, consider that if you didn't sum up the multiple sources and the gradient had x in the function, which value of x would you use?\n",
    "#This helps us find the exception to the rule as well.\n",
    "#Since xi_hat is just a normalised version of xi, we have 1:1 relationship between the two (as opposed to many:many), and so we don't have to sum the gradients\n",
    "#for dxi_hat/dxi"
   ]
  },
  {
   "cell_type": "code",
   "execution_count": 18,
   "id": "9b9ab3fe-227d-4663-8490-e2f117048357",
   "metadata": {},
   "outputs": [
    {
     "name": "stdout",
     "output_type": "stream",
     "text": [
      "hprebn          | exact: False | approximate: True  | maxdiff: 9.313225746154785e-10\n"
     ]
    }
   ],
   "source": [
    "# backward pass\n",
    "\n",
    "# before we had:\n",
    "# dbnraw = bngain * dhpreact\n",
    "# dbndiff = bnvar_inv * dbnraw\n",
    "# dbnvar_inv = (bndiff * dbnraw).sum(0, keepdim=True)\n",
    "# dbnvar = (-0.5*(bnvar + 1e-5)**-1.5) * dbnvar_inv\n",
    "# dbndiff2 = (1.0/(n-1))*torch.ones_like(bndiff2) * dbnvar\n",
    "# dbndiff += (2*bndiff) * dbndiff2\n",
    "# dhprebn = dbndiff.clone()\n",
    "# dbnmeani = (-dbndiff).sum(0)\n",
    "# dhprebn += 1.0/n * (torch.ones_like(hprebn) * dbnmeani)\n",
    "\n",
    "# calculate dhprebn given dhpreact (i.e. backprop through the batchnorm)\n",
    "# (you'll also need to use some of the variables from the forward pass up above)\n",
    "\n",
    "# -----------------\n",
    "# YOUR CODE HERE :)\n",
    "dhprebn = bngain*bnvar_inv/n * (n*dhpreact - dhpreact.sum(0) - n/(n-1) * bnraw * (bnraw*dhpreact).sum(0))\n",
    "# -----------------\n",
    "\n",
    "cmp('hprebn', dhprebn, hprebn) # I can only get approximate to be true, my maxdiff is 9e-10"
   ]
  },
  {
   "cell_type": "code",
   "execution_count": 21,
   "id": "04444174-c6c0-4d6d-ab41-56195626d73c",
   "metadata": {},
   "outputs": [
    {
     "name": "stdout",
     "output_type": "stream",
     "text": [
      "12297\n",
      "      0/ 200000: 3.7643\n",
      "  10000/ 200000: 2.1733\n",
      "  20000/ 200000: 2.4059\n",
      "  30000/ 200000: 2.4332\n",
      "  40000/ 200000: 2.0174\n",
      "  50000/ 200000: 2.3131\n",
      "  60000/ 200000: 2.3475\n",
      "  70000/ 200000: 2.0757\n",
      "  80000/ 200000: 2.3081\n",
      "  90000/ 200000: 2.1669\n",
      " 100000/ 200000: 1.9726\n",
      " 110000/ 200000: 2.2734\n",
      " 120000/ 200000: 1.9720\n",
      " 130000/ 200000: 2.4597\n",
      " 140000/ 200000: 2.2755\n",
      " 150000/ 200000: 2.1626\n",
      " 160000/ 200000: 1.9549\n",
      " 170000/ 200000: 1.8071\n",
      " 180000/ 200000: 1.9860\n",
      " 190000/ 200000: 1.8411\n"
     ]
    }
   ],
   "source": [
    "# Exercise 4: putting it all together!\n",
    "# Train the MLP neural net with your own backward pass\n",
    "\n",
    "# init\n",
    "n_embd = 10 # the dimensionality of the character embedding vectors\n",
    "n_hidden = 200 # the number of neurons in the hidden layer of the MLP\n",
    "\n",
    "g = torch.Generator().manual_seed(2147483647) # for reproducibility\n",
    "C  = torch.randn((vocab_size, n_embd),            generator=g)\n",
    "# Layer 1\n",
    "W1 = torch.randn((n_embd * block_size, n_hidden), generator=g) * (5/3)/((n_embd * block_size)**0.5)\n",
    "b1 = torch.randn(n_hidden,                        generator=g) * 0.1\n",
    "# Layer 2\n",
    "W2 = torch.randn((n_hidden, vocab_size),          generator=g) * 0.1\n",
    "b2 = torch.randn(vocab_size,                      generator=g) * 0.1\n",
    "# BatchNorm parameters\n",
    "bngain = torch.randn((1, n_hidden))*0.1 + 1.0\n",
    "bnbias = torch.randn((1, n_hidden))*0.1\n",
    "\n",
    "parameters = [C, W1, b1, W2, b2, bngain, bnbias]\n",
    "print(sum(p.nelement() for p in parameters)) # number of parameters in total\n",
    "for p in parameters:\n",
    "  p.requires_grad = True\n",
    "\n",
    "# same optimization as last time\n",
    "max_steps = 200000\n",
    "batch_size = 32\n",
    "n = batch_size # convenience\n",
    "lossi = []\n",
    "\n",
    "# use this context manager for efficiency once your backward pass is written (TODO)\n",
    "with torch.no_grad():\n",
    "    \n",
    "    # kick off optimization\n",
    "    for i in range(max_steps):\n",
    "    \n",
    "      # minibatch construct\n",
    "      ix = torch.randint(0, Xtr.shape[0], (batch_size,), generator=g)\n",
    "      Xb, Yb = Xtr[ix], Ytr[ix] # batch X,Y\n",
    "    \n",
    "      # forward pass\n",
    "      emb = C[Xb] # embed the characters into vectors\n",
    "      embcat = emb.view(emb.shape[0], -1) # concatenate the vectors\n",
    "      # Linear layer\n",
    "      hprebn = embcat @ W1 + b1 # hidden layer pre-activation\n",
    "      # BatchNorm layer\n",
    "      # -------------------------------------------------------------\n",
    "      bnmean = hprebn.mean(0, keepdim=True)\n",
    "      bnvar = hprebn.var(0, keepdim=True, unbiased=True)\n",
    "      bnvar_inv = (bnvar + 1e-5)**-0.5\n",
    "      bnraw = (hprebn - bnmean) * bnvar_inv\n",
    "      hpreact = bngain * bnraw + bnbias\n",
    "      # -------------------------------------------------------------\n",
    "      # Non-linearity\n",
    "      h = torch.tanh(hpreact) # hidden layer\n",
    "      logits = h @ W2 + b2 # output layer\n",
    "      loss = F.cross_entropy(logits, Yb) # loss function\n",
    "    \n",
    "      # backward pass\n",
    "      for p in parameters:\n",
    "        p.grad = None\n",
    "      #loss.backward() # use this for correctness comparisons, delete it later!\n",
    "    \n",
    "      # manual backprop! #swole_doge_meme\n",
    "      # -----------------\n",
    "    \n",
    "      #Logits backprop\n",
    "      dlogits = F.softmax(logits, 1)\n",
    "      dlogits[range(n), Yb] -= 1\n",
    "      dlogits /= n\n",
    "    \n",
    "      #Second layer backprop\n",
    "      dh = dlogits @ torch.transpose(W2, 0, 1)\n",
    "      dW2 = torch.transpose(h, 0, 1) @ dlogits\n",
    "      db2 = dlogits.sum(0)\n",
    "    \n",
    "      #Tanh\n",
    "      dhpreact = (1.0 - h**2) * dh\n",
    "    \n",
    "      #Batchnorm backprop\n",
    "      dbngain = (dhpreact * bnraw).sum(0, keepdim=True)\n",
    "      dbnbias = dhpreact.sum(0, keepdims=True)\n",
    "      dhprebn = bngain*bnvar_inv/n * (n*dhpreact - dhpreact.sum(0) - n/(n-1) * bnraw * (bnraw*dhpreact).sum(0))\n",
    "    \n",
    "      #First layer backprop\n",
    "      dembcat = dhprebn @ W1.T\n",
    "      dW1 = embcat.T @ dhprebn \n",
    "      db1 = dhprebn.sum(0)\n",
    "    \n",
    "      #Embedding\n",
    "      demb = dembcat.view(emb.shape) \n",
    "      dC = torch.zeros_like(C)\n",
    "      for k in range(Xb.shape[0]):\n",
    "        for j in range(Xb.shape[1]):\n",
    "            ix = Xb[k,j]\n",
    "            dC[ix] += demb[k,j]\n",
    "    \n",
    "      #Assemble grads\n",
    "      grads = [dC, dW1, db1, dW2, db2, dbngain, dbnbias]\n",
    "      # -----------------\n",
    "    \n",
    "      # update\n",
    "      lr = 0.1 if i < 100000 else 0.01 # step learning rate decay\n",
    "      for p, grad in zip(parameters, grads):\n",
    "        #p.data += -lr * p.grad # old way of cheems doge (using PyTorch grad from .backward())\n",
    "        p.data += -lr * grad # new way of swole doge TODO: enable\n",
    "    \n",
    "      # track stats\n",
    "      if i % 10000 == 0: # print every once in a while\n",
    "        print(f'{i:7d}/{max_steps:7d}: {loss.item():.4f}')\n",
    "      lossi.append(loss.log10().item())\n",
    "    \n",
    "    #  if i >= 100: # TODO: delete early breaking when you're ready to train the full net\n",
    "    #    break"
   ]
  },
  {
   "cell_type": "code",
   "execution_count": 20,
   "id": "a4a89043-cb9b-4db8-9e0a-33e0ec61f682",
   "metadata": {},
   "outputs": [
    {
     "name": "stdout",
     "output_type": "stream",
     "text": [
      "(27, 10)        | exact: False | approximate: True  | maxdiff: 1.1175870895385742e-08\n",
      "(30, 200)       | exact: False | approximate: True  | maxdiff: 9.313225746154785e-09\n",
      "(200,)          | exact: False | approximate: True  | maxdiff: 6.51925802230835e-09\n",
      "(200, 27)       | exact: False | approximate: True  | maxdiff: 1.4901161193847656e-08\n",
      "(27,)           | exact: False | approximate: True  | maxdiff: 3.725290298461914e-09\n",
      "(1, 200)        | exact: False | approximate: True  | maxdiff: 1.862645149230957e-09\n",
      "(1, 200)        | exact: False | approximate: True  | maxdiff: 3.725290298461914e-09\n"
     ]
    }
   ],
   "source": [
    "# useful for checking your gradients\n",
    "for p,g in zip(parameters, grads):\n",
    "    cmp(str(tuple(p.shape)), g, p)"
   ]
  },
  {
   "cell_type": "code",
   "execution_count": 22,
   "id": "cfd5df97-6372-4027-b94e-ddae2a1b5526",
   "metadata": {},
   "outputs": [],
   "source": [
    "#calibrate the batch normalisation at the end of training\n",
    "#by finding the mean and std.dev over the entire training set\n",
    "#therefore eliminating the need for training using batches\n",
    "#The mean and std.dev are also locked at specific values doing this i.e. no updating\n",
    "#This is optional if the mean and std.dev of the training set are going to be estimated during\n",
    "#batch training\n",
    "\n",
    "with torch.no_grad():\n",
    "    #pass the training set through\n",
    "    emb = C[Xtr]\n",
    "    embcat = emb.view(emb.shape[0], -1)\n",
    "    hpreact = embcat @ W1 + b1\n",
    "    # measure the mean and std.dev over the entire training set\n",
    "    bnmean = hpreact.mean(0, keepdim=True)\n",
    "    bnvar = hpreact.var(0, keepdim=True, unbiased=True)\n",
    "    "
   ]
  },
  {
   "cell_type": "code",
   "execution_count": 23,
   "id": "6b5b43e1-f9af-4931-959f-137a8cce7493",
   "metadata": {},
   "outputs": [
    {
     "name": "stdout",
     "output_type": "stream",
     "text": [
      "train 2.0720479488372803\n",
      "val 2.109550952911377\n"
     ]
    }
   ],
   "source": [
    "#evaluate train and validation loss\n",
    "@torch.no_grad()\n",
    "def split_loss(split):\n",
    "    x, y = {\n",
    "        'train': (Xtr, Ytr),\n",
    "        'val': (Xdev, Ydev),\n",
    "        'test': (Xte, Yte)\n",
    "    }[split]\n",
    "    emb = C[x] # (N, block_size, n_embd)\n",
    "    embcat = emb.view(emb.shape[0], -1) #concat into (N, block_size * n_embd)\n",
    "    hpreact = embcat @ W1 + b1\n",
    "    hpreact = bngain * (hpreact - bnmean) * (bnvar+1e-5)**-0.5 + bnbias \n",
    "    h = torch.tanh(hpreact) # (N, n_hidden)\n",
    "    logits = h @ W2 + b2 #(N, vocab_size)\n",
    "    loss = F.cross_entropy(logits, y)\n",
    "    print(split, loss.item())\n",
    "\n",
    "split_loss('train')\n",
    "split_loss('val')"
   ]
  },
  {
   "cell_type": "code",
   "execution_count": 24,
   "id": "50722ae7-85a0-4ac0-b577-e01e7aeaa8e9",
   "metadata": {},
   "outputs": [
    {
     "name": "stdout",
     "output_type": "stream",
     "text": [
      "mona.\n",
      "mayah.\n",
      "see.\n",
      "mad.\n",
      "rylla.\n",
      "emmasiendra.\n",
      "gradelyn.\n",
      "elin.\n",
      "shi.\n",
      "jen.\n",
      "eden.\n",
      "sana.\n",
      "arleigh.\n",
      "malaia.\n",
      "noshubergihira.\n",
      "sten.\n",
      "joselle.\n",
      "joseus.\n",
      "kuba.\n",
      "geder.\n"
     ]
    }
   ],
   "source": [
    "#sample from the model\n",
    "g = torch.Generator().manual_seed(2147483647 + 10)\n",
    "\n",
    "for _ in range(20):\n",
    "\n",
    "    out = []\n",
    "    context = [0] * block_size #initialise with all ellipsis\n",
    "    while True:\n",
    "        #forward pass\n",
    "        emb = C[torch.tensor([context])] # (1, block_size, n_embd)\n",
    "        embcat = emb.view(emb.shape[0], -1) #concat into (N, block_size * n_embd)\n",
    "        hpreact = embcat @ W1 + b1\n",
    "        hpreact = bngain * (hpreact - bnmean) * (bnvar+1e-5)**-0.5 + bnbias \n",
    "        h = torch.tanh(hpreact) # (N, n_hidden)\n",
    "        logits = h @ W2 + b2 #(N, vocab_size)\n",
    "\n",
    "        #sample from the distribution\n",
    "        probs = F.softmax(logits, dim=1)\n",
    "        ix = torch.multinomial(probs, num_samples=1, generator=g).item()\n",
    "        #shift the context window and track the samples\n",
    "        context = context[1:] + [ix]\n",
    "        out.append(ix)\n",
    "        #if we sample the special '.', token, break\n",
    "        if ix == 0:\n",
    "            break\n",
    "    print(''.join(itos[i] for i in out)) #decode and print the generated word"
   ]
  },
  {
   "cell_type": "code",
   "execution_count": null,
   "id": "9a4180f6-4191-4322-ae39-97645770dbab",
   "metadata": {},
   "outputs": [],
   "source": []
  }
 ],
 "metadata": {
  "kernelspec": {
   "display_name": "Python 3 (ipykernel)",
   "language": "python",
   "name": "python3"
  },
  "language_info": {
   "codemirror_mode": {
    "name": "ipython",
    "version": 3
   },
   "file_extension": ".py",
   "mimetype": "text/x-python",
   "name": "python",
   "nbconvert_exporter": "python",
   "pygments_lexer": "ipython3",
   "version": "3.10.0"
  }
 },
 "nbformat": 4,
 "nbformat_minor": 5
}
