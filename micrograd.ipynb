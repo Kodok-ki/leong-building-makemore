{
 "cells": [
  {
   "cell_type": "code",
   "execution_count": 12,
   "id": "1aadc98e-4709-49b4-9042-6723e6ce179f",
   "metadata": {
    "tags": []
   },
   "outputs": [],
   "source": [
    "import math\n",
    "import random\n",
    "import numpy as np\n",
    "import matplotlib.pyplot as plt\n",
    "%matplotlib inline"
   ]
  },
  {
   "cell_type": "code",
   "execution_count": 7,
   "id": "f25259f1-73b3-4c31-b49b-de6a66765e0d",
   "metadata": {
    "tags": []
   },
   "outputs": [],
   "source": [
    "def f(x):\n",
    "    return 3*x**2 - 4*x + 5"
   ]
  },
  {
   "cell_type": "code",
   "execution_count": 9,
   "id": "ec439981-03ec-4fe0-9d86-334eaa69c5a4",
   "metadata": {
    "tags": []
   },
   "outputs": [
    {
     "data": {
      "text/plain": [
       "[<matplotlib.lines.Line2D at 0x1d1a6d141d0>]"
      ]
     },
     "execution_count": 9,
     "metadata": {},
     "output_type": "execute_result"
    },
    {
     "data": {
      "image/png": "[encoded data removed]",
      "text/plain": [
       "<Figure size 640x480 with 1 Axes>"
      ]
     },
     "metadata": {},
     "output_type": "display_data"
    }
   ],
   "source": [
    "xs = np.arange(-5, 5, 0.25)\n",
    "ys = f(xs)\n",
    "plt.plot(xs, ys)"
   ]
  },
  {
   "cell_type": "code",
   "execution_count": 12,
   "id": "0afd0760-251d-477e-91e2-f6f5f595937d",
   "metadata": {
    "tags": []
   },
   "outputs": [
    {
     "data": {
      "text/plain": [
       "-21.996999999998934"
      ]
     },
     "execution_count": 12,
     "metadata": {},
     "output_type": "execute_result"
    }
   ],
   "source": [
    "h = 0.001\n",
    "x = -3.0\n",
    "(f(x + h) - f(x))/h"
   ]
  },
  {
   "cell_type": "code",
   "execution_count": 14,
   "id": "f436faaf-238b-4bc2-959a-a4f6fa8007bf",
   "metadata": {
    "tags": []
   },
   "outputs": [
    {
     "name": "stdout",
     "output_type": "stream",
     "text": [
      "4.0\n"
     ]
    }
   ],
   "source": [
    "a = 2.0\n",
    "b = -3.0\n",
    "c = 10.0\n",
    "d = a*b + c\n",
    "print(d)"
   ]
  },
  {
   "cell_type": "code",
   "execution_count": 17,
   "id": "06ee8765-e2ed-4934-8bd3-b85b3ed52bfd",
   "metadata": {
    "tags": []
   },
   "outputs": [
    {
     "name": "stdout",
     "output_type": "stream",
     "text": [
      "d1 4.0\n",
      "d2 4.0002\n",
      "slope 2.0000000000042206\n"
     ]
    }
   ],
   "source": [
    "h = 0.0001\n",
    "\n",
    "# inputs\n",
    "a = 2.0\n",
    "b = -3.0\n",
    "c = 10.0\n",
    "\n",
    "d1 = a*b + c\n",
    "b += h\n",
    "d2 = a*b + c\n",
    "\n",
    "print('d1', d1)\n",
    "print('d2', d2)\n",
    "print('slope', (d2-d1)/h)\n"
   ]
  },
  {
   "cell_type": "code",
   "execution_count": 9,
   "id": "8de01053-85e8-49e3-86e7-39cd8756f470",
   "metadata": {
    "tags": []
   },
   "outputs": [],
   "source": [
    "class Value:\n",
    "  \n",
    "  def __init__(self, data, _children=(), _op='', label=''):\n",
    "    self.data = data\n",
    "    self.grad = 0.0\n",
    "    self._backward = lambda: None\n",
    "    self._prev = set(_children)\n",
    "    self._op = _op\n",
    "    self.label = label\n",
    "\n",
    "  def __repr__(self):\n",
    "    return f\"Value(data={self.data})\"\n",
    "  \n",
    "  def __add__(self, other):\n",
    "    other = other if isinstance(other, Value) else Value(other)\n",
    "    out = Value(self.data + other.data, (self, other), '+')\n",
    "    \n",
    "    def _backward():\n",
    "      self.grad += 1.0 * out.grad\n",
    "      other.grad += 1.0 * out.grad\n",
    "    out._backward = _backward\n",
    "    \n",
    "    return out\n",
    "\n",
    "  def __mul__(self, other):\n",
    "    other = other if isinstance(other, Value) else Value(other)\n",
    "    out = Value(self.data * other.data, (self, other), '*')\n",
    "    \n",
    "    def _backward():\n",
    "      self.grad += other.data * out.grad\n",
    "      other.grad += self.data * out.grad\n",
    "    out._backward = _backward\n",
    "      \n",
    "    return out\n",
    "  \n",
    "  def __pow__(self, other):\n",
    "    assert isinstance(other, (int, float)), \"only supporting int/float powers for now\"\n",
    "    out = Value(self.data**other, (self,), f'**{other}')\n",
    "\n",
    "    def _backward():\n",
    "        self.grad += other * (self.data ** (other - 1)) * out.grad\n",
    "    out._backward = _backward\n",
    "\n",
    "    return out\n",
    "  \n",
    "  def __rmul__(self, other): # other * self\n",
    "    return self * other\n",
    "\n",
    "  def __truediv__(self, other): # self / other\n",
    "    return self * other**-1\n",
    "\n",
    "  def __neg__(self): # -self\n",
    "    return self * -1\n",
    "\n",
    "  def __sub__(self, other): # self - other\n",
    "    return self + (-other)\n",
    "\n",
    "  def __radd__(self, other): # other + self\n",
    "    return self + other\n",
    "\n",
    "  def tanh(self):\n",
    "    x = self.data\n",
    "    t = (math.exp(2*x) - 1)/(math.exp(2*x) + 1)\n",
    "    out = Value(t, (self, ), 'tanh')\n",
    "    \n",
    "    def _backward():\n",
    "      self.grad += (1 - t**2) * out.grad\n",
    "    out._backward = _backward\n",
    "    \n",
    "    return out\n",
    "  \n",
    "  def exp(self):\n",
    "    x = self.data\n",
    "    out = Value(math.exp(x), (self, ), 'exp')\n",
    "    \n",
    "    def _backward():\n",
    "      self.grad += out.data * out.grad # NOTE: in the video I incorrectly used = instead of +=. Fixed here.\n",
    "    out._backward = _backward\n",
    "    \n",
    "    return out\n",
    "  \n",
    "  \n",
    "  def backward(self):\n",
    "    \n",
    "    topo = []\n",
    "    visited = set()\n",
    "    def build_topo(v):\n",
    "      if v not in visited:\n",
    "        visited.add(v)\n",
    "        for child in v._prev:\n",
    "          build_topo(child)\n",
    "        topo.append(v)\n",
    "    build_topo(self)\n",
    "    \n",
    "    self.grad = 1.0\n",
    "    for node in reversed(topo):\n",
    "      node._backward()"
   ]
  },
  {
   "cell_type": "code",
   "execution_count": 110,
   "id": "e09c8f8e-51b2-42d3-8578-7ac3e1c428b4",
   "metadata": {
    "tags": []
   },
   "outputs": [
    {
     "data": {
      "text/plain": [
       "Value(data=-2.0)"
      ]
     },
     "execution_count": 110,
     "metadata": {},
     "output_type": "execute_result"
    }
   ],
   "source": [
    "a = Value(2.0)\n",
    "b = Value(4.0)\n",
    "a-b"
   ]
  },
  {
   "cell_type": "code",
   "execution_count": 3,
   "id": "ac89baf2-8b06-44a9-a6cc-05555a0d8d77",
   "metadata": {
    "tags": []
   },
   "outputs": [
    {
     "data": {
      "text/plain": [
       "'+'"
      ]
     },
     "execution_count": 3,
     "metadata": {},
     "output_type": "execute_result"
    }
   ],
   "source": [
    "d._op"
   ]
  },
  {
   "cell_type": "code",
   "execution_count": 40,
   "id": "0a596692-bed6-43db-99ab-0c510aab076d",
   "metadata": {
    "tags": []
   },
   "outputs": [],
   "source": [
    "from graphviz import Digraph\n",
    "\n",
    "def trace(root):\n",
    "  # builds a set of all nodes and edges in a graph\n",
    "  nodes, edges = set(), set()\n",
    "  def build(v):\n",
    "    if v not in nodes:\n",
    "      nodes.add(v)\n",
    "      for child in v._prev:\n",
    "        edges.add((child, v))\n",
    "        build(child)\n",
    "  build(root)\n",
    "  return nodes, edges\n",
    "def draw_dot(root):\n",
    "    dot = Digraph(format='svg', graph_attr={'rankdir': 'LR'}) # LR = left to right\\n\",\n",
    "\n",
    "    nodes, edges = trace(root)\n",
    "    for n in nodes:\n",
    "        uid = str(id(n))\n",
    "        # for any value in the graph, create a rectangular ('record') node for it\n",
    "        dot.node(name = uid, label = \"{ %s | data %.4f | grad %.4f }\" % (n.label, n.data, n.grad), shape='record')\n",
    "        if n._op:\n",
    "        # if this value is a result of some operation, create an op node for it\n",
    "            dot.node(name = uid + n._op, label = n._op)\n",
    "            # and connect this node to it\n",
    "            dot.edge(uid + n._op, uid)\n",
    "    for n1, n2 in edges:\n",
    "      # connect n1 to the op node of n2\n",
    "        dot.edge(str(id(n1)), str(id(n2)) + n2._op)\n",
    "\n",
    "    return dot"
   ]
  },
  {
   "cell_type": "code",
   "execution_count": 29,
   "id": "fcbdc6b0-1e3f-4687-b4cb-39c83af30383",
   "metadata": {
    "tags": []
   },
   "outputs": [
    {
     "data": {
      "image/svg+xml": [
       "<?xml version=\"1.0\" encoding=\"UTF-8\" standalone=\"no\"?>\n",
       "<!DOCTYPE svg PUBLIC \"-//W3C//DTD SVG 1.1//EN\"\n",
       " \"http://www.w3.org/Graphics/SVG/1.1/DTD/svg11.dtd\">\n",
       "<!-- Generated by graphviz version 7.1.0 (20230121.1956)\n",
       " -->\n",
       "<!-- Pages: 1 -->\n",
       "<svg width=\"1182pt\" height=\"156pt\"\n",
       " viewBox=\"0.00 0.00 1182.00 156.00\" xmlns=\"http://www.w3.org/2000/svg\" xmlns:xlink=\"http://www.w3.org/1999/xlink\">\n",
       "<g id=\"graph0\" class=\"graph\" transform=\"scale(1 1) rotate(0) translate(4 152)\">\n",
       "<polygon fill=\"white\" stroke=\"none\" points=\"-4,4 -4,-152 1178,-152 1178,4 -4,4\"/>\n",
       "<!-- 2306682688144 -->\n",
       "<g id=\"node1\" class=\"node\">\n",
       "<title>2306682688144</title>\n",
       "<polygon fill=\"none\" stroke=\"black\" points=\"980,-27.5 980,-63.5 1174,-63.5 1174,-27.5 980,-27.5\"/>\n",
       "<text text-anchor=\"middle\" x=\"992.5\" y=\"-41.8\" font-family=\"Times New Roman,serif\" font-size=\"14.00\">L</text>\n",
       "<polyline fill=\"none\" stroke=\"black\" points=\"1005,-27.5 1005,-63.5\"/>\n",
       "<text text-anchor=\"middle\" x=\"1048\" y=\"-41.8\" font-family=\"Times New Roman,serif\" font-size=\"14.00\">data &#45;8.0000</text>\n",
       "<polyline fill=\"none\" stroke=\"black\" points=\"1091,-27.5 1091,-63.5\"/>\n",
       "<text text-anchor=\"middle\" x=\"1132.5\" y=\"-41.8\" font-family=\"Times New Roman,serif\" font-size=\"14.00\">grad 1.0000</text>\n",
       "</g>\n",
       "<!-- 2306682688144* -->\n",
       "<g id=\"node2\" class=\"node\">\n",
       "<title>2306682688144*</title>\n",
       "<ellipse fill=\"none\" stroke=\"black\" cx=\"917\" cy=\"-45.5\" rx=\"27\" ry=\"18\"/>\n",
       "<text text-anchor=\"middle\" x=\"917\" y=\"-41.8\" font-family=\"Times New Roman,serif\" font-size=\"14.00\">*</text>\n",
       "</g>\n",
       "<!-- 2306682688144*&#45;&gt;2306682688144 -->\n",
       "<g id=\"edge1\" class=\"edge\">\n",
       "<title>2306682688144*&#45;&gt;2306682688144</title>\n",
       "<path fill=\"none\" stroke=\"black\" d=\"M944.45,-45.5C951.67,-45.5 959.97,-45.5 968.82,-45.5\"/>\n",
       "<polygon fill=\"black\" stroke=\"black\" points=\"968.75,-49 978.75,-45.5 968.75,-42 968.75,-49\"/>\n",
       "</g>\n",
       "<!-- 2306682686608 -->\n",
       "<g id=\"node3\" class=\"node\">\n",
       "<title>2306682686608</title>\n",
       "<polygon fill=\"none\" stroke=\"black\" points=\"657.5,-55.5 657.5,-91.5 849.5,-91.5 849.5,-55.5 657.5,-55.5\"/>\n",
       "<text text-anchor=\"middle\" x=\"669.5\" y=\"-69.8\" font-family=\"Times New Roman,serif\" font-size=\"14.00\">d</text>\n",
       "<polyline fill=\"none\" stroke=\"black\" points=\"681.5,-55.5 681.5,-91.5\"/>\n",
       "<text text-anchor=\"middle\" x=\"722\" y=\"-69.8\" font-family=\"Times New Roman,serif\" font-size=\"14.00\">data 4.0000</text>\n",
       "<polyline fill=\"none\" stroke=\"black\" points=\"762.5,-55.5 762.5,-91.5\"/>\n",
       "<text text-anchor=\"middle\" x=\"806\" y=\"-69.8\" font-family=\"Times New Roman,serif\" font-size=\"14.00\">grad &#45;2.0000</text>\n",
       "</g>\n",
       "<!-- 2306682686608&#45;&gt;2306682688144* -->\n",
       "<g id=\"edge4\" class=\"edge\">\n",
       "<title>2306682686608&#45;&gt;2306682688144*</title>\n",
       "<path fill=\"none\" stroke=\"black\" d=\"M849.38,-57.05C859.88,-55.23 870.06,-53.47 879.16,-51.89\"/>\n",
       "<polygon fill=\"black\" stroke=\"black\" points=\"879.7,-55.35 888.96,-50.19 878.51,-48.45 879.7,-55.35\"/>\n",
       "</g>\n",
       "<!-- 2306682686608+ -->\n",
       "<g id=\"node4\" class=\"node\">\n",
       "<title>2306682686608+</title>\n",
       "<ellipse fill=\"none\" stroke=\"black\" cx=\"590\" cy=\"-73.5\" rx=\"27\" ry=\"18\"/>\n",
       "<text text-anchor=\"middle\" x=\"590\" y=\"-69.8\" font-family=\"Times New Roman,serif\" font-size=\"14.00\">+</text>\n",
       "</g>\n",
       "<!-- 2306682686608+&#45;&gt;2306682686608 -->\n",
       "<g id=\"edge2\" class=\"edge\">\n",
       "<title>2306682686608+&#45;&gt;2306682686608</title>\n",
       "<path fill=\"none\" stroke=\"black\" d=\"M617.31,-73.5C625.8,-73.5 635.79,-73.5 646.44,-73.5\"/>\n",
       "<polygon fill=\"black\" stroke=\"black\" points=\"646.22,-77 656.22,-73.5 646.22,-70 646.22,-77\"/>\n",
       "</g>\n",
       "<!-- 2306682699408 -->\n",
       "<g id=\"node5\" class=\"node\">\n",
       "<title>2306682699408</title>\n",
       "<polygon fill=\"none\" stroke=\"black\" points=\"327,-83.5 327,-119.5 523,-119.5 523,-83.5 327,-83.5\"/>\n",
       "<text text-anchor=\"middle\" x=\"338.5\" y=\"-97.8\" font-family=\"Times New Roman,serif\" font-size=\"14.00\">e</text>\n",
       "<polyline fill=\"none\" stroke=\"black\" points=\"350,-83.5 350,-119.5\"/>\n",
       "<text text-anchor=\"middle\" x=\"393\" y=\"-97.8\" font-family=\"Times New Roman,serif\" font-size=\"14.00\">data &#45;6.0000</text>\n",
       "<polyline fill=\"none\" stroke=\"black\" points=\"436,-83.5 436,-119.5\"/>\n",
       "<text text-anchor=\"middle\" x=\"479.5\" y=\"-97.8\" font-family=\"Times New Roman,serif\" font-size=\"14.00\">grad &#45;2.0000</text>\n",
       "</g>\n",
       "<!-- 2306682699408&#45;&gt;2306682686608+ -->\n",
       "<g id=\"edge5\" class=\"edge\">\n",
       "<title>2306682699408&#45;&gt;2306682686608+</title>\n",
       "<path fill=\"none\" stroke=\"black\" d=\"M522.7,-84.89C533.09,-83.1 543.14,-81.38 552.14,-79.83\"/>\n",
       "<polygon fill=\"black\" stroke=\"black\" points=\"552.55,-83.31 561.82,-78.17 551.37,-76.41 552.55,-83.31\"/>\n",
       "</g>\n",
       "<!-- 2306682699408* -->\n",
       "<g id=\"node6\" class=\"node\">\n",
       "<title>2306682699408*</title>\n",
       "<ellipse fill=\"none\" stroke=\"black\" cx=\"260\" cy=\"-101.5\" rx=\"27\" ry=\"18\"/>\n",
       "<text text-anchor=\"middle\" x=\"260\" y=\"-97.8\" font-family=\"Times New Roman,serif\" font-size=\"14.00\">*</text>\n",
       "</g>\n",
       "<!-- 2306682699408*&#45;&gt;2306682699408 -->\n",
       "<g id=\"edge3\" class=\"edge\">\n",
       "<title>2306682699408*&#45;&gt;2306682699408</title>\n",
       "<path fill=\"none\" stroke=\"black\" d=\"M287.19,-101.5C295.6,-101.5 305.51,-101.5 316.08,-101.5\"/>\n",
       "<polygon fill=\"black\" stroke=\"black\" points=\"315.79,-105 325.79,-101.5 315.79,-98 315.79,-105\"/>\n",
       "</g>\n",
       "<!-- 2306682695888 -->\n",
       "<g id=\"node7\" class=\"node\">\n",
       "<title>2306682695888</title>\n",
       "<polygon fill=\"none\" stroke=\"black\" points=\"0,-111.5 0,-147.5 197,-147.5 197,-111.5 0,-111.5\"/>\n",
       "<text text-anchor=\"middle\" x=\"12\" y=\"-125.8\" font-family=\"Times New Roman,serif\" font-size=\"14.00\">b</text>\n",
       "<polyline fill=\"none\" stroke=\"black\" points=\"24,-111.5 24,-147.5\"/>\n",
       "<text text-anchor=\"middle\" x=\"67\" y=\"-125.8\" font-family=\"Times New Roman,serif\" font-size=\"14.00\">data &#45;3.0000</text>\n",
       "<polyline fill=\"none\" stroke=\"black\" points=\"110,-111.5 110,-147.5\"/>\n",
       "<text text-anchor=\"middle\" x=\"153.5\" y=\"-125.8\" font-family=\"Times New Roman,serif\" font-size=\"14.00\">grad &#45;4.0000</text>\n",
       "</g>\n",
       "<!-- 2306682695888&#45;&gt;2306682699408* -->\n",
       "<g id=\"edge6\" class=\"edge\">\n",
       "<title>2306682695888&#45;&gt;2306682699408*</title>\n",
       "<path fill=\"none\" stroke=\"black\" d=\"M196.88,-112.41C205.84,-110.83 214.48,-109.32 222.33,-107.94\"/>\n",
       "<polygon fill=\"black\" stroke=\"black\" points=\"222.84,-111.4 232.08,-106.23 221.63,-104.51 222.84,-111.4\"/>\n",
       "</g>\n",
       "<!-- 2306682690896 -->\n",
       "<g id=\"node8\" class=\"node\">\n",
       "<title>2306682690896</title>\n",
       "<polygon fill=\"none\" stroke=\"black\" points=\"5,-56.5 5,-92.5 192,-92.5 192,-56.5 5,-56.5\"/>\n",
       "<text text-anchor=\"middle\" x=\"16.5\" y=\"-70.8\" font-family=\"Times New Roman,serif\" font-size=\"14.00\">a</text>\n",
       "<polyline fill=\"none\" stroke=\"black\" points=\"28,-56.5 28,-92.5\"/>\n",
       "<text text-anchor=\"middle\" x=\"68.5\" y=\"-70.8\" font-family=\"Times New Roman,serif\" font-size=\"14.00\">data 2.0000</text>\n",
       "<polyline fill=\"none\" stroke=\"black\" points=\"109,-56.5 109,-92.5\"/>\n",
       "<text text-anchor=\"middle\" x=\"150.5\" y=\"-70.8\" font-family=\"Times New Roman,serif\" font-size=\"14.00\">grad 6.0000</text>\n",
       "</g>\n",
       "<!-- 2306682690896&#45;&gt;2306682699408* -->\n",
       "<g id=\"edge9\" class=\"edge\">\n",
       "<title>2306682690896&#45;&gt;2306682699408*</title>\n",
       "<path fill=\"none\" stroke=\"black\" d=\"M191.82,-90.13C202.57,-91.95 213.01,-93.72 222.33,-95.29\"/>\n",
       "<polygon fill=\"black\" stroke=\"black\" points=\"221.54,-98.71 231.98,-96.93 222.71,-91.81 221.54,-98.71\"/>\n",
       "</g>\n",
       "<!-- 2306682689936 -->\n",
       "<g id=\"node9\" class=\"node\">\n",
       "<title>2306682689936</title>\n",
       "<polygon fill=\"none\" stroke=\"black\" points=\"323,-28.5 323,-64.5 527,-64.5 527,-28.5 323,-28.5\"/>\n",
       "<text text-anchor=\"middle\" x=\"337.5\" y=\"-42.8\" font-family=\"Times New Roman,serif\" font-size=\"14.00\">ac</text>\n",
       "<polyline fill=\"none\" stroke=\"black\" points=\"352,-28.5 352,-64.5\"/>\n",
       "<text text-anchor=\"middle\" x=\"396\" y=\"-42.8\" font-family=\"Times New Roman,serif\" font-size=\"14.00\">data 10.0000</text>\n",
       "<polyline fill=\"none\" stroke=\"black\" points=\"440,-28.5 440,-64.5\"/>\n",
       "<text text-anchor=\"middle\" x=\"483.5\" y=\"-42.8\" font-family=\"Times New Roman,serif\" font-size=\"14.00\">grad &#45;2.0000</text>\n",
       "</g>\n",
       "<!-- 2306682689936&#45;&gt;2306682686608+ -->\n",
       "<g id=\"edge7\" class=\"edge\">\n",
       "<title>2306682689936&#45;&gt;2306682686608+</title>\n",
       "<path fill=\"none\" stroke=\"black\" d=\"M526.91,-63.22C535.82,-64.69 544.4,-66.11 552.19,-67.4\"/>\n",
       "<polygon fill=\"black\" stroke=\"black\" points=\"551.42,-70.82 561.86,-69 552.57,-63.92 551.42,-70.82\"/>\n",
       "</g>\n",
       "<!-- 2306682688464 -->\n",
       "<g id=\"node10\" class=\"node\">\n",
       "<title>2306682688464</title>\n",
       "<polygon fill=\"none\" stroke=\"black\" points=\"653,-0.5 653,-36.5 854,-36.5 854,-0.5 653,-0.5\"/>\n",
       "<text text-anchor=\"middle\" x=\"663.5\" y=\"-14.8\" font-family=\"Times New Roman,serif\" font-size=\"14.00\">f</text>\n",
       "<polyline fill=\"none\" stroke=\"black\" points=\"674,-0.5 674,-36.5\"/>\n",
       "<text text-anchor=\"middle\" x=\"717\" y=\"-14.8\" font-family=\"Times New Roman,serif\" font-size=\"14.00\">data &#45;2.0000</text>\n",
       "<polyline fill=\"none\" stroke=\"black\" points=\"760,-0.5 760,-36.5\"/>\n",
       "<text text-anchor=\"middle\" x=\"807\" y=\"-14.8\" font-family=\"Times New Roman,serif\" font-size=\"14.00\">grad &#45;60.0000</text>\n",
       "</g>\n",
       "<!-- 2306682688464&#45;&gt;2306682688144* -->\n",
       "<g id=\"edge8\" class=\"edge\">\n",
       "<title>2306682688464&#45;&gt;2306682688144*</title>\n",
       "<path fill=\"none\" stroke=\"black\" d=\"M853.56,-35.06C862.58,-36.57 871.28,-38.02 879.17,-39.34\"/>\n",
       "<polygon fill=\"black\" stroke=\"black\" points=\"878.53,-42.78 888.97,-40.98 879.69,-35.88 878.53,-42.78\"/>\n",
       "</g>\n",
       "</g>\n",
       "</svg>\n"
      ],
      "text/plain": [
       "<graphviz.graphs.Digraph at 0x219110099d0>"
      ]
     },
     "execution_count": 29,
     "metadata": {},
     "output_type": "execute_result"
    }
   ],
   "source": [
    "draw_dot(L)"
   ]
  },
  {
   "cell_type": "code",
   "execution_count": 31,
   "id": "6a428f86-69d4-4738-8cd9-d568be251c0d",
   "metadata": {
    "tags": []
   },
   "outputs": [
    {
     "name": "stdout",
     "output_type": "stream",
     "text": [
      "-10.977280000000002\n"
     ]
    }
   ],
   "source": [
    "a.data += 0.01 * a.grad\n",
    "b.data += 0.01 * b.grad\n",
    "c.data += 0.01 * c.grad\n",
    "f.data += 0.01 * f.grad\n",
    "\n",
    "e = a*b\n",
    "d = e+c\n",
    "L = d * f\n",
    "\n",
    "print(L.data)"
   ]
  },
  {
   "cell_type": "code",
   "execution_count": 28,
   "id": "69c8c54e-493f-4ab9-960a-26d599ae23c2",
   "metadata": {
    "tags": []
   },
   "outputs": [],
   "source": [
    "a.grad = (-2.0 * -3.0)\n",
    "b.grad = (-2.0 * 2.0)"
   ]
  },
  {
   "cell_type": "code",
   "execution_count": 12,
   "id": "76f33a60-268c-4771-a7dd-c8b0167152d6",
   "metadata": {},
   "outputs": [
    {
     "name": "stdout",
     "output_type": "stream",
     "text": [
      "9.999999999976694e-05\n",
      "0.9999999999976694\n"
     ]
    }
   ],
   "source": [
    "def lol():\n",
    "    \n",
    "    h = 0.0001\n",
    "    \n",
    "    a = Value(2.0, label='a')\n",
    "    b = Value(-3.0, label='b')\n",
    "    c = Value(10.0, label='ac')\n",
    "    d = a * b + c\n",
    "    e = a*b; e.label = 'e'\n",
    "    d = e+c; d.label = 'd'\n",
    "    f = Value(-2.0 , label ='f')\n",
    "    L = d * f; L.label = 'L'\n",
    "    L1 = L.data\n",
    "    \n",
    "    a = Value(2.0, label='a')\n",
    "    b = Value(-3.0, label='b')\n",
    "    c = Value(10.0, label='ac')\n",
    "    d = a * b + c\n",
    "    e = a*b; e.label = 'e'\n",
    "    d = e+c; d.label = 'd'\n",
    "    f = Value(-2.0 , label ='f')\n",
    "    L = d * f; L.label = 'L'\n",
    "    L2 = L.data + h\n",
    "    \n",
    "    print (L2-L1);\n",
    "    print((L2-L1)/h)\n",
    "\n",
    "lol()"
   ]
  },
  {
   "cell_type": "code",
   "execution_count": 34,
   "id": "c1677755-a540-4af0-a867-815c8d15920e",
   "metadata": {
    "tags": []
   },
   "outputs": [
    {
     "data": {
      "image/png": "[encoded data removed]",
      "text/plain": [
       "<Figure size 640x480 with 1 Axes>"
      ]
     },
     "metadata": {},
     "output_type": "display_data"
    }
   ],
   "source": [
    "plt.plot(np.arange(-5, 5, 0.2), np.tanh(np.arange(-5, 5, 0.2))); plt.grid();"
   ]
  },
  {
   "cell_type": "code",
   "execution_count": 112,
   "id": "10eea0b7-92e5-4cb9-a6e2-85cf45ca6481",
   "metadata": {
    "tags": []
   },
   "outputs": [],
   "source": [
    "#inputs x1, x2\n",
    "x1 = Value(2.0, label='x1')\n",
    "x2 = Value(0.0, label='x2')\n",
    "#weights w1, w2\n",
    "w1 = Value(-3.0, label='w1')\n",
    "w2 = Value(1.0, label='w2')\n",
    "#bias of the neuron\n",
    "b = Value(6.884513513516544987545, label='b')\n",
    "\n",
    "x1w1 = x1 * w1; x1w1.label = 'x1w1'\n",
    "x2w2 = x2 * w2; x2w2.label = 'x2w2'\n",
    "x1w1x2w2 = x1w1 + x2w2; x1w1x2w2.label = 'x1w1x2w2'\n",
    "n = x1w1x2w2 + b; n.label = 'n'\n",
    "o = n.tanh(); o.label = 'o'\n",
    "o.backward()"
   ]
  },
  {
   "cell_type": "code",
   "execution_count": 113,
   "id": "411e4758-ea11-4390-8435-0e5a4a3d274f",
   "metadata": {
    "tags": []
   },
   "outputs": [
    {
     "data": {
      "image/svg+xml": [
       "<?xml version=\"1.0\" encoding=\"UTF-8\" standalone=\"no\"?>\n",
       "<!DOCTYPE svg PUBLIC \"-//W3C//DTD SVG 1.1//EN\"\n",
       " \"http://www.w3.org/Graphics/SVG/1.1/DTD/svg11.dtd\">\n",
       "<!-- Generated by graphviz version 7.1.0 (20230121.1956)\n",
       " -->\n",
       "<!-- Pages: 1 -->\n",
       "<svg width=\"1551pt\" height=\"210pt\"\n",
       " viewBox=\"0.00 0.00 1551.00 210.00\" xmlns=\"http://www.w3.org/2000/svg\" xmlns:xlink=\"http://www.w3.org/1999/xlink\">\n",
       "<g id=\"graph0\" class=\"graph\" transform=\"scale(1 1) rotate(0) translate(4 206)\">\n",
       "<polygon fill=\"white\" stroke=\"none\" points=\"-4,4 -4,-206 1547,-206 1547,4 -4,4\"/>\n",
       "<!-- 2307276155024 -->\n",
       "<g id=\"node1\" class=\"node\">\n",
       "<title>2307276155024</title>\n",
       "<polygon fill=\"none\" stroke=\"black\" points=\"670,-82.5 670,-118.5 916,-118.5 916,-82.5 670,-82.5\"/>\n",
       "<text text-anchor=\"middle\" x=\"708.5\" y=\"-96.8\" font-family=\"Times New Roman,serif\" font-size=\"14.00\">x1w1x2w2</text>\n",
       "<polyline fill=\"none\" stroke=\"black\" points=\"747,-82.5 747,-118.5\"/>\n",
       "<text text-anchor=\"middle\" x=\"790\" y=\"-96.8\" font-family=\"Times New Roman,serif\" font-size=\"14.00\">data &#45;6.0000</text>\n",
       "<polyline fill=\"none\" stroke=\"black\" points=\"833,-82.5 833,-118.5\"/>\n",
       "<text text-anchor=\"middle\" x=\"874.5\" y=\"-96.8\" font-family=\"Times New Roman,serif\" font-size=\"14.00\">grad 0.4978</text>\n",
       "</g>\n",
       "<!-- 2307276155088+ -->\n",
       "<g id=\"node5\" class=\"node\">\n",
       "<title>2307276155088+</title>\n",
       "<ellipse fill=\"none\" stroke=\"black\" cx=\"979\" cy=\"-127.5\" rx=\"27\" ry=\"18\"/>\n",
       "<text text-anchor=\"middle\" x=\"979\" y=\"-123.8\" font-family=\"Times New Roman,serif\" font-size=\"14.00\">+</text>\n",
       "</g>\n",
       "<!-- 2307276155024&#45;&gt;2307276155088+ -->\n",
       "<g id=\"edge13\" class=\"edge\">\n",
       "<title>2307276155024&#45;&gt;2307276155088+</title>\n",
       "<path fill=\"none\" stroke=\"black\" d=\"M915.96,-118.4C924.79,-119.69 933.21,-120.93 940.83,-122.05\"/>\n",
       "<polygon fill=\"black\" stroke=\"black\" points=\"940.21,-125.49 950.61,-123.48 941.23,-118.57 940.21,-125.49\"/>\n",
       "</g>\n",
       "<!-- 2307276155024+ -->\n",
       "<g id=\"node2\" class=\"node\">\n",
       "<title>2307276155024+</title>\n",
       "<ellipse fill=\"none\" stroke=\"black\" cx=\"607\" cy=\"-100.5\" rx=\"27\" ry=\"18\"/>\n",
       "<text text-anchor=\"middle\" x=\"607\" y=\"-96.8\" font-family=\"Times New Roman,serif\" font-size=\"14.00\">+</text>\n",
       "</g>\n",
       "<!-- 2307276155024+&#45;&gt;2307276155024 -->\n",
       "<g id=\"edge1\" class=\"edge\">\n",
       "<title>2307276155024+&#45;&gt;2307276155024</title>\n",
       "<path fill=\"none\" stroke=\"black\" d=\"M634.36,-100.5C641.57,-100.5 649.9,-100.5 658.88,-100.5\"/>\n",
       "<polygon fill=\"black\" stroke=\"black\" points=\"658.62,-104 668.62,-100.5 658.62,-97 658.62,-104\"/>\n",
       "</g>\n",
       "<!-- 2307276148368 -->\n",
       "<g id=\"node3\" class=\"node\">\n",
       "<title>2307276148368</title>\n",
       "<polygon fill=\"none\" stroke=\"black\" points=\"2.5,-165.5 2.5,-201.5 199.5,-201.5 199.5,-165.5 2.5,-165.5\"/>\n",
       "<text text-anchor=\"middle\" x=\"19\" y=\"-179.8\" font-family=\"Times New Roman,serif\" font-size=\"14.00\">w2</text>\n",
       "<polyline fill=\"none\" stroke=\"black\" points=\"35.5,-165.5 35.5,-201.5\"/>\n",
       "<text text-anchor=\"middle\" x=\"76\" y=\"-179.8\" font-family=\"Times New Roman,serif\" font-size=\"14.00\">data 1.0000</text>\n",
       "<polyline fill=\"none\" stroke=\"black\" points=\"116.5,-165.5 116.5,-201.5\"/>\n",
       "<text text-anchor=\"middle\" x=\"158\" y=\"-179.8\" font-family=\"Times New Roman,serif\" font-size=\"14.00\">grad 0.0000</text>\n",
       "</g>\n",
       "<!-- 2307276154064* -->\n",
       "<g id=\"node7\" class=\"node\">\n",
       "<title>2307276154064*</title>\n",
       "<ellipse fill=\"none\" stroke=\"black\" cx=\"265\" cy=\"-128.5\" rx=\"27\" ry=\"18\"/>\n",
       "<text text-anchor=\"middle\" x=\"265\" y=\"-124.8\" font-family=\"Times New Roman,serif\" font-size=\"14.00\">*</text>\n",
       "</g>\n",
       "<!-- 2307276148368&#45;&gt;2307276154064* -->\n",
       "<g id=\"edge11\" class=\"edge\">\n",
       "<title>2307276148368&#45;&gt;2307276154064*</title>\n",
       "<path fill=\"none\" stroke=\"black\" d=\"M173.99,-165.56C183.48,-162.75 193.03,-159.71 202,-156.5 212.1,-152.88 222.83,-148.31 232.49,-143.91\"/>\n",
       "<polygon fill=\"black\" stroke=\"black\" points=\"233.88,-147.12 241.46,-139.72 230.92,-140.78 233.88,-147.12\"/>\n",
       "</g>\n",
       "<!-- 2307276155088 -->\n",
       "<g id=\"node4\" class=\"node\">\n",
       "<title>2307276155088</title>\n",
       "<polygon fill=\"none\" stroke=\"black\" points=\"1042,-109.5 1042,-145.5 1229,-145.5 1229,-109.5 1042,-109.5\"/>\n",
       "<text text-anchor=\"middle\" x=\"1053.5\" y=\"-123.8\" font-family=\"Times New Roman,serif\" font-size=\"14.00\">n</text>\n",
       "<polyline fill=\"none\" stroke=\"black\" points=\"1065,-109.5 1065,-145.5\"/>\n",
       "<text text-anchor=\"middle\" x=\"1105.5\" y=\"-123.8\" font-family=\"Times New Roman,serif\" font-size=\"14.00\">data 0.8845</text>\n",
       "<polyline fill=\"none\" stroke=\"black\" points=\"1146,-109.5 1146,-145.5\"/>\n",
       "<text text-anchor=\"middle\" x=\"1187.5\" y=\"-123.8\" font-family=\"Times New Roman,serif\" font-size=\"14.00\">grad 0.4978</text>\n",
       "</g>\n",
       "<!-- 2307270435792tanh -->\n",
       "<g id=\"node15\" class=\"node\">\n",
       "<title>2307270435792tanh</title>\n",
       "<ellipse fill=\"none\" stroke=\"black\" cx=\"1292\" cy=\"-127.5\" rx=\"27\" ry=\"18\"/>\n",
       "<text text-anchor=\"middle\" x=\"1292\" y=\"-123.8\" font-family=\"Times New Roman,serif\" font-size=\"14.00\">tanh</text>\n",
       "</g>\n",
       "<!-- 2307276155088&#45;&gt;2307270435792tanh -->\n",
       "<g id=\"edge12\" class=\"edge\">\n",
       "<title>2307276155088&#45;&gt;2307270435792tanh</title>\n",
       "<path fill=\"none\" stroke=\"black\" d=\"M1228.6,-127.5C1237.26,-127.5 1245.65,-127.5 1253.33,-127.5\"/>\n",
       "<polygon fill=\"black\" stroke=\"black\" points=\"1253.23,-131 1263.23,-127.5 1253.23,-124 1253.23,-131\"/>\n",
       "</g>\n",
       "<!-- 2307276155088+&#45;&gt;2307276155088 -->\n",
       "<g id=\"edge2\" class=\"edge\">\n",
       "<title>2307276155088+&#45;&gt;2307276155088</title>\n",
       "<path fill=\"none\" stroke=\"black\" d=\"M1006.21,-127.5C1013.47,-127.5 1021.83,-127.5 1030.71,-127.5\"/>\n",
       "<polygon fill=\"black\" stroke=\"black\" points=\"1030.7,-131 1040.7,-127.5 1030.7,-124 1030.7,-131\"/>\n",
       "</g>\n",
       "<!-- 2307276154064 -->\n",
       "<g id=\"node6\" class=\"node\">\n",
       "<title>2307276154064</title>\n",
       "<polygon fill=\"none\" stroke=\"black\" points=\"330.5,-110.5 330.5,-146.5 541.5,-146.5 541.5,-110.5 330.5,-110.5\"/>\n",
       "<text text-anchor=\"middle\" x=\"354\" y=\"-124.8\" font-family=\"Times New Roman,serif\" font-size=\"14.00\">x2w2</text>\n",
       "<polyline fill=\"none\" stroke=\"black\" points=\"377.5,-110.5 377.5,-146.5\"/>\n",
       "<text text-anchor=\"middle\" x=\"418\" y=\"-124.8\" font-family=\"Times New Roman,serif\" font-size=\"14.00\">data 0.0000</text>\n",
       "<polyline fill=\"none\" stroke=\"black\" points=\"458.5,-110.5 458.5,-146.5\"/>\n",
       "<text text-anchor=\"middle\" x=\"500\" y=\"-124.8\" font-family=\"Times New Roman,serif\" font-size=\"14.00\">grad 0.4978</text>\n",
       "</g>\n",
       "<!-- 2307276154064&#45;&gt;2307276155024+ -->\n",
       "<g id=\"edge10\" class=\"edge\">\n",
       "<title>2307276154064&#45;&gt;2307276155024+</title>\n",
       "<path fill=\"none\" stroke=\"black\" d=\"M541.14,-111.25C551.14,-109.59 560.74,-108 569.36,-106.57\"/>\n",
       "<polygon fill=\"black\" stroke=\"black\" points=\"569.65,-110.07 578.94,-104.98 568.5,-103.16 569.65,-110.07\"/>\n",
       "</g>\n",
       "<!-- 2307276154064*&#45;&gt;2307276154064 -->\n",
       "<g id=\"edge3\" class=\"edge\">\n",
       "<title>2307276154064*&#45;&gt;2307276154064</title>\n",
       "<path fill=\"none\" stroke=\"black\" d=\"M292.41,-128.5C300.3,-128.5 309.5,-128.5 319.36,-128.5\"/>\n",
       "<polygon fill=\"black\" stroke=\"black\" points=\"319.22,-132 329.22,-128.5 319.22,-125 319.22,-132\"/>\n",
       "</g>\n",
       "<!-- 2307276149456 -->\n",
       "<g id=\"node8\" class=\"node\">\n",
       "<title>2307276149456</title>\n",
       "<polygon fill=\"none\" stroke=\"black\" points=\"4,-110.5 4,-146.5 198,-146.5 198,-110.5 4,-110.5\"/>\n",
       "<text text-anchor=\"middle\" x=\"19\" y=\"-124.8\" font-family=\"Times New Roman,serif\" font-size=\"14.00\">x2</text>\n",
       "<polyline fill=\"none\" stroke=\"black\" points=\"34,-110.5 34,-146.5\"/>\n",
       "<text text-anchor=\"middle\" x=\"74.5\" y=\"-124.8\" font-family=\"Times New Roman,serif\" font-size=\"14.00\">data 0.0000</text>\n",
       "<polyline fill=\"none\" stroke=\"black\" points=\"115,-110.5 115,-146.5\"/>\n",
       "<text text-anchor=\"middle\" x=\"156.5\" y=\"-124.8\" font-family=\"Times New Roman,serif\" font-size=\"14.00\">grad 0.4978</text>\n",
       "</g>\n",
       "<!-- 2307276149456&#45;&gt;2307276154064* -->\n",
       "<g id=\"edge14\" class=\"edge\">\n",
       "<title>2307276149456&#45;&gt;2307276154064*</title>\n",
       "<path fill=\"none\" stroke=\"black\" d=\"M197.64,-128.5C207.72,-128.5 217.49,-128.5 226.29,-128.5\"/>\n",
       "<polygon fill=\"black\" stroke=\"black\" points=\"226.11,-132 236.11,-128.5 226.11,-125 226.11,-132\"/>\n",
       "</g>\n",
       "<!-- 2307276152720 -->\n",
       "<g id=\"node9\" class=\"node\">\n",
       "<title>2307276152720</title>\n",
       "<polygon fill=\"none\" stroke=\"black\" points=\"699,-137.5 699,-173.5 887,-173.5 887,-137.5 699,-137.5\"/>\n",
       "<text text-anchor=\"middle\" x=\"711\" y=\"-151.8\" font-family=\"Times New Roman,serif\" font-size=\"14.00\">b</text>\n",
       "<polyline fill=\"none\" stroke=\"black\" points=\"723,-137.5 723,-173.5\"/>\n",
       "<text text-anchor=\"middle\" x=\"763.5\" y=\"-151.8\" font-family=\"Times New Roman,serif\" font-size=\"14.00\">data 6.8845</text>\n",
       "<polyline fill=\"none\" stroke=\"black\" points=\"804,-137.5 804,-173.5\"/>\n",
       "<text text-anchor=\"middle\" x=\"845.5\" y=\"-151.8\" font-family=\"Times New Roman,serif\" font-size=\"14.00\">grad 0.4978</text>\n",
       "</g>\n",
       "<!-- 2307276152720&#45;&gt;2307276155088+ -->\n",
       "<g id=\"edge7\" class=\"edge\">\n",
       "<title>2307276152720&#45;&gt;2307276155088+</title>\n",
       "<path fill=\"none\" stroke=\"black\" d=\"M886.81,-141.38C906.03,-138.45 925.19,-135.54 940.96,-133.14\"/>\n",
       "<polygon fill=\"black\" stroke=\"black\" points=\"941.45,-136.6 950.81,-131.64 940.39,-129.68 941.45,-136.6\"/>\n",
       "</g>\n",
       "<!-- 2307276153616 -->\n",
       "<g id=\"node10\" class=\"node\">\n",
       "<title>2307276153616</title>\n",
       "<polygon fill=\"none\" stroke=\"black\" points=\"328,-55.5 328,-91.5 544,-91.5 544,-55.5 328,-55.5\"/>\n",
       "<text text-anchor=\"middle\" x=\"351.5\" y=\"-69.8\" font-family=\"Times New Roman,serif\" font-size=\"14.00\">x1w1</text>\n",
       "<polyline fill=\"none\" stroke=\"black\" points=\"375,-55.5 375,-91.5\"/>\n",
       "<text text-anchor=\"middle\" x=\"418\" y=\"-69.8\" font-family=\"Times New Roman,serif\" font-size=\"14.00\">data &#45;6.0000</text>\n",
       "<polyline fill=\"none\" stroke=\"black\" points=\"461,-55.5 461,-91.5\"/>\n",
       "<text text-anchor=\"middle\" x=\"502.5\" y=\"-69.8\" font-family=\"Times New Roman,serif\" font-size=\"14.00\">grad 0.4978</text>\n",
       "</g>\n",
       "<!-- 2307276153616&#45;&gt;2307276155024+ -->\n",
       "<g id=\"edge6\" class=\"edge\">\n",
       "<title>2307276153616&#45;&gt;2307276155024+</title>\n",
       "<path fill=\"none\" stroke=\"black\" d=\"M543.55,-90.52C552.57,-91.96 561.22,-93.35 569.07,-94.6\"/>\n",
       "<polygon fill=\"black\" stroke=\"black\" points=\"568.37,-98.03 578.8,-96.15 569.48,-91.12 568.37,-98.03\"/>\n",
       "</g>\n",
       "<!-- 2307276153616* -->\n",
       "<g id=\"node11\" class=\"node\">\n",
       "<title>2307276153616*</title>\n",
       "<ellipse fill=\"none\" stroke=\"black\" cx=\"265\" cy=\"-73.5\" rx=\"27\" ry=\"18\"/>\n",
       "<text text-anchor=\"middle\" x=\"265\" y=\"-69.8\" font-family=\"Times New Roman,serif\" font-size=\"14.00\">*</text>\n",
       "</g>\n",
       "<!-- 2307276153616*&#45;&gt;2307276153616 -->\n",
       "<g id=\"edge4\" class=\"edge\">\n",
       "<title>2307276153616*&#45;&gt;2307276153616</title>\n",
       "<path fill=\"none\" stroke=\"black\" d=\"M292.41,-73.5C299.59,-73.5 307.85,-73.5 316.71,-73.5\"/>\n",
       "<polygon fill=\"black\" stroke=\"black\" points=\"316.7,-77 326.7,-73.5 316.7,-70 316.7,-77\"/>\n",
       "</g>\n",
       "<!-- 2307276153680 -->\n",
       "<g id=\"node12\" class=\"node\">\n",
       "<title>2307276153680</title>\n",
       "<polygon fill=\"none\" stroke=\"black\" points=\"2,-55.5 2,-91.5 200,-91.5 200,-55.5 2,-55.5\"/>\n",
       "<text text-anchor=\"middle\" x=\"17\" y=\"-69.8\" font-family=\"Times New Roman,serif\" font-size=\"14.00\">x1</text>\n",
       "<polyline fill=\"none\" stroke=\"black\" points=\"32,-55.5 32,-91.5\"/>\n",
       "<text text-anchor=\"middle\" x=\"72.5\" y=\"-69.8\" font-family=\"Times New Roman,serif\" font-size=\"14.00\">data 2.0000</text>\n",
       "<polyline fill=\"none\" stroke=\"black\" points=\"113,-55.5 113,-91.5\"/>\n",
       "<text text-anchor=\"middle\" x=\"156.5\" y=\"-69.8\" font-family=\"Times New Roman,serif\" font-size=\"14.00\">grad &#45;1.4933</text>\n",
       "</g>\n",
       "<!-- 2307276153680&#45;&gt;2307276153616* -->\n",
       "<g id=\"edge8\" class=\"edge\">\n",
       "<title>2307276153680&#45;&gt;2307276153616*</title>\n",
       "<path fill=\"none\" stroke=\"black\" d=\"M199.97,-73.5C209.29,-73.5 218.28,-73.5 226.45,-73.5\"/>\n",
       "<polygon fill=\"black\" stroke=\"black\" points=\"226.23,-77 236.23,-73.5 226.23,-70 226.23,-77\"/>\n",
       "</g>\n",
       "<!-- 2307276152208 -->\n",
       "<g id=\"node13\" class=\"node\">\n",
       "<title>2307276152208</title>\n",
       "<polygon fill=\"none\" stroke=\"black\" points=\"0,-0.5 0,-36.5 202,-36.5 202,-0.5 0,-0.5\"/>\n",
       "<text text-anchor=\"middle\" x=\"16.5\" y=\"-14.8\" font-family=\"Times New Roman,serif\" font-size=\"14.00\">w1</text>\n",
       "<polyline fill=\"none\" stroke=\"black\" points=\"33,-0.5 33,-36.5\"/>\n",
       "<text text-anchor=\"middle\" x=\"76\" y=\"-14.8\" font-family=\"Times New Roman,serif\" font-size=\"14.00\">data &#45;3.0000</text>\n",
       "<polyline fill=\"none\" stroke=\"black\" points=\"119,-0.5 119,-36.5\"/>\n",
       "<text text-anchor=\"middle\" x=\"160.5\" y=\"-14.8\" font-family=\"Times New Roman,serif\" font-size=\"14.00\">grad 0.9956</text>\n",
       "</g>\n",
       "<!-- 2307276152208&#45;&gt;2307276153616* -->\n",
       "<g id=\"edge9\" class=\"edge\">\n",
       "<title>2307276152208&#45;&gt;2307276153616*</title>\n",
       "<path fill=\"none\" stroke=\"black\" d=\"M170.98,-36.47C181.45,-39.58 192.06,-42.96 202,-46.5 211.97,-50.05 222.6,-54.44 232.19,-58.65\"/>\n",
       "<polygon fill=\"black\" stroke=\"black\" points=\"230.55,-61.75 241.11,-62.64 233.41,-55.36 230.55,-61.75\"/>\n",
       "</g>\n",
       "<!-- 2307270435792 -->\n",
       "<g id=\"node14\" class=\"node\">\n",
       "<title>2307270435792</title>\n",
       "<polygon fill=\"none\" stroke=\"black\" points=\"1355,-109.5 1355,-145.5 1543,-145.5 1543,-109.5 1355,-109.5\"/>\n",
       "<text text-anchor=\"middle\" x=\"1367\" y=\"-123.8\" font-family=\"Times New Roman,serif\" font-size=\"14.00\">o</text>\n",
       "<polyline fill=\"none\" stroke=\"black\" points=\"1379,-109.5 1379,-145.5\"/>\n",
       "<text text-anchor=\"middle\" x=\"1419.5\" y=\"-123.8\" font-family=\"Times New Roman,serif\" font-size=\"14.00\">data 0.7087</text>\n",
       "<polyline fill=\"none\" stroke=\"black\" points=\"1460,-109.5 1460,-145.5\"/>\n",
       "<text text-anchor=\"middle\" x=\"1501.5\" y=\"-123.8\" font-family=\"Times New Roman,serif\" font-size=\"14.00\">grad 1.0000</text>\n",
       "</g>\n",
       "<!-- 2307270435792tanh&#45;&gt;2307270435792 -->\n",
       "<g id=\"edge5\" class=\"edge\">\n",
       "<title>2307270435792tanh&#45;&gt;2307270435792</title>\n",
       "<path fill=\"none\" stroke=\"black\" d=\"M1319.29,-127.5C1326.52,-127.5 1334.82,-127.5 1343.66,-127.5\"/>\n",
       "<polygon fill=\"black\" stroke=\"black\" points=\"1343.57,-131 1353.57,-127.5 1343.57,-124 1343.57,-131\"/>\n",
       "</g>\n",
       "</g>\n",
       "</svg>\n"
      ],
      "text/plain": [
       "<graphviz.graphs.Digraph at 0x2193378a290>"
      ]
     },
     "execution_count": 113,
     "metadata": {},
     "output_type": "execute_result"
    }
   ],
   "source": [
    "draw_dot(o)"
   ]
  },
  {
   "cell_type": "code",
   "execution_count": 82,
   "id": "5dc70b83-43da-4dbd-9b56-71d17870ec1e",
   "metadata": {
    "tags": []
   },
   "outputs": [],
   "source": [
    "o._backward()"
   ]
  },
  {
   "cell_type": "code",
   "execution_count": 60,
   "id": "086aaae1-526b-44b2-ad7b-43e1d607301b",
   "metadata": {
    "tags": []
   },
   "outputs": [],
   "source": [
    "#o = tanh(n)\n",
    "#do/dn = d(tanh(x)/dn = 1 - tanh(n)^2 = 1 - o**2\n",
    "n.grad = 1-o.data**2"
   ]
  },
  {
   "cell_type": "code",
   "execution_count": 61,
   "id": "471b521b-7b5b-4883-9447-ed17a2d2a193",
   "metadata": {
    "tags": []
   },
   "outputs": [],
   "source": [
    "x1w1x2w2.grad = n.grad\n",
    "b.grad = n.grad\n",
    "x1w1.grad = n.grad\n",
    "x2w2.grad = n.grad"
   ]
  },
  {
   "cell_type": "code",
   "execution_count": 64,
   "id": "d35ecf64-b3f3-47d0-bddd-d44484f268a9",
   "metadata": {
    "tags": []
   },
   "outputs": [],
   "source": [
    "x2.grad = w2.data * x2w2.grad\n",
    "w2.grad = x2.data * x2w2.grad"
   ]
  },
  {
   "cell_type": "code",
   "execution_count": 66,
   "id": "f31da97d-820c-4aab-aa94-6c47826a0913",
   "metadata": {
    "tags": []
   },
   "outputs": [],
   "source": [
    "x1.grad = w1.data * x1w1.grad\n",
    "w1.grad = x1.data * x1w1.grad"
   ]
  },
  {
   "cell_type": "code",
   "execution_count": 71,
   "id": "a65dea2c-5ebf-44fc-b0cb-fd002c883050",
   "metadata": {
    "tags": []
   },
   "outputs": [],
   "source": [
    "o.grad = 1.0"
   ]
  },
  {
   "cell_type": "code",
   "execution_count": 75,
   "id": "b229a688-7c0c-41d3-ad7a-47cf843d0737",
   "metadata": {
    "tags": []
   },
   "outputs": [],
   "source": [
    "n._backward()"
   ]
  },
  {
   "cell_type": "code",
   "execution_count": 77,
   "id": "99c9c4ff-1d37-49be-8e15-d309fb38ce00",
   "metadata": {
    "tags": []
   },
   "outputs": [],
   "source": [
    "b._backward()"
   ]
  },
  {
   "cell_type": "code",
   "execution_count": 79,
   "id": "5024edc8-d753-4efe-80d5-08a551268d7f",
   "metadata": {
    "tags": []
   },
   "outputs": [],
   "source": [
    "x1w1x2w2._backward()"
   ]
  },
  {
   "cell_type": "code",
   "execution_count": 81,
   "id": "03e8fda3-d452-43a4-9ca0-e5d826bc6a7d",
   "metadata": {
    "tags": []
   },
   "outputs": [],
   "source": [
    "x1w1._backward()\n",
    "x2w2._backward()"
   ]
  },
  {
   "cell_type": "code",
   "execution_count": 86,
   "id": "a9068f33-99ff-45c2-9631-4215fd7c3ecd",
   "metadata": {
    "tags": []
   },
   "outputs": [
    {
     "data": {
      "text/plain": [
       "[Value(data=6.884513513516545),\n",
       " Value(data=-3.0),\n",
       " Value(data=2.0),\n",
       " Value(data=-6.0),\n",
       " Value(data=1.0),\n",
       " Value(data=0.0),\n",
       " Value(data=0.0),\n",
       " Value(data=-6.0),\n",
       " Value(data=0.884513513516545),\n",
       " Value(data=0.7086732612886939)]"
      ]
     },
     "execution_count": 86,
     "metadata": {},
     "output_type": "execute_result"
    }
   ],
   "source": [
    "topo = []\n",
    "visited = set()\n",
    "\n",
    "def build_topo(v):\n",
    "    if v not in visited:\n",
    "        visited.add(v)\n",
    "        for child in v._prev:\n",
    "            build_topo(child)\n",
    "        topo.append(v)\n",
    "\n",
    "build_topo(o)\n",
    "topo"
   ]
  },
  {
   "cell_type": "code",
   "execution_count": 95,
   "id": "047c1930-023d-4488-8bf4-f5a606c6c034",
   "metadata": {
    "tags": []
   },
   "outputs": [],
   "source": [
    "o.backward()"
   ]
  },
  {
   "cell_type": "code",
   "execution_count": 99,
   "id": "b4999367-c175-4e89-abf7-ad763d28a6ce",
   "metadata": {
    "tags": []
   },
   "outputs": [
    {
     "data": {
      "image/svg+xml": [
       "<?xml version=\"1.0\" encoding=\"UTF-8\" standalone=\"no\"?>\n",
       "<!DOCTYPE svg PUBLIC \"-//W3C//DTD SVG 1.1//EN\"\n",
       " \"http://www.w3.org/Graphics/SVG/1.1/DTD/svg11.dtd\">\n",
       "<!-- Generated by graphviz version 7.1.0 (20230121.1956)\n",
       " -->\n",
       "<!-- Pages: 1 -->\n",
       "<svg width=\"839pt\" height=\"100pt\"\n",
       " viewBox=\"0.00 0.00 839.00 100.00\" xmlns=\"http://www.w3.org/2000/svg\" xmlns:xlink=\"http://www.w3.org/1999/xlink\">\n",
       "<g id=\"graph0\" class=\"graph\" transform=\"scale(1 1) rotate(0) translate(4 96)\">\n",
       "<polygon fill=\"white\" stroke=\"none\" points=\"-4,4 -4,-96 835,-96 835,4 -4,4\"/>\n",
       "<!-- 2307269329168 -->\n",
       "<g id=\"node1\" class=\"node\">\n",
       "<title>2307269329168</title>\n",
       "<polygon fill=\"none\" stroke=\"black\" points=\"322,-55.5 322,-91.5 515,-91.5 515,-55.5 322,-55.5\"/>\n",
       "<text text-anchor=\"middle\" x=\"334\" y=\"-69.8\" font-family=\"Times New Roman,serif\" font-size=\"14.00\">d</text>\n",
       "<polyline fill=\"none\" stroke=\"black\" points=\"346,-55.5 346,-91.5\"/>\n",
       "<text text-anchor=\"middle\" x=\"389\" y=\"-69.8\" font-family=\"Times New Roman,serif\" font-size=\"14.00\">data &#45;6.0000</text>\n",
       "<polyline fill=\"none\" stroke=\"black\" points=\"432,-55.5 432,-91.5\"/>\n",
       "<text text-anchor=\"middle\" x=\"473.5\" y=\"-69.8\" font-family=\"Times New Roman,serif\" font-size=\"14.00\">grad 1.0000</text>\n",
       "</g>\n",
       "<!-- 2307269335376* -->\n",
       "<g id=\"node7\" class=\"node\">\n",
       "<title>2307269335376*</title>\n",
       "<ellipse fill=\"none\" stroke=\"black\" cx=\"578\" cy=\"-45.5\" rx=\"27\" ry=\"18\"/>\n",
       "<text text-anchor=\"middle\" x=\"578\" y=\"-41.8\" font-family=\"Times New Roman,serif\" font-size=\"14.00\">*</text>\n",
       "</g>\n",
       "<!-- 2307269329168&#45;&gt;2307269335376* -->\n",
       "<g id=\"edge5\" class=\"edge\">\n",
       "<title>2307269329168&#45;&gt;2307269335376*</title>\n",
       "<path fill=\"none\" stroke=\"black\" d=\"M514.75,-56.57C523.7,-54.98 532.35,-53.44 540.21,-52.04\"/>\n",
       "<polygon fill=\"black\" stroke=\"black\" points=\"540.75,-55.5 549.99,-50.3 539.53,-48.61 540.75,-55.5\"/>\n",
       "</g>\n",
       "<!-- 2307269329168* -->\n",
       "<g id=\"node2\" class=\"node\">\n",
       "<title>2307269329168*</title>\n",
       "<ellipse fill=\"none\" stroke=\"black\" cx=\"259\" cy=\"-73.5\" rx=\"27\" ry=\"18\"/>\n",
       "<text text-anchor=\"middle\" x=\"259\" y=\"-69.8\" font-family=\"Times New Roman,serif\" font-size=\"14.00\">*</text>\n",
       "</g>\n",
       "<!-- 2307269329168*&#45;&gt;2307269329168 -->\n",
       "<g id=\"edge1\" class=\"edge\">\n",
       "<title>2307269329168*&#45;&gt;2307269329168</title>\n",
       "<path fill=\"none\" stroke=\"black\" d=\"M286.36,-73.5C293.57,-73.5 301.84,-73.5 310.66,-73.5\"/>\n",
       "<polygon fill=\"black\" stroke=\"black\" points=\"310.56,-77 320.56,-73.5 310.56,-70 310.56,-77\"/>\n",
       "</g>\n",
       "<!-- 2307260668176 -->\n",
       "<g id=\"node3\" class=\"node\">\n",
       "<title>2307260668176</title>\n",
       "<polygon fill=\"none\" stroke=\"black\" points=\"0,-55.5 0,-91.5 196,-91.5 196,-55.5 0,-55.5\"/>\n",
       "<text text-anchor=\"middle\" x=\"11.5\" y=\"-69.8\" font-family=\"Times New Roman,serif\" font-size=\"14.00\">a</text>\n",
       "<polyline fill=\"none\" stroke=\"black\" points=\"23,-55.5 23,-91.5\"/>\n",
       "<text text-anchor=\"middle\" x=\"66\" y=\"-69.8\" font-family=\"Times New Roman,serif\" font-size=\"14.00\">data &#45;2.0000</text>\n",
       "<polyline fill=\"none\" stroke=\"black\" points=\"109,-55.5 109,-91.5\"/>\n",
       "<text text-anchor=\"middle\" x=\"152.5\" y=\"-69.8\" font-family=\"Times New Roman,serif\" font-size=\"14.00\">grad &#45;3.0000</text>\n",
       "</g>\n",
       "<!-- 2307260668176&#45;&gt;2307269329168* -->\n",
       "<g id=\"edge8\" class=\"edge\">\n",
       "<title>2307260668176&#45;&gt;2307269329168*</title>\n",
       "<path fill=\"none\" stroke=\"black\" d=\"M195.62,-73.5C204.24,-73.5 212.57,-73.5 220.2,-73.5\"/>\n",
       "<polygon fill=\"black\" stroke=\"black\" points=\"220.02,-77 230.02,-73.5 220.02,-70 220.02,-77\"/>\n",
       "</g>\n",
       "<!-- 2307269335824+ -->\n",
       "<g id=\"node5\" class=\"node\">\n",
       "<title>2307269335824+</title>\n",
       "<ellipse fill=\"none\" stroke=\"black\" cx=\"259\" cy=\"-18.5\" rx=\"27\" ry=\"18\"/>\n",
       "<text text-anchor=\"middle\" x=\"259\" y=\"-14.8\" font-family=\"Times New Roman,serif\" font-size=\"14.00\">+</text>\n",
       "</g>\n",
       "<!-- 2307260668176&#45;&gt;2307269335824+ -->\n",
       "<g id=\"edge7\" class=\"edge\">\n",
       "<title>2307260668176&#45;&gt;2307269335824+</title>\n",
       "<path fill=\"none\" stroke=\"black\" d=\"M168.56,-55.53C177.85,-52.72 187.21,-49.69 196,-46.5 206.08,-42.84 216.82,-38.26 226.47,-33.86\"/>\n",
       "<polygon fill=\"black\" stroke=\"black\" points=\"227.86,-37.08 235.44,-29.68 224.9,-30.73 227.86,-37.08\"/>\n",
       "</g>\n",
       "<!-- 2307269335824 -->\n",
       "<g id=\"node4\" class=\"node\">\n",
       "<title>2307269335824</title>\n",
       "<polygon fill=\"none\" stroke=\"black\" points=\"323,-0.5 323,-36.5 514,-36.5 514,-0.5 323,-0.5\"/>\n",
       "<text text-anchor=\"middle\" x=\"334.5\" y=\"-14.8\" font-family=\"Times New Roman,serif\" font-size=\"14.00\">e</text>\n",
       "<polyline fill=\"none\" stroke=\"black\" points=\"346,-0.5 346,-36.5\"/>\n",
       "<text text-anchor=\"middle\" x=\"386.5\" y=\"-14.8\" font-family=\"Times New Roman,serif\" font-size=\"14.00\">data 1.0000</text>\n",
       "<polyline fill=\"none\" stroke=\"black\" points=\"427,-0.5 427,-36.5\"/>\n",
       "<text text-anchor=\"middle\" x=\"470.5\" y=\"-14.8\" font-family=\"Times New Roman,serif\" font-size=\"14.00\">grad &#45;6.0000</text>\n",
       "</g>\n",
       "<!-- 2307269335824&#45;&gt;2307269335376* -->\n",
       "<g id=\"edge6\" class=\"edge\">\n",
       "<title>2307269335824&#45;&gt;2307269335376*</title>\n",
       "<path fill=\"none\" stroke=\"black\" d=\"M513.85,-34.67C523.09,-36.26 532.03,-37.79 540.14,-39.18\"/>\n",
       "<polygon fill=\"black\" stroke=\"black\" points=\"539.42,-42.61 549.87,-40.85 540.61,-35.71 539.42,-42.61\"/>\n",
       "</g>\n",
       "<!-- 2307269335824+&#45;&gt;2307269335824 -->\n",
       "<g id=\"edge2\" class=\"edge\">\n",
       "<title>2307269335824+&#45;&gt;2307269335824</title>\n",
       "<path fill=\"none\" stroke=\"black\" d=\"M286.36,-18.5C293.83,-18.5 302.46,-18.5 311.64,-18.5\"/>\n",
       "<polygon fill=\"black\" stroke=\"black\" points=\"311.56,-22 321.56,-18.5 311.56,-15 311.56,-22\"/>\n",
       "</g>\n",
       "<!-- 2307269335376 -->\n",
       "<g id=\"node6\" class=\"node\">\n",
       "<title>2307269335376</title>\n",
       "<polygon fill=\"none\" stroke=\"black\" points=\"641,-27.5 641,-63.5 831,-63.5 831,-27.5 641,-27.5\"/>\n",
       "<text text-anchor=\"middle\" x=\"651.5\" y=\"-41.8\" font-family=\"Times New Roman,serif\" font-size=\"14.00\">f</text>\n",
       "<polyline fill=\"none\" stroke=\"black\" points=\"662,-27.5 662,-63.5\"/>\n",
       "<text text-anchor=\"middle\" x=\"705\" y=\"-41.8\" font-family=\"Times New Roman,serif\" font-size=\"14.00\">data &#45;6.0000</text>\n",
       "<polyline fill=\"none\" stroke=\"black\" points=\"748,-27.5 748,-63.5\"/>\n",
       "<text text-anchor=\"middle\" x=\"789.5\" y=\"-41.8\" font-family=\"Times New Roman,serif\" font-size=\"14.00\">grad 1.0000</text>\n",
       "</g>\n",
       "<!-- 2307269335376*&#45;&gt;2307269335376 -->\n",
       "<g id=\"edge3\" class=\"edge\">\n",
       "<title>2307269335376*&#45;&gt;2307269335376</title>\n",
       "<path fill=\"none\" stroke=\"black\" d=\"M605.46,-45.5C612.68,-45.5 620.95,-45.5 629.76,-45.5\"/>\n",
       "<polygon fill=\"black\" stroke=\"black\" points=\"629.64,-49 639.64,-45.5 629.64,-42 629.64,-49\"/>\n",
       "</g>\n",
       "<!-- 2307207083472 -->\n",
       "<g id=\"node8\" class=\"node\">\n",
       "<title>2307207083472</title>\n",
       "<polygon fill=\"none\" stroke=\"black\" points=\"2,-0.5 2,-36.5 194,-36.5 194,-0.5 2,-0.5\"/>\n",
       "<text text-anchor=\"middle\" x=\"14\" y=\"-14.8\" font-family=\"Times New Roman,serif\" font-size=\"14.00\">b</text>\n",
       "<polyline fill=\"none\" stroke=\"black\" points=\"26,-0.5 26,-36.5\"/>\n",
       "<text text-anchor=\"middle\" x=\"66.5\" y=\"-14.8\" font-family=\"Times New Roman,serif\" font-size=\"14.00\">data 3.0000</text>\n",
       "<polyline fill=\"none\" stroke=\"black\" points=\"107,-0.5 107,-36.5\"/>\n",
       "<text text-anchor=\"middle\" x=\"150.5\" y=\"-14.8\" font-family=\"Times New Roman,serif\" font-size=\"14.00\">grad &#45;8.0000</text>\n",
       "</g>\n",
       "<!-- 2307207083472&#45;&gt;2307269329168* -->\n",
       "<g id=\"edge4\" class=\"edge\">\n",
       "<title>2307207083472&#45;&gt;2307269329168*</title>\n",
       "<path fill=\"none\" stroke=\"black\" d=\"M165.63,-36.5C175.87,-39.62 186.27,-42.99 196,-46.5 205.87,-50.06 216.41,-54.42 225.94,-58.59\"/>\n",
       "<polygon fill=\"black\" stroke=\"black\" points=\"224.25,-61.67 234.8,-62.56 227.1,-55.28 224.25,-61.67\"/>\n",
       "</g>\n",
       "<!-- 2307207083472&#45;&gt;2307269335824+ -->\n",
       "<g id=\"edge9\" class=\"edge\">\n",
       "<title>2307207083472&#45;&gt;2307269335824+</title>\n",
       "<path fill=\"none\" stroke=\"black\" d=\"M193.79,-18.5C203.08,-18.5 212.09,-18.5 220.27,-18.5\"/>\n",
       "<polygon fill=\"black\" stroke=\"black\" points=\"220.09,-22 230.09,-18.5 220.09,-15 220.09,-22\"/>\n",
       "</g>\n",
       "</g>\n",
       "</svg>\n"
      ],
      "text/plain": [
       "<graphviz.graphs.Digraph at 0x21933f81810>"
      ]
     },
     "execution_count": 99,
     "metadata": {},
     "output_type": "execute_result"
    }
   ],
   "source": [
    "a = Value(-2.0, label='a')\n",
    "b = Value(3.0, label='b')\n",
    "d = a * b; d.label = 'd'\n",
    "e = a + b; e.label = 'e'\n",
    "f = d * e; f.label = 'f'\n",
    "\n",
    "f.backward()\n",
    "\n",
    "draw_dot(f)"
   ]
  },
  {
   "cell_type": "code",
   "execution_count": 130,
   "id": "b70c59e2-9573-479f-956e-eef02d0f994e",
   "metadata": {
    "tags": []
   },
   "outputs": [
    {
     "data": {
      "image/svg+xml": [
       "<?xml version=\"1.0\" encoding=\"UTF-8\" standalone=\"no\"?>\n",
       "<!DOCTYPE svg PUBLIC \"-//W3C//DTD SVG 1.1//EN\"\n",
       " \"http://www.w3.org/Graphics/SVG/1.1/DTD/svg11.dtd\">\n",
       "<!-- Generated by graphviz version 7.1.0 (20230121.1956)\n",
       " -->\n",
       "<!-- Pages: 1 -->\n",
       "<svg width=\"2965pt\" height=\"239pt\"\n",
       " viewBox=\"0.00 0.00 2965.00 239.00\" xmlns=\"http://www.w3.org/2000/svg\" xmlns:xlink=\"http://www.w3.org/1999/xlink\">\n",
       "<g id=\"graph0\" class=\"graph\" transform=\"scale(1 1) rotate(0) translate(4 235)\">\n",
       "<polygon fill=\"white\" stroke=\"none\" points=\"-4,4 -4,-235 2961,-235 2961,4 -4,4\"/>\n",
       "<!-- 2307269546000 -->\n",
       "<g id=\"node1\" class=\"node\">\n",
       "<title>2307269546000</title>\n",
       "<polygon fill=\"none\" stroke=\"black\" points=\"1390,-55.5 1390,-91.5 1574,-91.5 1574,-55.5 1390,-55.5\"/>\n",
       "<text text-anchor=\"middle\" x=\"1400\" y=\"-69.8\" font-family=\"Times New Roman,serif\" font-size=\"14.00\"> </text>\n",
       "<polyline fill=\"none\" stroke=\"black\" points=\"1410,-55.5 1410,-91.5\"/>\n",
       "<text text-anchor=\"middle\" x=\"1450.5\" y=\"-69.8\" font-family=\"Times New Roman,serif\" font-size=\"14.00\">data 1.7627</text>\n",
       "<polyline fill=\"none\" stroke=\"black\" points=\"1491,-55.5 1491,-91.5\"/>\n",
       "<text text-anchor=\"middle\" x=\"1532.5\" y=\"-69.8\" font-family=\"Times New Roman,serif\" font-size=\"14.00\">grad 0.2500</text>\n",
       "</g>\n",
       "<!-- 2307269552208exp -->\n",
       "<g id=\"node6\" class=\"node\">\n",
       "<title>2307269552208exp</title>\n",
       "<ellipse fill=\"none\" stroke=\"black\" cx=\"1637\" cy=\"-73.5\" rx=\"27\" ry=\"18\"/>\n",
       "<text text-anchor=\"middle\" x=\"1637\" y=\"-69.8\" font-family=\"Times New Roman,serif\" font-size=\"14.00\">exp</text>\n",
       "</g>\n",
       "<!-- 2307269546000&#45;&gt;2307269552208exp -->\n",
       "<g id=\"edge23\" class=\"edge\">\n",
       "<title>2307269546000&#45;&gt;2307269552208exp</title>\n",
       "<path fill=\"none\" stroke=\"black\" d=\"M1573.77,-73.5C1582.38,-73.5 1590.75,-73.5 1598.4,-73.5\"/>\n",
       "<polygon fill=\"black\" stroke=\"black\" points=\"1598.27,-77 1608.27,-73.5 1598.27,-70 1598.27,-77\"/>\n",
       "</g>\n",
       "<!-- 2307269546000* -->\n",
       "<g id=\"node2\" class=\"node\">\n",
       "<title>2307269546000*</title>\n",
       "<ellipse fill=\"none\" stroke=\"black\" cx=\"1327\" cy=\"-73.5\" rx=\"27\" ry=\"18\"/>\n",
       "<text text-anchor=\"middle\" x=\"1327\" y=\"-69.8\" font-family=\"Times New Roman,serif\" font-size=\"14.00\">*</text>\n",
       "</g>\n",
       "<!-- 2307269546000*&#45;&gt;2307269546000 -->\n",
       "<g id=\"edge1\" class=\"edge\">\n",
       "<title>2307269546000*&#45;&gt;2307269546000</title>\n",
       "<path fill=\"none\" stroke=\"black\" d=\"M1354.3,-73.5C1361.57,-73.5 1369.92,-73.5 1378.8,-73.5\"/>\n",
       "<polygon fill=\"black\" stroke=\"black\" points=\"1378.76,-77 1388.76,-73.5 1378.76,-70 1378.76,-77\"/>\n",
       "</g>\n",
       "<!-- 2307269549584 -->\n",
       "<g id=\"node3\" class=\"node\">\n",
       "<title>2307269549584</title>\n",
       "<polygon fill=\"none\" stroke=\"black\" points=\"330.5,-139.5 330.5,-175.5 547.5,-175.5 547.5,-139.5 330.5,-139.5\"/>\n",
       "<text text-anchor=\"middle\" x=\"357\" y=\"-153.8\" font-family=\"Times New Roman,serif\" font-size=\"14.00\">x2*w2</text>\n",
       "<polyline fill=\"none\" stroke=\"black\" points=\"383.5,-139.5 383.5,-175.5\"/>\n",
       "<text text-anchor=\"middle\" x=\"424\" y=\"-153.8\" font-family=\"Times New Roman,serif\" font-size=\"14.00\">data 0.0000</text>\n",
       "<polyline fill=\"none\" stroke=\"black\" points=\"464.5,-139.5 464.5,-175.5\"/>\n",
       "<text text-anchor=\"middle\" x=\"506\" y=\"-153.8\" font-family=\"Times New Roman,serif\" font-size=\"14.00\">grad 0.5000</text>\n",
       "</g>\n",
       "<!-- 2307207408848+ -->\n",
       "<g id=\"node15\" class=\"node\">\n",
       "<title>2307207408848+</title>\n",
       "<ellipse fill=\"none\" stroke=\"black\" cx=\"613\" cy=\"-129.5\" rx=\"27\" ry=\"18\"/>\n",
       "<text text-anchor=\"middle\" x=\"613\" y=\"-125.8\" font-family=\"Times New Roman,serif\" font-size=\"14.00\">+</text>\n",
       "</g>\n",
       "<!-- 2307269549584&#45;&gt;2307207408848+ -->\n",
       "<g id=\"edge27\" class=\"edge\">\n",
       "<title>2307269549584&#45;&gt;2307207408848+</title>\n",
       "<path fill=\"none\" stroke=\"black\" d=\"M547.46,-140.01C557.25,-138.41 566.64,-136.88 575.08,-135.51\"/>\n",
       "<polygon fill=\"black\" stroke=\"black\" points=\"575.52,-138.98 584.83,-133.92 574.4,-132.08 575.52,-138.98\"/>\n",
       "</g>\n",
       "<!-- 2307269549584* -->\n",
       "<g id=\"node4\" class=\"node\">\n",
       "<title>2307269549584*</title>\n",
       "<ellipse fill=\"none\" stroke=\"black\" cx=\"265\" cy=\"-157.5\" rx=\"27\" ry=\"18\"/>\n",
       "<text text-anchor=\"middle\" x=\"265\" y=\"-153.8\" font-family=\"Times New Roman,serif\" font-size=\"14.00\">*</text>\n",
       "</g>\n",
       "<!-- 2307269549584*&#45;&gt;2307269549584 -->\n",
       "<g id=\"edge2\" class=\"edge\">\n",
       "<title>2307269549584*&#45;&gt;2307269549584</title>\n",
       "<path fill=\"none\" stroke=\"black\" d=\"M292.5,-157.5C300.37,-157.5 309.55,-157.5 319.4,-157.5\"/>\n",
       "<polygon fill=\"black\" stroke=\"black\" points=\"319.25,-161 329.25,-157.5 319.25,-154 319.25,-161\"/>\n",
       "</g>\n",
       "<!-- 2307269552208 -->\n",
       "<g id=\"node5\" class=\"node\">\n",
       "<title>2307269552208</title>\n",
       "<polygon fill=\"none\" stroke=\"black\" points=\"1702.5,-55.5 1702.5,-91.5 1886.5,-91.5 1886.5,-55.5 1702.5,-55.5\"/>\n",
       "<text text-anchor=\"middle\" x=\"1712.5\" y=\"-69.8\" font-family=\"Times New Roman,serif\" font-size=\"14.00\"> </text>\n",
       "<polyline fill=\"none\" stroke=\"black\" points=\"1722.5,-55.5 1722.5,-91.5\"/>\n",
       "<text text-anchor=\"middle\" x=\"1763\" y=\"-69.8\" font-family=\"Times New Roman,serif\" font-size=\"14.00\">data 5.8284</text>\n",
       "<polyline fill=\"none\" stroke=\"black\" points=\"1803.5,-55.5 1803.5,-91.5\"/>\n",
       "<text text-anchor=\"middle\" x=\"1845\" y=\"-69.8\" font-family=\"Times New Roman,serif\" font-size=\"14.00\">grad 0.0429</text>\n",
       "</g>\n",
       "<!-- 2307269547152+ -->\n",
       "<g id=\"node8\" class=\"node\">\n",
       "<title>2307269547152+</title>\n",
       "<ellipse fill=\"none\" stroke=\"black\" cx=\"1952\" cy=\"-45.5\" rx=\"27\" ry=\"18\"/>\n",
       "<text text-anchor=\"middle\" x=\"1952\" y=\"-41.8\" font-family=\"Times New Roman,serif\" font-size=\"14.00\">+</text>\n",
       "</g>\n",
       "<!-- 2307269552208&#45;&gt;2307269547152+ -->\n",
       "<g id=\"edge26\" class=\"edge\">\n",
       "<title>2307269552208&#45;&gt;2307269547152+</title>\n",
       "<path fill=\"none\" stroke=\"black\" d=\"M1886.4,-57.13C1896.27,-55.35 1905.85,-53.63 1914.48,-52.08\"/>\n",
       "<polygon fill=\"black\" stroke=\"black\" points=\"1914.88,-55.56 1924.1,-50.34 1913.64,-48.67 1914.88,-55.56\"/>\n",
       "</g>\n",
       "<!-- 2307268026320+ -->\n",
       "<g id=\"node28\" class=\"node\">\n",
       "<title>2307268026320+</title>\n",
       "<ellipse fill=\"none\" stroke=\"black\" cx=\"1952\" cy=\"-100.5\" rx=\"27\" ry=\"18\"/>\n",
       "<text text-anchor=\"middle\" x=\"1952\" y=\"-96.8\" font-family=\"Times New Roman,serif\" font-size=\"14.00\">+</text>\n",
       "</g>\n",
       "<!-- 2307269552208&#45;&gt;2307268026320+ -->\n",
       "<g id=\"edge21\" class=\"edge\">\n",
       "<title>2307269552208&#45;&gt;2307268026320+</title>\n",
       "<path fill=\"none\" stroke=\"black\" d=\"M1886.4,-89.28C1896.27,-91 1905.85,-92.66 1914.48,-94.16\"/>\n",
       "<polygon fill=\"black\" stroke=\"black\" points=\"1913.65,-97.57 1924.1,-95.83 1914.84,-90.67 1913.65,-97.57\"/>\n",
       "</g>\n",
       "<!-- 2307269552208exp&#45;&gt;2307269552208 -->\n",
       "<g id=\"edge3\" class=\"edge\">\n",
       "<title>2307269552208exp&#45;&gt;2307269552208</title>\n",
       "<path fill=\"none\" stroke=\"black\" d=\"M1664.38,-73.5C1672.31,-73.5 1681.53,-73.5 1691.33,-73.5\"/>\n",
       "<polygon fill=\"black\" stroke=\"black\" points=\"1691.09,-77 1701.09,-73.5 1691.09,-70 1691.09,-77\"/>\n",
       "</g>\n",
       "<!-- 2307269547152 -->\n",
       "<g id=\"node7\" class=\"node\">\n",
       "<title>2307269547152</title>\n",
       "<polygon fill=\"none\" stroke=\"black\" points=\"2239,-27.5 2239,-63.5 2423,-63.5 2423,-27.5 2239,-27.5\"/>\n",
       "<text text-anchor=\"middle\" x=\"2249\" y=\"-41.8\" font-family=\"Times New Roman,serif\" font-size=\"14.00\"> </text>\n",
       "<polyline fill=\"none\" stroke=\"black\" points=\"2259,-27.5 2259,-63.5\"/>\n",
       "<text text-anchor=\"middle\" x=\"2299.5\" y=\"-41.8\" font-family=\"Times New Roman,serif\" font-size=\"14.00\">data 4.8284</text>\n",
       "<polyline fill=\"none\" stroke=\"black\" points=\"2340,-27.5 2340,-63.5\"/>\n",
       "<text text-anchor=\"middle\" x=\"2381.5\" y=\"-41.8\" font-family=\"Times New Roman,serif\" font-size=\"14.00\">grad 0.1464</text>\n",
       "</g>\n",
       "<!-- 2307268024528* -->\n",
       "<g id=\"node13\" class=\"node\">\n",
       "<title>2307268024528*</title>\n",
       "<ellipse fill=\"none\" stroke=\"black\" cx=\"2706\" cy=\"-72.5\" rx=\"27\" ry=\"18\"/>\n",
       "<text text-anchor=\"middle\" x=\"2706\" y=\"-68.8\" font-family=\"Times New Roman,serif\" font-size=\"14.00\">*</text>\n",
       "</g>\n",
       "<!-- 2307269547152&#45;&gt;2307268024528* -->\n",
       "<g id=\"edge18\" class=\"edge\">\n",
       "<title>2307269547152&#45;&gt;2307268024528*</title>\n",
       "<path fill=\"none\" stroke=\"black\" d=\"M2422.77,-52.07C2501.28,-57.75 2610.86,-65.69 2667.61,-69.79\"/>\n",
       "<polygon fill=\"black\" stroke=\"black\" points=\"2667.15,-73.27 2677.38,-70.5 2667.66,-66.29 2667.15,-73.27\"/>\n",
       "</g>\n",
       "<!-- 2307269547152+&#45;&gt;2307269547152 -->\n",
       "<g id=\"edge4\" class=\"edge\">\n",
       "<title>2307269547152+&#45;&gt;2307269547152</title>\n",
       "<path fill=\"none\" stroke=\"black\" d=\"M1979.21,-45.5C2029.82,-45.5 2143.42,-45.5 2227.71,-45.5\"/>\n",
       "<polygon fill=\"black\" stroke=\"black\" points=\"2227.63,-49 2237.63,-45.5 2227.63,-42 2227.63,-49\"/>\n",
       "</g>\n",
       "<!-- 2307207329424 -->\n",
       "<g id=\"node9\" class=\"node\">\n",
       "<title>2307207329424</title>\n",
       "<polygon fill=\"none\" stroke=\"black\" points=\"328,-84.5 328,-120.5 550,-120.5 550,-84.5 328,-84.5\"/>\n",
       "<text text-anchor=\"middle\" x=\"354.5\" y=\"-98.8\" font-family=\"Times New Roman,serif\" font-size=\"14.00\">x1*w1</text>\n",
       "<polyline fill=\"none\" stroke=\"black\" points=\"381,-84.5 381,-120.5\"/>\n",
       "<text text-anchor=\"middle\" x=\"424\" y=\"-98.8\" font-family=\"Times New Roman,serif\" font-size=\"14.00\">data &#45;6.0000</text>\n",
       "<polyline fill=\"none\" stroke=\"black\" points=\"467,-84.5 467,-120.5\"/>\n",
       "<text text-anchor=\"middle\" x=\"508.5\" y=\"-98.8\" font-family=\"Times New Roman,serif\" font-size=\"14.00\">grad 0.5000</text>\n",
       "</g>\n",
       "<!-- 2307207329424&#45;&gt;2307207408848+ -->\n",
       "<g id=\"edge17\" class=\"edge\">\n",
       "<title>2307207329424&#45;&gt;2307207408848+</title>\n",
       "<path fill=\"none\" stroke=\"black\" d=\"M549.9,-119.75C558.72,-121.14 567.17,-122.46 574.84,-123.67\"/>\n",
       "<polygon fill=\"black\" stroke=\"black\" points=\"574.29,-127.12 584.71,-125.22 575.37,-120.21 574.29,-127.12\"/>\n",
       "</g>\n",
       "<!-- 2307207329424* -->\n",
       "<g id=\"node10\" class=\"node\">\n",
       "<title>2307207329424*</title>\n",
       "<ellipse fill=\"none\" stroke=\"black\" cx=\"265\" cy=\"-102.5\" rx=\"27\" ry=\"18\"/>\n",
       "<text text-anchor=\"middle\" x=\"265\" y=\"-98.8\" font-family=\"Times New Roman,serif\" font-size=\"14.00\">*</text>\n",
       "</g>\n",
       "<!-- 2307207329424*&#45;&gt;2307207329424 -->\n",
       "<g id=\"edge5\" class=\"edge\">\n",
       "<title>2307207329424*&#45;&gt;2307207329424</title>\n",
       "<path fill=\"none\" stroke=\"black\" d=\"M292.5,-102.5C299.65,-102.5 307.89,-102.5 316.72,-102.5\"/>\n",
       "<polygon fill=\"black\" stroke=\"black\" points=\"316.69,-106 326.68,-102.5 316.68,-99 316.69,-106\"/>\n",
       "</g>\n",
       "<!-- 2307269549200 -->\n",
       "<g id=\"node11\" class=\"node\">\n",
       "<title>2307269549200</title>\n",
       "<polygon fill=\"none\" stroke=\"black\" points=\"0,-84.5 0,-120.5 202,-120.5 202,-84.5 0,-84.5\"/>\n",
       "<text text-anchor=\"middle\" x=\"16.5\" y=\"-98.8\" font-family=\"Times New Roman,serif\" font-size=\"14.00\">w1</text>\n",
       "<polyline fill=\"none\" stroke=\"black\" points=\"33,-84.5 33,-120.5\"/>\n",
       "<text text-anchor=\"middle\" x=\"76\" y=\"-98.8\" font-family=\"Times New Roman,serif\" font-size=\"14.00\">data &#45;3.0000</text>\n",
       "<polyline fill=\"none\" stroke=\"black\" points=\"119,-84.5 119,-120.5\"/>\n",
       "<text text-anchor=\"middle\" x=\"160.5\" y=\"-98.8\" font-family=\"Times New Roman,serif\" font-size=\"14.00\">grad 1.0000</text>\n",
       "</g>\n",
       "<!-- 2307269549200&#45;&gt;2307207329424* -->\n",
       "<g id=\"edge22\" class=\"edge\">\n",
       "<title>2307269549200&#45;&gt;2307207329424*</title>\n",
       "<path fill=\"none\" stroke=\"black\" d=\"M201.83,-102.5C210.46,-102.5 218.79,-102.5 226.4,-102.5\"/>\n",
       "<polygon fill=\"black\" stroke=\"black\" points=\"226.18,-106 236.18,-102.5 226.18,-99 226.18,-106\"/>\n",
       "</g>\n",
       "<!-- 2307268024528 -->\n",
       "<g id=\"node12\" class=\"node\">\n",
       "<title>2307268024528</title>\n",
       "<polygon fill=\"none\" stroke=\"black\" points=\"2769,-54.5 2769,-90.5 2957,-90.5 2957,-54.5 2769,-54.5\"/>\n",
       "<text text-anchor=\"middle\" x=\"2781\" y=\"-68.8\" font-family=\"Times New Roman,serif\" font-size=\"14.00\">o</text>\n",
       "<polyline fill=\"none\" stroke=\"black\" points=\"2793,-54.5 2793,-90.5\"/>\n",
       "<text text-anchor=\"middle\" x=\"2833.5\" y=\"-68.8\" font-family=\"Times New Roman,serif\" font-size=\"14.00\">data 0.7071</text>\n",
       "<polyline fill=\"none\" stroke=\"black\" points=\"2874,-54.5 2874,-90.5\"/>\n",
       "<text text-anchor=\"middle\" x=\"2915.5\" y=\"-68.8\" font-family=\"Times New Roman,serif\" font-size=\"14.00\">grad 1.0000</text>\n",
       "</g>\n",
       "<!-- 2307268024528*&#45;&gt;2307268024528 -->\n",
       "<g id=\"edge6\" class=\"edge\">\n",
       "<title>2307268024528*&#45;&gt;2307268024528</title>\n",
       "<path fill=\"none\" stroke=\"black\" d=\"M2733.29,-72.5C2740.52,-72.5 2748.82,-72.5 2757.66,-72.5\"/>\n",
       "<polygon fill=\"black\" stroke=\"black\" points=\"2757.57,-76 2767.57,-72.5 2757.57,-69 2757.57,-76\"/>\n",
       "</g>\n",
       "<!-- 2307207408848 -->\n",
       "<g id=\"node14\" class=\"node\">\n",
       "<title>2307207408848</title>\n",
       "<polygon fill=\"none\" stroke=\"black\" points=\"676,-111.5 676,-147.5 951,-147.5 951,-111.5 676,-111.5\"/>\n",
       "<text text-anchor=\"middle\" x=\"729\" y=\"-125.8\" font-family=\"Times New Roman,serif\" font-size=\"14.00\">x1*w1 + x2*w2</text>\n",
       "<polyline fill=\"none\" stroke=\"black\" points=\"782,-111.5 782,-147.5\"/>\n",
       "<text text-anchor=\"middle\" x=\"825\" y=\"-125.8\" font-family=\"Times New Roman,serif\" font-size=\"14.00\">data &#45;6.0000</text>\n",
       "<polyline fill=\"none\" stroke=\"black\" points=\"868,-111.5 868,-147.5\"/>\n",
       "<text text-anchor=\"middle\" x=\"909.5\" y=\"-125.8\" font-family=\"Times New Roman,serif\" font-size=\"14.00\">grad 0.5000</text>\n",
       "</g>\n",
       "<!-- 2307269544208+ -->\n",
       "<g id=\"node19\" class=\"node\">\n",
       "<title>2307269544208+</title>\n",
       "<ellipse fill=\"none\" stroke=\"black\" cx=\"1014\" cy=\"-101.5\" rx=\"27\" ry=\"18\"/>\n",
       "<text text-anchor=\"middle\" x=\"1014\" y=\"-97.8\" font-family=\"Times New Roman,serif\" font-size=\"14.00\">+</text>\n",
       "</g>\n",
       "<!-- 2307207408848&#45;&gt;2307269544208+ -->\n",
       "<g id=\"edge25\" class=\"edge\">\n",
       "<title>2307207408848&#45;&gt;2307269544208+</title>\n",
       "<path fill=\"none\" stroke=\"black\" d=\"M941.9,-111.53C954.16,-109.8 965.8,-108.16 975.98,-106.72\"/>\n",
       "<polygon fill=\"black\" stroke=\"black\" points=\"976.29,-110.21 985.7,-105.35 975.31,-103.28 976.29,-110.21\"/>\n",
       "</g>\n",
       "<!-- 2307207408848+&#45;&gt;2307207408848 -->\n",
       "<g id=\"edge7\" class=\"edge\">\n",
       "<title>2307207408848+&#45;&gt;2307207408848</title>\n",
       "<path fill=\"none\" stroke=\"black\" d=\"M640.36,-129.5C647.56,-129.5 655.89,-129.5 664.94,-129.5\"/>\n",
       "<polygon fill=\"black\" stroke=\"black\" points=\"664.78,-133 674.78,-129.5 664.78,-126 664.78,-133\"/>\n",
       "</g>\n",
       "<!-- 2307269543632 -->\n",
       "<g id=\"node16\" class=\"node\">\n",
       "<title>2307269543632</title>\n",
       "<polygon fill=\"none\" stroke=\"black\" points=\"2.5,-194.5 2.5,-230.5 199.5,-230.5 199.5,-194.5 2.5,-194.5\"/>\n",
       "<text text-anchor=\"middle\" x=\"19\" y=\"-208.8\" font-family=\"Times New Roman,serif\" font-size=\"14.00\">w2</text>\n",
       "<polyline fill=\"none\" stroke=\"black\" points=\"35.5,-194.5 35.5,-230.5\"/>\n",
       "<text text-anchor=\"middle\" x=\"76\" y=\"-208.8\" font-family=\"Times New Roman,serif\" font-size=\"14.00\">data 1.0000</text>\n",
       "<polyline fill=\"none\" stroke=\"black\" points=\"116.5,-194.5 116.5,-230.5\"/>\n",
       "<text text-anchor=\"middle\" x=\"158\" y=\"-208.8\" font-family=\"Times New Roman,serif\" font-size=\"14.00\">grad 0.0000</text>\n",
       "</g>\n",
       "<!-- 2307269543632&#45;&gt;2307269549584* -->\n",
       "<g id=\"edge15\" class=\"edge\">\n",
       "<title>2307269543632&#45;&gt;2307269549584*</title>\n",
       "<path fill=\"none\" stroke=\"black\" d=\"M173.99,-194.56C183.48,-191.75 193.03,-188.71 202,-185.5 212.1,-181.88 222.83,-177.31 232.49,-172.91\"/>\n",
       "<polygon fill=\"black\" stroke=\"black\" points=\"233.88,-176.12 241.46,-168.72 230.92,-169.78 233.88,-176.12\"/>\n",
       "</g>\n",
       "<!-- 2307269554448 -->\n",
       "<g id=\"node17\" class=\"node\">\n",
       "<title>2307269554448</title>\n",
       "<polygon fill=\"none\" stroke=\"black\" points=\"1700,-0.5 1700,-36.5 1889,-36.5 1889,-0.5 1700,-0.5\"/>\n",
       "<text text-anchor=\"middle\" x=\"1710\" y=\"-14.8\" font-family=\"Times New Roman,serif\" font-size=\"14.00\"> </text>\n",
       "<polyline fill=\"none\" stroke=\"black\" points=\"1720,-0.5 1720,-36.5\"/>\n",
       "<text text-anchor=\"middle\" x=\"1763\" y=\"-14.8\" font-family=\"Times New Roman,serif\" font-size=\"14.00\">data &#45;1.0000</text>\n",
       "<polyline fill=\"none\" stroke=\"black\" points=\"1806,-0.5 1806,-36.5\"/>\n",
       "<text text-anchor=\"middle\" x=\"1847.5\" y=\"-14.8\" font-family=\"Times New Roman,serif\" font-size=\"14.00\">grad 0.1464</text>\n",
       "</g>\n",
       "<!-- 2307269554448&#45;&gt;2307269547152+ -->\n",
       "<g id=\"edge28\" class=\"edge\">\n",
       "<title>2307269554448&#45;&gt;2307269547152+</title>\n",
       "<path fill=\"none\" stroke=\"black\" d=\"M1888.65,-34.67C1897.58,-36.22 1906.23,-37.73 1914.11,-39.09\"/>\n",
       "<polygon fill=\"black\" stroke=\"black\" points=\"1913.45,-42.53 1923.9,-40.79 1914.64,-35.63 1913.45,-42.53\"/>\n",
       "</g>\n",
       "<!-- 2307269544208 -->\n",
       "<g id=\"node18\" class=\"node\">\n",
       "<title>2307269544208</title>\n",
       "<polygon fill=\"none\" stroke=\"black\" points=\"1077,-83.5 1077,-119.5 1264,-119.5 1264,-83.5 1077,-83.5\"/>\n",
       "<text text-anchor=\"middle\" x=\"1088.5\" y=\"-97.8\" font-family=\"Times New Roman,serif\" font-size=\"14.00\">n</text>\n",
       "<polyline fill=\"none\" stroke=\"black\" points=\"1100,-83.5 1100,-119.5\"/>\n",
       "<text text-anchor=\"middle\" x=\"1140.5\" y=\"-97.8\" font-family=\"Times New Roman,serif\" font-size=\"14.00\">data 0.8814</text>\n",
       "<polyline fill=\"none\" stroke=\"black\" points=\"1181,-83.5 1181,-119.5\"/>\n",
       "<text text-anchor=\"middle\" x=\"1222.5\" y=\"-97.8\" font-family=\"Times New Roman,serif\" font-size=\"14.00\">grad 0.5000</text>\n",
       "</g>\n",
       "<!-- 2307269544208&#45;&gt;2307269546000* -->\n",
       "<g id=\"edge13\" class=\"edge\">\n",
       "<title>2307269544208&#45;&gt;2307269546000*</title>\n",
       "<path fill=\"none\" stroke=\"black\" d=\"M1263.6,-84.81C1272.72,-83.16 1281.55,-81.56 1289.56,-80.1\"/>\n",
       "<polygon fill=\"black\" stroke=\"black\" points=\"1289.94,-83.59 1299.16,-78.36 1288.7,-76.7 1289.94,-83.59\"/>\n",
       "</g>\n",
       "<!-- 2307269544208+&#45;&gt;2307269544208 -->\n",
       "<g id=\"edge8\" class=\"edge\">\n",
       "<title>2307269544208+&#45;&gt;2307269544208</title>\n",
       "<path fill=\"none\" stroke=\"black\" d=\"M1041.21,-101.5C1048.47,-101.5 1056.83,-101.5 1065.71,-101.5\"/>\n",
       "<polygon fill=\"black\" stroke=\"black\" points=\"1065.7,-105 1075.7,-101.5 1065.7,-98 1065.7,-105\"/>\n",
       "</g>\n",
       "<!-- 2307269557520 -->\n",
       "<g id=\"node20\" class=\"node\">\n",
       "<title>2307269557520</title>\n",
       "<polygon fill=\"none\" stroke=\"black\" points=\"719.5,-56.5 719.5,-92.5 907.5,-92.5 907.5,-56.5 719.5,-56.5\"/>\n",
       "<text text-anchor=\"middle\" x=\"731.5\" y=\"-70.8\" font-family=\"Times New Roman,serif\" font-size=\"14.00\">b</text>\n",
       "<polyline fill=\"none\" stroke=\"black\" points=\"743.5,-56.5 743.5,-92.5\"/>\n",
       "<text text-anchor=\"middle\" x=\"784\" y=\"-70.8\" font-family=\"Times New Roman,serif\" font-size=\"14.00\">data 6.8814</text>\n",
       "<polyline fill=\"none\" stroke=\"black\" points=\"824.5,-56.5 824.5,-92.5\"/>\n",
       "<text text-anchor=\"middle\" x=\"866\" y=\"-70.8\" font-family=\"Times New Roman,serif\" font-size=\"14.00\">grad 0.5000</text>\n",
       "</g>\n",
       "<!-- 2307269557520&#45;&gt;2307269544208+ -->\n",
       "<g id=\"edge16\" class=\"edge\">\n",
       "<title>2307269557520&#45;&gt;2307269544208+</title>\n",
       "<path fill=\"none\" stroke=\"black\" d=\"M907.36,-87.13C931.59,-90.43 956.33,-93.79 975.77,-96.44\"/>\n",
       "<polygon fill=\"black\" stroke=\"black\" points=\"975.26,-99.9 985.64,-97.78 976.21,-92.96 975.26,-99.9\"/>\n",
       "</g>\n",
       "<!-- 2307269549840 -->\n",
       "<g id=\"node21\" class=\"node\">\n",
       "<title>2307269549840</title>\n",
       "<polygon fill=\"none\" stroke=\"black\" points=\"2,-29.5 2,-65.5 200,-65.5 200,-29.5 2,-29.5\"/>\n",
       "<text text-anchor=\"middle\" x=\"17\" y=\"-43.8\" font-family=\"Times New Roman,serif\" font-size=\"14.00\">x1</text>\n",
       "<polyline fill=\"none\" stroke=\"black\" points=\"32,-29.5 32,-65.5\"/>\n",
       "<text text-anchor=\"middle\" x=\"72.5\" y=\"-43.8\" font-family=\"Times New Roman,serif\" font-size=\"14.00\">data 2.0000</text>\n",
       "<polyline fill=\"none\" stroke=\"black\" points=\"113,-29.5 113,-65.5\"/>\n",
       "<text text-anchor=\"middle\" x=\"156.5\" y=\"-43.8\" font-family=\"Times New Roman,serif\" font-size=\"14.00\">grad &#45;1.5000</text>\n",
       "</g>\n",
       "<!-- 2307269549840&#45;&gt;2307207329424* -->\n",
       "<g id=\"edge24\" class=\"edge\">\n",
       "<title>2307269549840&#45;&gt;2307207329424*</title>\n",
       "<path fill=\"none\" stroke=\"black\" d=\"M173.99,-65.44C183.48,-68.25 193.03,-71.29 202,-74.5 212.1,-78.12 222.83,-82.69 232.49,-87.09\"/>\n",
       "<polygon fill=\"black\" stroke=\"black\" points=\"230.92,-90.22 241.46,-91.28 233.88,-83.88 230.92,-90.22\"/>\n",
       "</g>\n",
       "<!-- 2307207440656 -->\n",
       "<g id=\"node22\" class=\"node\">\n",
       "<title>2307207440656</title>\n",
       "<polygon fill=\"none\" stroke=\"black\" points=\"4,-139.5 4,-175.5 198,-175.5 198,-139.5 4,-139.5\"/>\n",
       "<text text-anchor=\"middle\" x=\"19\" y=\"-153.8\" font-family=\"Times New Roman,serif\" font-size=\"14.00\">x2</text>\n",
       "<polyline fill=\"none\" stroke=\"black\" points=\"34,-139.5 34,-175.5\"/>\n",
       "<text text-anchor=\"middle\" x=\"74.5\" y=\"-153.8\" font-family=\"Times New Roman,serif\" font-size=\"14.00\">data 0.0000</text>\n",
       "<polyline fill=\"none\" stroke=\"black\" points=\"115,-139.5 115,-175.5\"/>\n",
       "<text text-anchor=\"middle\" x=\"156.5\" y=\"-153.8\" font-family=\"Times New Roman,serif\" font-size=\"14.00\">grad 0.5000</text>\n",
       "</g>\n",
       "<!-- 2307207440656&#45;&gt;2307269549584* -->\n",
       "<g id=\"edge11\" class=\"edge\">\n",
       "<title>2307207440656&#45;&gt;2307269549584*</title>\n",
       "<path fill=\"none\" stroke=\"black\" d=\"M197.64,-157.5C207.72,-157.5 217.49,-157.5 226.29,-157.5\"/>\n",
       "<polygon fill=\"black\" stroke=\"black\" points=\"226.11,-161 236.11,-157.5 226.11,-154 226.11,-161\"/>\n",
       "</g>\n",
       "<!-- 2306682995472 -->\n",
       "<g id=\"node23\" class=\"node\">\n",
       "<title>2306682995472</title>\n",
       "<polygon fill=\"none\" stroke=\"black\" points=\"1078.5,-28.5 1078.5,-64.5 1262.5,-64.5 1262.5,-28.5 1078.5,-28.5\"/>\n",
       "<text text-anchor=\"middle\" x=\"1088.5\" y=\"-42.8\" font-family=\"Times New Roman,serif\" font-size=\"14.00\"> </text>\n",
       "<polyline fill=\"none\" stroke=\"black\" points=\"1098.5,-28.5 1098.5,-64.5\"/>\n",
       "<text text-anchor=\"middle\" x=\"1139\" y=\"-42.8\" font-family=\"Times New Roman,serif\" font-size=\"14.00\">data 2.0000</text>\n",
       "<polyline fill=\"none\" stroke=\"black\" points=\"1179.5,-28.5 1179.5,-64.5\"/>\n",
       "<text text-anchor=\"middle\" x=\"1221\" y=\"-42.8\" font-family=\"Times New Roman,serif\" font-size=\"14.00\">grad 0.2203</text>\n",
       "</g>\n",
       "<!-- 2306682995472&#45;&gt;2307269546000* -->\n",
       "<g id=\"edge12\" class=\"edge\">\n",
       "<title>2306682995472&#45;&gt;2307269546000*</title>\n",
       "<path fill=\"none\" stroke=\"black\" d=\"M1262.27,-62.36C1271.73,-64.02 1280.92,-65.62 1289.23,-67.07\"/>\n",
       "<polygon fill=\"black\" stroke=\"black\" points=\"1288.4,-70.48 1298.85,-68.76 1289.6,-63.59 1288.4,-70.48\"/>\n",
       "</g>\n",
       "<!-- 2307269555024 -->\n",
       "<g id=\"node24\" class=\"node\">\n",
       "<title>2307269555024</title>\n",
       "<polygon fill=\"none\" stroke=\"black\" points=\"1700.5,-110.5 1700.5,-146.5 1888.5,-146.5 1888.5,-110.5 1700.5,-110.5\"/>\n",
       "<text text-anchor=\"middle\" x=\"1710.5\" y=\"-124.8\" font-family=\"Times New Roman,serif\" font-size=\"14.00\"> </text>\n",
       "<polyline fill=\"none\" stroke=\"black\" points=\"1720.5,-110.5 1720.5,-146.5\"/>\n",
       "<text text-anchor=\"middle\" x=\"1761\" y=\"-124.8\" font-family=\"Times New Roman,serif\" font-size=\"14.00\">data 1.0000</text>\n",
       "<polyline fill=\"none\" stroke=\"black\" points=\"1801.5,-110.5 1801.5,-146.5\"/>\n",
       "<text text-anchor=\"middle\" x=\"1845\" y=\"-124.8\" font-family=\"Times New Roman,serif\" font-size=\"14.00\">grad &#45;0.1036</text>\n",
       "</g>\n",
       "<!-- 2307269555024&#45;&gt;2307268026320+ -->\n",
       "<g id=\"edge20\" class=\"edge\">\n",
       "<title>2307269555024&#45;&gt;2307268026320+</title>\n",
       "<path fill=\"none\" stroke=\"black\" d=\"M1888.2,-111.81C1897.38,-110.16 1906.27,-108.56 1914.33,-107.1\"/>\n",
       "<polygon fill=\"black\" stroke=\"black\" points=\"1914.77,-110.58 1923.99,-105.36 1913.53,-103.69 1914.77,-110.58\"/>\n",
       "</g>\n",
       "<!-- 2307268025744 -->\n",
       "<g id=\"node25\" class=\"node\">\n",
       "<title>2307268025744</title>\n",
       "<polygon fill=\"none\" stroke=\"black\" points=\"2459,-80.5 2459,-116.5 2643,-116.5 2643,-80.5 2459,-80.5\"/>\n",
       "<text text-anchor=\"middle\" x=\"2469\" y=\"-94.8\" font-family=\"Times New Roman,serif\" font-size=\"14.00\"> </text>\n",
       "<polyline fill=\"none\" stroke=\"black\" points=\"2479,-80.5 2479,-116.5\"/>\n",
       "<text text-anchor=\"middle\" x=\"2519.5\" y=\"-94.8\" font-family=\"Times New Roman,serif\" font-size=\"14.00\">data 0.1464</text>\n",
       "<polyline fill=\"none\" stroke=\"black\" points=\"2560,-80.5 2560,-116.5\"/>\n",
       "<text text-anchor=\"middle\" x=\"2601.5\" y=\"-94.8\" font-family=\"Times New Roman,serif\" font-size=\"14.00\">grad 4.8284</text>\n",
       "</g>\n",
       "<!-- 2307268025744&#45;&gt;2307268024528* -->\n",
       "<g id=\"edge19\" class=\"edge\">\n",
       "<title>2307268025744&#45;&gt;2307268024528*</title>\n",
       "<path fill=\"none\" stroke=\"black\" d=\"M2642.77,-83.08C2651.66,-81.56 2660.28,-80.1 2668.13,-78.77\"/>\n",
       "<polygon fill=\"black\" stroke=\"black\" points=\"2668.63,-82.23 2677.9,-77.11 2667.45,-75.33 2668.63,-82.23\"/>\n",
       "</g>\n",
       "<!-- 2307268025744**&#45;1 -->\n",
       "<g id=\"node26\" class=\"node\">\n",
       "<title>2307268025744**&#45;1</title>\n",
       "<ellipse fill=\"none\" stroke=\"black\" cx=\"2331\" cy=\"-100.5\" rx=\"27\" ry=\"18\"/>\n",
       "<text text-anchor=\"middle\" x=\"2331\" y=\"-96.8\" font-family=\"Times New Roman,serif\" font-size=\"14.00\">**&#45;1</text>\n",
       "</g>\n",
       "<!-- 2307268025744**&#45;1&#45;&gt;2307268025744 -->\n",
       "<g id=\"edge9\" class=\"edge\">\n",
       "<title>2307268025744**&#45;1&#45;&gt;2307268025744</title>\n",
       "<path fill=\"none\" stroke=\"black\" d=\"M2358.3,-100.26C2380.88,-100.05 2414.96,-99.74 2448.16,-99.43\"/>\n",
       "<polygon fill=\"black\" stroke=\"black\" points=\"2447.88,-102.94 2457.85,-99.35 2447.82,-95.94 2447.88,-102.94\"/>\n",
       "</g>\n",
       "<!-- 2307268026320 -->\n",
       "<g id=\"node27\" class=\"node\">\n",
       "<title>2307268026320</title>\n",
       "<polygon fill=\"none\" stroke=\"black\" points=\"2015,-82.5 2015,-118.5 2203,-118.5 2203,-82.5 2015,-82.5\"/>\n",
       "<text text-anchor=\"middle\" x=\"2025\" y=\"-96.8\" font-family=\"Times New Roman,serif\" font-size=\"14.00\"> </text>\n",
       "<polyline fill=\"none\" stroke=\"black\" points=\"2035,-82.5 2035,-118.5\"/>\n",
       "<text text-anchor=\"middle\" x=\"2075.5\" y=\"-96.8\" font-family=\"Times New Roman,serif\" font-size=\"14.00\">data 6.8284</text>\n",
       "<polyline fill=\"none\" stroke=\"black\" points=\"2116,-82.5 2116,-118.5\"/>\n",
       "<text text-anchor=\"middle\" x=\"2159.5\" y=\"-96.8\" font-family=\"Times New Roman,serif\" font-size=\"14.00\">grad &#45;0.1036</text>\n",
       "</g>\n",
       "<!-- 2307268026320&#45;&gt;2307268025744**&#45;1 -->\n",
       "<g id=\"edge14\" class=\"edge\">\n",
       "<title>2307268026320&#45;&gt;2307268025744**&#45;1</title>\n",
       "<path fill=\"none\" stroke=\"black\" d=\"M2202.98,-100.5C2234.42,-100.5 2267.77,-100.5 2292.4,-100.5\"/>\n",
       "<polygon fill=\"black\" stroke=\"black\" points=\"2292.23,-104 2302.23,-100.5 2292.23,-97 2292.23,-104\"/>\n",
       "</g>\n",
       "<!-- 2307268026320+&#45;&gt;2307268026320 -->\n",
       "<g id=\"edge10\" class=\"edge\">\n",
       "<title>2307268026320+&#45;&gt;2307268026320</title>\n",
       "<path fill=\"none\" stroke=\"black\" d=\"M1979.29,-100.5C1986.52,-100.5 1994.82,-100.5 2003.66,-100.5\"/>\n",
       "<polygon fill=\"black\" stroke=\"black\" points=\"2003.57,-104 2013.57,-100.5 2003.57,-97 2003.57,-104\"/>\n",
       "</g>\n",
       "</g>\n",
       "</svg>\n"
      ],
      "text/plain": [
       "<graphviz.graphs.Digraph at 0x2193045f290>"
      ]
     },
     "execution_count": 130,
     "metadata": {},
     "output_type": "execute_result"
    }
   ],
   "source": [
    "# inputs x1,x2\n",
    "x1 = Value(2.0, label='x1')\n",
    "x2 = Value(0.0, label='x2')\n",
    "# weights w1,w2\n",
    "w1 = Value(-3.0, label='w1')\n",
    "w2 = Value(1.0, label='w2')\n",
    "# bias of the neuron\n",
    "b = Value(6.8813735870195432, label='b')\n",
    "# x1*w1 + x2*w2 + b\n",
    "x1w1 = x1*w1; x1w1.label = 'x1*w1'\n",
    "x2w2 = x2*w2; x2w2.label = 'x2*w2'\n",
    "x1w1x2w2 = x1w1 + x2w2; x1w1x2w2.label = 'x1*w1 + x2*w2'\n",
    "n = x1w1x2w2 + b; n.label = 'n'\n",
    "# ----\n",
    "e = (2*n).exp()\n",
    "o = (e - 1) / (e + 1)\n",
    "# ----\n",
    "o.label = 'o'\n",
    "o.backward()\n",
    "draw_dot(o)"
   ]
  },
  {
   "cell_type": "code",
   "execution_count": 1,
   "id": "59860854-7fa6-440e-8e13-fba81e716ee2",
   "metadata": {},
   "outputs": [],
   "source": [
    "import torch"
   ]
  },
  {
   "cell_type": "code",
   "execution_count": 3,
   "id": "9ee80125-de49-49ec-a518-e90e204c817d",
   "metadata": {},
   "outputs": [
    {
     "name": "stdout",
     "output_type": "stream",
     "text": [
      "0.7071066904050358\n",
      "---\n",
      "x2 0.5000001283844369\n",
      "w2 0.0\n",
      "x1 -1.5000003851533106\n",
      "w1 1.0000002567688737\n"
     ]
    }
   ],
   "source": [
    "x1 = torch.Tensor([2.0]).double()                ; x1.requires_grad = True\n",
    "x2 = torch.Tensor([0.0]).double()                ; x2.requires_grad = True\n",
    "w1 = torch.Tensor([-3.0]).double()               ; w1.requires_grad = True\n",
    "w2 = torch.Tensor([1.0]).double()                ; w2.requires_grad = True\n",
    "b = torch.Tensor([6.8813735870195432]).double()  ; b.requires_grad = True\n",
    "n = x1*w1 + x2*w2 + b\n",
    "o = torch.tanh(n)\n",
    "\n",
    "print(o.data.item())\n",
    "o.backward()\n",
    "\n",
    "print('---')\n",
    "print('x2', x2.grad.item())\n",
    "print('w2', w2.grad.item())\n",
    "print('x1', x1.grad.item())\n",
    "print('w1', w1.grad.item())"
   ]
  },
  {
   "cell_type": "code",
   "execution_count": 6,
   "id": "ce55dfe9-fdcb-4177-98b1-93463582d712",
   "metadata": {
    "tags": []
   },
   "outputs": [
    {
     "data": {
      "text/plain": [
       "torch.Size([2, 3])"
      ]
     },
     "execution_count": 6,
     "metadata": {},
     "output_type": "execute_result"
    }
   ],
   "source": [
    "z = torch.Tensor([[1,2,3],[2,3,4]])\n",
    "z.shape"
   ]
  },
  {
   "cell_type": "code",
   "execution_count": 14,
   "id": "dd0b1772-6a75-486d-89b1-f43055f413bd",
   "metadata": {
    "tags": []
   },
   "outputs": [
    {
     "name": "stdout",
     "output_type": "stream",
     "text": [
      "[Value(data=-0.34855499092153175), Value(data=0.7450591651012617), Value(data=0.5197074098469592), Value(data=0.18492096540517533), Value(data=0.6065672311927108)]\n"
     ]
    }
   ],
   "source": [
    "w = [Value(random.uniform(-1,1)) for _ in range(5)]\n",
    "print(w)"
   ]
  },
  {
   "cell_type": "code",
   "execution_count": 57,
   "id": "f6dd8594-395b-4021-b7eb-ad94b8b1a8ee",
   "metadata": {
    "tags": []
   },
   "outputs": [],
   "source": [
    "class Neuron:\n",
    "    \n",
    "    def __init__(self, nin):\n",
    "        self.w = [Value(random.uniform(-1,1)) for _ in range(nin)]\n",
    "        self.b = Value(random.uniform(-1,1))\n",
    "    \n",
    "    def __call__(self, x):\n",
    "        #return w * x + b\n",
    "        act = sum((wi*xi for wi, xi in zip(self.w, x)), self.b)\n",
    "        out = act.tanh()\n",
    "        return out\n",
    "    \n",
    "    def parameters(self):\n",
    "        return self.w + [self.b]\n",
    "\n",
    "class Layer:\n",
    "    def __init__(self, nin, nout):\n",
    "        self.neurons = [Neuron(nin) for _ in range(nout)]\n",
    "    \n",
    "    def __call__ (self, x):\n",
    "        outs = [n(x) for n in self.neurons]\n",
    "        return outs[0] if len(outs) == 1 else outs\n",
    "\n",
    "    def parameters(self):\n",
    "      return [p for neuron in self.neurons for p in neuron.parameters()]\n",
    "            \n",
    "class MLP:\n",
    "    def __init__(self, nin, nouts):\n",
    "        sz = [nin] + nouts\n",
    "        self.layers = [Layer(sz[i], sz[i+1]) for i in range(len(nouts))]\n",
    "        \n",
    "    def __call__(self, x):\n",
    "        for layer in self.layers:\n",
    "            x = layer(x)\n",
    "        return x\n",
    "\n",
    "    def parameters(self):\n",
    "      return [p for layer in self.layers for p in layer.parameters()]\n"
   ]
  },
  {
   "cell_type": "code",
   "execution_count": 63,
   "id": "18007b53-ecef-464c-ba58-5276d2ac3503",
   "metadata": {
    "tags": []
   },
   "outputs": [
    {
     "data": {
      "text/plain": [
       "[Value(data=-0.7236414183267882),\n",
       " Value(data=-0.34809024328098725),\n",
       " Value(data=-0.7225353154530603),\n",
       " Value(data=-0.7389145702434233)]"
      ]
     },
     "execution_count": 63,
     "metadata": {},
     "output_type": "execute_result"
    }
   ],
   "source": [
    "xs = [\n",
    "  [2.0, 3.0, -1.0],\n",
    "  [3.0, -1.0, 0.5],\n",
    "  [0.5, 1.0, 1.0],\n",
    "  [1.0, 1.0, -1.0],\n",
    "]\n",
    "ys = [1.0, -1.0, -1.0, 1.0] # desired targets\n",
    "\n"
   ]
  },
  {
   "cell_type": "code",
   "execution_count": 66,
   "id": "a3908bd8-6829-4b5f-add5-b17fe7dfeea4",
   "metadata": {
    "tags": []
   },
   "outputs": [],
   "source": [
    "loss.backward()"
   ]
  },
  {
   "cell_type": "code",
   "execution_count": 64,
   "id": "737a37f2-b4a3-4263-9afc-4cfe2e2072cc",
   "metadata": {
    "tags": []
   },
   "outputs": [
    {
     "data": {
      "text/plain": [
       "Value(data=6.496736603652627)"
      ]
     },
     "execution_count": 64,
     "metadata": {},
     "output_type": "execute_result"
    }
   ],
   "source": [
    "ypred = [n(x) for x in xs]\n",
    "loss = sum([(yout - ygt)**2 for ygt, yout in zip(ys, ypred)])\n",
    "loss"
   ]
  },
  {
   "cell_type": "code",
   "execution_count": 71,
   "id": "a20139b1-5ade-41d0-906a-d9cee14a5afd",
   "metadata": {
    "tags": []
   },
   "outputs": [
    {
     "data": {
      "text/plain": [
       "Value(data=5.9179076141747835)"
      ]
     },
     "execution_count": 71,
     "metadata": {},
     "output_type": "execute_result"
    }
   ],
   "source": [
    "ypred = [n(x) for x in xs]\n",
    "loss = sum([(yout - ygt)**2 for ygt, yout in zip(ys, ypred)])\n",
    "loss"
   ]
  },
  {
   "cell_type": "code",
   "execution_count": 67,
   "id": "8b52d790-d675-4822-9e67-f602b895aa29",
   "metadata": {
    "tags": []
   },
   "outputs": [
    {
     "data": {
      "text/plain": [
       "-0.24296547888890235"
      ]
     },
     "execution_count": 67,
     "metadata": {},
     "output_type": "execute_result"
    }
   ],
   "source": [
    "n.layers[0].neurons[0].w[0].grad"
   ]
  },
  {
   "cell_type": "code",
   "execution_count": 140,
   "id": "36ba448b-3354-44c0-8e35-d6df913c7050",
   "metadata": {
    "tags": []
   },
   "outputs": [
    {
     "data": {
      "text/plain": [
       "Value(data=-0.8595078493562887)"
      ]
     },
     "execution_count": 140,
     "metadata": {},
     "output_type": "execute_result"
    }
   ],
   "source": [
    "x = [2.0, 3.0, -1.0]\n",
    "n = MLP(3, [4, 4, 1])\n",
    "n(x)"
   ]
  },
  {
   "cell_type": "code",
   "execution_count": 68,
   "id": "8faa0178-4efd-4ec9-a954-059d4c4f5e22",
   "metadata": {
    "tags": []
   },
   "outputs": [
    {
     "data": {
      "text/plain": [
       "-0.32220486829270323"
      ]
     },
     "execution_count": 68,
     "metadata": {},
     "output_type": "execute_result"
    }
   ],
   "source": [
    "n.layers[0].neurons[0].w[0].data"
   ]
  },
  {
   "cell_type": "code",
   "execution_count": 69,
   "id": "4a36bc75-ac93-4be7-b162-c3c479440eec",
   "metadata": {
    "tags": []
   },
   "outputs": [],
   "source": [
    "for p in n.parameters():\n",
    "    p.data += -0.01 * p.grad"
   ]
  },
  {
   "cell_type": "code",
   "execution_count": 70,
   "id": "fba2356d-cad4-458d-a9ed-7e068bcd6537",
   "metadata": {
    "tags": []
   },
   "outputs": [
    {
     "data": {
      "text/plain": [
       "-0.3197752135038142"
      ]
     },
     "execution_count": 70,
     "metadata": {},
     "output_type": "execute_result"
    }
   ],
   "source": [
    "n.layers[0].neurons[0].w[0].data"
   ]
  },
  {
   "cell_type": "code",
   "execution_count": 132,
   "id": "85c9ea4f-c507-4c49-b8e5-bcd3f87297f3",
   "metadata": {
    "tags": []
   },
   "outputs": [
    {
     "data": {
      "text/plain": [
       "Value(data=0.001163807505401968)"
      ]
     },
     "execution_count": 132,
     "metadata": {},
     "output_type": "execute_result"
    }
   ],
   "source": [
    "ypred = [n(x) for x in xs]\n",
    "loss = sum([(yout - ygt)**2 for ygt, yout in zip(ys, ypred)])\n",
    "loss"
   ]
  },
  {
   "cell_type": "code",
   "execution_count": 133,
   "id": "e4113ce7-c0b4-4689-a47c-bd63a2cbd550",
   "metadata": {
    "tags": []
   },
   "outputs": [],
   "source": [
    "loss.backward()"
   ]
  },
  {
   "cell_type": "code",
   "execution_count": 134,
   "id": "7f946136-7d2a-40a0-afaa-ebf95db5ce16",
   "metadata": {
    "tags": []
   },
   "outputs": [],
   "source": [
    "for p in n.parameters():\n",
    "    p.data += -0.01 * p.grad"
   ]
  },
  {
   "cell_type": "code",
   "execution_count": 135,
   "id": "18ad4e93-a0dc-4c80-aac6-bb61a00ddaa5",
   "metadata": {
    "tags": []
   },
   "outputs": [
    {
     "data": {
      "text/plain": [
       "[Value(data=0.9915277525145806),\n",
       " Value(data=-0.9672062837912311),\n",
       " Value(data=-0.9982361528871353),\n",
       " Value(data=0.9963271879262698)]"
      ]
     },
     "execution_count": 135,
     "metadata": {},
     "output_type": "execute_result"
    }
   ],
   "source": [
    "ypred"
   ]
  },
  {
   "cell_type": "code",
   "execution_count": 163,
   "id": "5cc7f7d4-0d31-4513-b7a5-953a7846d6af",
   "metadata": {
    "tags": []
   },
   "outputs": [
    {
     "name": "stdout",
     "output_type": "stream",
     "text": [
      "0 0.00049586055380013\n",
      "1 0.0004948734122280188\n",
      "2 0.0004938900906851316\n",
      "3 0.0004929105672759713\n",
      "4 0.0004919348202710998\n",
      "5 0.0004909628281055094\n",
      "6 0.0004899945693771147\n",
      "7 0.0004890300228452045\n",
      "8 0.00048806916742895204\n",
      "9 0.0004871119822058722\n",
      "10 0.0004861584464104161\n",
      "11 0.000485208539432428\n",
      "12 0.0004842622408157602\n",
      "13 0.00048331953025681574\n",
      "14 0.0004823803876031299\n",
      "15 0.00048144479285200706\n",
      "16 0.0004805127261490871\n",
      "17 0.00047958416778700024\n",
      "18 0.00047865909820405295\n",
      "19 0.00047773749798280636\n",
      "20 0.00047681934784883184\n",
      "21 0.00047590462866936264\n",
      "22 0.0004749933214520068\n",
      "23 0.00047408540734347054\n",
      "24 0.00047318086762829475\n",
      "25 0.00047227968372759606\n",
      "26 0.00047138183719780944\n",
      "27 0.00047048730972951993\n",
      "28 0.00046959608314617904\n",
      "29 0.0004687081394029684\n",
      "30 0.00046782346058556526\n",
      "31 0.0004669420289089931\n",
      "32 0.00046606382671647074\n",
      "33 0.0004651888364782213\n",
      "34 0.00046431704079040903\n",
      "35 0.0004634484223739265\n",
      "36 0.000462582964073351\n",
      "37 0.00046172064885582\n",
      "38 0.0004608614598099398\n",
      "39 0.00046000538014471105\n",
      "40 0.00045915239318846285\n",
      "41 0.00045830248238782007\n",
      "42 0.00045745563130660866\n",
      "43 0.00045661182362488487\n",
      "44 0.000455771043137868\n",
      "45 0.00045493327375494615\n",
      "46 0.00045409849949869\n",
      "47 0.00045326670450383376\n",
      "48 0.00045243787301632983\n",
      "49 0.00045161198939235817\n",
      "50 0.0004507890380973541\n",
      "51 0.0004499690037050955\n",
      "52 0.0004491518708967413\n",
      "53 0.00044833762445991264\n",
      "54 0.0004475262492877523\n",
      "55 0.0004467177303780345\n",
      "56 0.00044591205283227287\n",
      "57 0.00044510920185480225\n",
      "58 0.0004443091627519056\n",
      "59 0.00044351192093094744\n",
      "60 0.00044271746189951063\n",
      "61 0.000441925771264532\n",
      "62 0.0004411368347314689\n",
      "63 0.0004403506381034346\n",
      "64 0.00043956716728040044\n",
      "65 0.0004387864082583508\n",
      "66 0.0004380083471284778\n",
      "67 0.00043723297007639597\n",
      "68 0.00043646026338130673\n",
      "69 0.00043569021341524215\n",
      "70 0.0004349228066422748\n",
      "71 0.0004341580296177257\n",
      "72 0.00043339586898743783\n",
      "73 0.0004326363114869917\n",
      "74 0.000431879343940949\n",
      "75 0.0004311249532621458\n",
      "76 0.0004303731264509101\n",
      "77 0.00042962385059437647\n",
      "78 0.00042887711286573643\n",
      "79 0.0004281329005235532\n",
      "80 0.0004273912009110228\n",
      "81 0.0004266520014552888\n",
      "82 0.000425915289666769\n",
      "83 0.00042518105313844065\n",
      "84 0.0004244492795451834\n",
      "85 0.0004237199566430827\n",
      "86 0.0004229930722688001\n",
      "87 0.00042226861433887833\n",
      "88 0.00042154657084911154\n",
      "89 0.00042082692987389247\n",
      "90 0.0004201096795655698\n",
      "91 0.00041939480815381705\n",
      "92 0.00041868230394501746\n",
      "93 0.00041797215532160255\n",
      "94 0.0004172643507414923\n",
      "95 0.00041655887873743767\n",
      "96 0.0004158557279164499\n",
      "97 0.00041515488695919076\n",
      "98 0.00041445634461936864\n",
      "99 0.00041376008972317886\n"
     ]
    }
   ],
   "source": [
    "for k in range(100):\n",
    "    #forward pass\n",
    "    ypred = [n(x) for x in xs]\n",
    "    loss = sum([(yout - ygt)**2 for ygt, yout in zip(ys, ypred)])\n",
    "    \n",
    "    #backward pass\n",
    "    for p in n.parameters():\n",
    "        p.grad = 0.0\n",
    "    loss.backward()\n",
    "    \n",
    "    #update\n",
    "    for p in n.parameters():\n",
    "        p.data += -0.1 * p.grad\n",
    "    \n",
    "    print(k, loss.data)\n",
    "    \n",
    "    "
   ]
  },
  {
   "cell_type": "code",
   "execution_count": 164,
   "id": "bc20ef75-8dbf-4e12-9608-2d6cd80bdda7",
   "metadata": {
    "tags": []
   },
   "outputs": [
    {
     "data": {
      "text/plain": [
       "[Value(data=0.9907227932806424),\n",
       " Value(data=-0.9938199709112892),\n",
       " Value(data=-0.9886951287341473),\n",
       " Value(data=0.9872838429022495)]"
      ]
     },
     "execution_count": 164,
     "metadata": {},
     "output_type": "execute_result"
    }
   ],
   "source": [
    "ypred"
   ]
  },
  {
   "cell_type": "code",
   "execution_count": null,
   "id": "7667d066-2964-40da-949a-3c99a1061678",
   "metadata": {},
   "outputs": [],
   "source": []
  }
 ],
 "metadata": {
  "kernelspec": {
   "display_name": "Python 3 (ipykernel)",
   "language": "python",
   "name": "python3"
  },
  "language_info": {
   "codemirror_mode": {
    "name": "ipython",
    "version": 3
   },
   "file_extension": ".py",
   "mimetype": "text/x-python",
   "name": "python",
   "nbconvert_exporter": "python",
   "pygments_lexer": "ipython3",
   "version": "3.10.0"
  }
 },
 "nbformat": 4,
 "nbformat_minor": 5
}
