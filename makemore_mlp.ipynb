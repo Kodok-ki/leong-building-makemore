{
 "cells": [
  {
   "cell_type": "code",
   "execution_count": 1,
   "id": "7b9db3a8-ffde-4dd8-914c-ddcb913760a8",
   "metadata": {
    "editable": true,
    "slideshow": {
     "slide_type": ""
    },
    "tags": []
   },
   "outputs": [],
   "source": [
    "import torch\n",
    "import torch.nn.functional as F\n",
    "import matplotlib.pyplot as plt \n",
    "%matplotlib inline"
   ]
  },
  {
   "cell_type": "code",
   "execution_count": 2,
   "id": "9a66b2fe-b527-47de-96be-4abca20c7747",
   "metadata": {},
   "outputs": [
    {
     "data": {
      "text/plain": [
       "['emma',\n",
       " 'olivia',\n",
       " 'ava',\n",
       " 'isabella',\n",
       " 'sophia',\n",
       " 'charlotte',\n",
       " 'mia',\n",
       " 'amelia',\n",
       " 'harper',\n",
       " 'evelyn']"
      ]
     },
     "execution_count": 2,
     "metadata": {},
     "output_type": "execute_result"
    }
   ],
   "source": [
    "#read in all the words\n",
    "words = open('names.txt', 'r').read().splitlines()\n",
    "words[:10]"
   ]
  },
  {
   "cell_type": "code",
   "execution_count": 3,
   "id": "7f4b8795-8dc3-46c1-8ed6-3142aa729f5a",
   "metadata": {},
   "outputs": [
    {
     "name": "stdout",
     "output_type": "stream",
     "text": [
      "{1: 'a', 2: 'b', 3: 'c', 4: 'd', 5: 'e', 6: 'f', 7: 'g', 8: 'h', 9: 'i', 10: 'j', 11: 'k', 12: 'l', 13: 'm', 14: 'n', 15: 'o', 16: 'p', 17: 'q', 18: 'r', 19: 's', 20: 't', 21: 'u', 22: 'v', 23: 'w', 24: 'x', 25: 'y', 26: 'z', 0: '.'}\n",
      "{'a': 1, 'b': 2, 'c': 3, 'd': 4, 'e': 5, 'f': 6, 'g': 7, 'h': 8, 'i': 9, 'j': 10, 'k': 11, 'l': 12, 'm': 13, 'n': 14, 'o': 15, 'p': 16, 'q': 17, 'r': 18, 's': 19, 't': 20, 'u': 21, 'v': 22, 'w': 23, 'x': 24, 'y': 25, 'z': 26, '.': 0}\n"
     ]
    }
   ],
   "source": [
    "#build the vocabulary of characters and mappings to/from the integers\n",
    "chars = sorted(list(set(''.join(words))))\n",
    "stoi = {s:i+1 for i,s in enumerate(chars)}\n",
    "stoi['.'] = 0\n",
    "itos = {i:s for s,i in stoi.items()}\n",
    "print(itos)\n",
    "print(stoi)"
   ]
  },
  {
   "cell_type": "code",
   "execution_count": 5,
   "id": "7430d6c5-be85-498f-a366-1764bbea5744",
   "metadata": {},
   "outputs": [],
   "source": [
    "#build the dataset\n",
    "\n",
    "block_size = 3 #context length: how many characters do we take to predict the next one?\n",
    "X, Y = [], [] #X being the input and Y being the label for each example within X\n",
    "for w in words[:]:\n",
    "\n",
    "    #print(w)\n",
    "    context = [0] * block_size\n",
    "    for ch in w + '.':\n",
    "        ix = stoi[ch]\n",
    "        X.append(context)\n",
    "        Y.append(ix)\n",
    "        #print(''.join(itos[i] for i in context), '--->', itos[ix])\n",
    "        context = context[1:] + [ix] #crop context and append the character index\n",
    "\n",
    "X = torch.tensor(X)\n",
    "Y = torch.tensor(Y)"
   ]
  },
  {
   "cell_type": "code",
   "execution_count": 4,
   "id": "480be8ec-dc9d-4b7a-980f-4382ccf9d571",
   "metadata": {},
   "outputs": [
    {
     "name": "stdout",
     "output_type": "stream",
     "text": [
      "torch.Size([182625, 3]) torch.Size([182625])\n",
      "torch.Size([22655, 3]) torch.Size([22655])\n",
      "torch.Size([22866, 3]) torch.Size([22866])\n"
     ]
    }
   ],
   "source": [
    "#build the dataset (but make it more generic for the 3 datasets\n",
    "\n",
    "def build_dataset(words):\n",
    "    block_size = 3 #context length: how many characters do we take to predict the next one?\n",
    "    X, Y = [], [] #X being the input and Y being the label for each example within X\n",
    "    for w in words[:]:\n",
    "    \n",
    "        context = [0] * block_size\n",
    "        for ch in w + '.':\n",
    "            ix = stoi[ch]\n",
    "            X.append(context)\n",
    "            Y.append(ix)\n",
    "            #print(''.join(itos[i] for i in context), '--->', itos[ix])\n",
    "            context = context[1:] + [ix] #crop context and append the character index\n",
    "\n",
    "    X = torch.tensor(X)\n",
    "    Y = torch.tensor(Y)\n",
    "\n",
    "    print(X.shape, Y.shape)\n",
    "    return X, Y\n",
    "\n",
    "import random\n",
    "random.seed(42)\n",
    "random.shuffle(words)\n",
    "n1 = int(0.8*len(words))\n",
    "n2 = int(0.9*len(words))\n",
    "\n",
    "Xtr, Ytr = build_dataset(words[:n1])\n",
    "Xdev, Ydev = build_dataset(words[n1:n2])\n",
    "Xte, Yte = build_dataset(words[n2:])"
   ]
  },
  {
   "cell_type": "code",
   "execution_count": 18,
   "id": "14b1b97c-620c-45a4-81a9-8620aae076e4",
   "metadata": {},
   "outputs": [
    {
     "data": {
      "text/plain": [
       "25626"
      ]
     },
     "execution_count": 18,
     "metadata": {},
     "output_type": "execute_result"
    }
   ],
   "source": [
    "n1"
   ]
  },
  {
   "cell_type": "code",
   "execution_count": 5,
   "id": "ca309cd1-b7fc-4136-8859-bf748d2ad0b5",
   "metadata": {},
   "outputs": [
    {
     "data": {
      "text/plain": [
       "tensor([[ 0,  0,  0],\n",
       "        [ 0,  0,  5],\n",
       "        [ 0,  5, 13],\n",
       "        [ 5, 13, 13],\n",
       "        [13, 13,  1],\n",
       "        [ 0,  0,  0],\n",
       "        [ 0,  0, 15],\n",
       "        [ 0, 15, 12],\n",
       "        [15, 12,  9],\n",
       "        [12,  9, 22],\n",
       "        [ 9, 22,  9],\n",
       "        [22,  9,  1],\n",
       "        [ 0,  0,  0],\n",
       "        [ 0,  0,  1],\n",
       "        [ 0,  1, 22],\n",
       "        [ 1, 22,  1],\n",
       "        [ 0,  0,  0],\n",
       "        [ 0,  0,  9],\n",
       "        [ 0,  9, 19],\n",
       "        [ 9, 19,  1],\n",
       "        [19,  1,  2],\n",
       "        [ 1,  2,  5],\n",
       "        [ 2,  5, 12],\n",
       "        [ 5, 12, 12],\n",
       "        [12, 12,  1],\n",
       "        [ 0,  0,  0],\n",
       "        [ 0,  0, 19],\n",
       "        [ 0, 19, 15],\n",
       "        [19, 15, 16],\n",
       "        [15, 16,  8],\n",
       "        [16,  8,  9],\n",
       "        [ 8,  9,  1]])"
      ]
     },
     "execution_count": 5,
     "metadata": {},
     "output_type": "execute_result"
    }
   ],
   "source": [
    "C = torch.randn((27, 2))\n",
    "C[5]\n",
    "X"
   ]
  },
  {
   "cell_type": "code",
   "execution_count": 1,
   "id": "0e3f8a72-924a-47bd-9430-bc23d2a1e194",
   "metadata": {},
   "outputs": [
    {
     "ename": "NameError",
     "evalue": "name 'F' is not defined",
     "output_type": "error",
     "traceback": [
      "\u001b[1;31m---------------------------------------------------------------------------\u001b[0m",
      "\u001b[1;31mNameError\u001b[0m                                 Traceback (most recent call last)",
      "Cell \u001b[1;32mIn[1], line 1\u001b[0m\n\u001b[1;32m----> 1\u001b[0m \u001b[43mF\u001b[49m\u001b[38;5;241m.\u001b[39mone_hot(torch\u001b[38;5;241m.\u001b[39mtensor(\u001b[38;5;241m5\u001b[39m), num_classes\u001b[38;5;241m=\u001b[39m\u001b[38;5;241m27\u001b[39m)\u001b[38;5;241m.\u001b[39mfloat() \u001b[38;5;241m@\u001b[39m C\n",
      "\u001b[1;31mNameError\u001b[0m: name 'F' is not defined"
     ]
    }
   ],
   "source": [
    "F.one_hot(torch.tensor(5), num_classes=27).float() @ C ##@ means matrix multiplication"
   ]
  },
  {
   "cell_type": "code",
   "execution_count": 32,
   "id": "1192011f-34d7-41d8-b13f-0d94f60fcfd1",
   "metadata": {},
   "outputs": [
    {
     "data": {
      "text/plain": [
       "tensor([[ 0.8628,  1.9707],\n",
       "        [-0.0667,  2.5976],\n",
       "        [-1.3473,  0.6497],\n",
       "        [-0.7804,  1.0857],\n",
       "        [-2.1759, -0.0881],\n",
       "        [-0.5501,  0.2176],\n",
       "        [ 0.5831,  1.7435],\n",
       "        [ 0.3404, -0.0779],\n",
       "        [-0.5798, -0.9431],\n",
       "        [ 1.3353, -0.8053],\n",
       "        [-0.0075, -0.5457],\n",
       "        [ 0.8025,  1.5129],\n",
       "        [ 1.0724, -0.7989],\n",
       "        [-0.2764,  0.0959],\n",
       "        [-1.2379,  0.3116],\n",
       "        [-1.3609,  1.0553],\n",
       "        [ 0.4528, -2.0198],\n",
       "        [ 0.3815,  0.5613],\n",
       "        [-1.5102, -0.6619],\n",
       "        [-0.1412, -0.4904],\n",
       "        [-0.8642, -0.1019],\n",
       "        [ 0.4093, -0.8394],\n",
       "        [-0.7318,  0.1005],\n",
       "        [-0.7016,  1.0032],\n",
       "        [-2.1489, -3.1655],\n",
       "        [ 0.3508, -0.4030],\n",
       "        [ 0.8423,  0.5430]])"
      ]
     },
     "execution_count": 32,
     "metadata": {},
     "output_type": "execute_result"
    }
   ],
   "source": [
    "C"
   ]
  },
  {
   "cell_type": "code",
   "execution_count": 7,
   "id": "bd51c0e2-d1c2-47d1-be86-6a074da2e3b6",
   "metadata": {},
   "outputs": [
    {
     "data": {
      "text/plain": [
       "tensor([[ 1.0792,  1.0441],\n",
       "        [ 2.2444,  0.8444],\n",
       "        [-0.4190, -0.4285],\n",
       "        [-0.4190, -0.4285],\n",
       "        [-0.4190, -0.4285]])"
      ]
     },
     "execution_count": 7,
     "metadata": {},
     "output_type": "execute_result"
    }
   ],
   "source": [
    "C[torch.tensor([1,2,3,3,3])] #Indexing by lists"
   ]
  },
  {
   "cell_type": "code",
   "execution_count": 41,
   "id": "5a3f80d8-1aa4-4631-a5cf-1b4f82453d14",
   "metadata": {},
   "outputs": [],
   "source": [
    "emb = C[X] #By extension, indexing by tensor"
   ]
  },
  {
   "cell_type": "code",
   "execution_count": 8,
   "id": "170dc98e-7250-4612-a25d-d646b720130b",
   "metadata": {},
   "outputs": [],
   "source": [
    "#Squeezing our characters into 2 dimensions, with 3 neurons to create our hidden layer, hence 6 rows. 100 columns is just random\n",
    "W1 = torch.randn((6, 100)) \n",
    "b1 = torch.randn(100)"
   ]
  },
  {
   "cell_type": "code",
   "execution_count": 9,
   "id": "2199e987-401f-4307-8084-e37e7490e0fe",
   "metadata": {},
   "outputs": [
    {
     "ename": "NameError",
     "evalue": "name 'emb' is not defined",
     "output_type": "error",
     "traceback": [
      "\u001b[1;31m---------------------------------------------------------------------------\u001b[0m",
      "\u001b[1;31mNameError\u001b[0m                                 Traceback (most recent call last)",
      "Cell \u001b[1;32mIn[9], line 4\u001b[0m\n\u001b[0;32m      1\u001b[0m \u001b[38;5;66;03m#Different ways of manipulating the tensor to enable matrix multiplication\u001b[39;00m\n\u001b[0;32m      2\u001b[0m \u001b[38;5;66;03m#tensor.view() is the most efficient because it changes how the 1D list of tensor values\u001b[39;00m\n\u001b[0;32m      3\u001b[0m \u001b[38;5;66;03m#in system is viewed instead of copying new tensors\u001b[39;00m\n\u001b[1;32m----> 4\u001b[0m torch\u001b[38;5;241m.\u001b[39mcat(torch\u001b[38;5;241m.\u001b[39munbind(\u001b[43memb\u001b[49m, \u001b[38;5;241m1\u001b[39m), \u001b[38;5;241m1\u001b[39m) \u001b[38;5;241m==\u001b[39m emb\u001b[38;5;241m.\u001b[39mview(\u001b[38;5;241m32\u001b[39m, \u001b[38;5;241m6\u001b[39m) \u001b[38;5;66;03m#32 is the hard-coded number of trigrams formed from words[:5]\u001b[39;00m\n",
      "\u001b[1;31mNameError\u001b[0m: name 'emb' is not defined"
     ]
    }
   ],
   "source": [
    "#Different ways of manipulating the tensor to enable matrix multiplication\n",
    "#tensor.view() is the most efficient because it changes how the 1D list of tensor values\n",
    "#in system is viewed instead of copying new tensors\n",
    "torch.cat(torch.unbind(emb, 1), 1) == emb.view(32, 6) #32 is the hard-coded number of trigrams formed from words[:5]"
   ]
  },
  {
   "cell_type": "code",
   "execution_count": 58,
   "id": "9650688d-068b-4335-89dc-42a1101ede17",
   "metadata": {},
   "outputs": [
    {
     "data": {
      "text/plain": [
       "torch.Size([32, 100])"
      ]
     },
     "execution_count": 58,
     "metadata": {},
     "output_type": "execute_result"
    }
   ],
   "source": [
    "h = torch.tanh(emb.view(emb.shape[0], 6) @ W1 + b1) #view(-1, 6) works too, pytorch infers the number of the 0th dimension\n",
    "h.shape"
   ]
  },
  {
   "cell_type": "code",
   "execution_count": 59,
   "id": "dff67e20-6154-4d16-8aee-4aa13cbdf875",
   "metadata": {},
   "outputs": [
    {
     "data": {
      "text/plain": [
       "tensor([[-0.9997, -0.0527, -0.9991,  ..., -1.0000,  0.4251, -1.0000],\n",
       "        [-0.8829,  0.9243, -0.9998,  ..., -0.9999,  0.0015, -1.0000],\n",
       "        [-0.7951,  0.8219, -0.9948,  ..., -0.9990, -0.9992, -0.9989],\n",
       "        ...,\n",
       "        [ 0.9998, -0.9956, -0.2415,  ...,  0.9986, -0.9769, -0.9972],\n",
       "        [-0.9963, -0.9973,  0.2138,  ..., -0.4177, -0.9828,  0.9998],\n",
       "        [ 0.9969, -1.0000, -0.0855,  ...,  0.8382,  0.9999, -0.9151]])"
      ]
     },
     "execution_count": 59,
     "metadata": {},
     "output_type": "execute_result"
    }
   ],
   "source": [
    "h"
   ]
  },
  {
   "cell_type": "code",
   "execution_count": 60,
   "id": "a9e11795-6466-4883-b0a6-2b5f2e49318d",
   "metadata": {},
   "outputs": [],
   "source": [
    "W2 = torch.randn((100, 27))\n",
    "b2 = torch.randn(27)"
   ]
  },
  {
   "cell_type": "code",
   "execution_count": 61,
   "id": "acc4527b-225e-4f70-bde0-e52e73c15a79",
   "metadata": {},
   "outputs": [],
   "source": [
    "logits = h @ W2 + b2"
   ]
  },
  {
   "cell_type": "code",
   "execution_count": 62,
   "id": "469cb468-e343-4c74-adb7-1d048a09dc40",
   "metadata": {},
   "outputs": [
    {
     "data": {
      "text/plain": [
       "torch.Size([32, 27])"
      ]
     },
     "execution_count": 62,
     "metadata": {},
     "output_type": "execute_result"
    }
   ],
   "source": [
    "logits.shape"
   ]
  },
  {
   "cell_type": "code",
   "execution_count": 64,
   "id": "0e4a6d0a-0ce9-4498-a670-331fe34838e7",
   "metadata": {},
   "outputs": [],
   "source": [
    "counts = logits.exp()"
   ]
  },
  {
   "cell_type": "code",
   "execution_count": 65,
   "id": "f610fd3f-9fb5-4a3b-b955-9ae2011aae3f",
   "metadata": {},
   "outputs": [],
   "source": [
    "prob = counts/counts.sum(1, keepdims=True)"
   ]
  },
  {
   "cell_type": "code",
   "execution_count": 68,
   "id": "303dcabd-a3c5-41e9-8079-8d714941ed6b",
   "metadata": {},
   "outputs": [
    {
     "data": {
      "text/plain": [
       "tensor(1.)"
      ]
     },
     "execution_count": 68,
     "metadata": {},
     "output_type": "execute_result"
    }
   ],
   "source": [
    "prob[0].sum()"
   ]
  },
  {
   "cell_type": "code",
   "execution_count": 72,
   "id": "4458ffe0-a327-40c2-8124-e3c8337da64a",
   "metadata": {},
   "outputs": [
    {
     "data": {
      "text/plain": [
       "tensor([1.3320e-08, 8.0629e-10, 2.2626e-08, 8.6023e-06, 3.3612e-07, 1.2844e-11,\n",
       "        2.0688e-12, 1.2661e-10, 7.8792e-05, 1.2548e-04, 2.9056e-02, 8.5397e-09,\n",
       "        2.9395e-04, 5.0783e-01, 3.3056e-04, 9.2141e-06, 1.8310e-09, 1.6111e-19,\n",
       "        1.3835e-06, 3.2832e-04, 1.0457e-02, 2.2911e-08, 1.0973e-08, 7.4945e-06,\n",
       "        1.6005e-02, 7.2828e-09, 9.4173e-13, 6.2004e-09, 3.6971e-10, 1.6700e-05,\n",
       "        7.2438e-05, 2.1732e-07])"
      ]
     },
     "execution_count": 72,
     "metadata": {},
     "output_type": "execute_result"
    }
   ],
   "source": [
    "prob[torch.arange(32), Y] #probability for selecting the chracters in Y using the model's probabilities"
   ]
  },
  {
   "cell_type": "code",
   "execution_count": 73,
   "id": "b4ad80f0-dbff-438e-bf59-7bb3634c9534",
   "metadata": {},
   "outputs": [],
   "source": [
    "loss = -prob[torch.arange(32), Y].log().mean()"
   ]
  },
  {
   "cell_type": "code",
   "execution_count": 6,
   "id": "d51839ad-26ba-4ef7-a032-28f35bcfd057",
   "metadata": {},
   "outputs": [
    {
     "data": {
      "text/plain": [
       "(torch.Size([228146, 3]), torch.Size([228146]))"
      ]
     },
     "execution_count": 6,
     "metadata": {},
     "output_type": "execute_result"
    }
   ],
   "source": [
    "#======Summary==========\n",
    "X.shape, Y.shape"
   ]
  },
  {
   "cell_type": "code",
   "execution_count": 34,
   "id": "88c24e86-3a36-4e11-a13b-a6ed499ef9b1",
   "metadata": {},
   "outputs": [],
   "source": [
    "g = torch.Generator().manual_seed(2147483647)\n",
    "C = torch.randn((27, 2), generator=g)\n",
    "W1 = torch.randn((6, 300), generator=g) #\n",
    "b1 = torch.randn(300, generator=g)\n",
    "W2 = torch.randn((300, 27), generator=g)\n",
    "b2 = torch.randn(27, generator=g)\n",
    "parameters = [C, W1, b1, W2, b2]"
   ]
  },
  {
   "cell_type": "code",
   "execution_count": 96,
   "id": "8f04bdef-105f-42f6-a119-2b280d7959b2",
   "metadata": {},
   "outputs": [],
   "source": [
    "#Larger embedding with 10 dimensions instead of 2\n",
    "g = torch.Generator().manual_seed(2147483647)\n",
    "C = torch.randn((27, 10), generator=g)\n",
    "W1 = torch.randn((30, 200), generator=g) #10 dimensions into 3 neurons, 200 neurons in the hidden layer\n",
    "b1 = torch.randn(200, generator=g)\n",
    "W2 = torch.randn((200, 27), generator=g)\n",
    "b2 = torch.randn(27, generator=g)\n",
    "parameters = [C, W1, b1, W2, b2]"
   ]
  },
  {
   "cell_type": "code",
   "execution_count": 97,
   "id": "8c9b60d0-62c3-4eee-8fe4-3a8f32596b3b",
   "metadata": {},
   "outputs": [
    {
     "data": {
      "text/plain": [
       "11897"
      ]
     },
     "execution_count": 97,
     "metadata": {},
     "output_type": "execute_result"
    }
   ],
   "source": [
    "sum(p.nelement() for p in parameters)"
   ]
  },
  {
   "cell_type": "code",
   "execution_count": 98,
   "id": "3b5d9bcc-5cbc-4a36-91f8-8b3ab0ca8e4f",
   "metadata": {},
   "outputs": [
    {
     "data": {
      "text/plain": [
       "torch.Size([228146, 3])"
      ]
     },
     "execution_count": 98,
     "metadata": {},
     "output_type": "execute_result"
    }
   ],
   "source": [
    "X.shape"
   ]
  },
  {
   "cell_type": "code",
   "execution_count": 99,
   "id": "33cc121b-6ba4-4a78-b8d9-8056418a0b05",
   "metadata": {},
   "outputs": [
    {
     "data": {
      "text/plain": [
       "30"
      ]
     },
     "execution_count": 99,
     "metadata": {},
     "output_type": "execute_result"
    }
   ],
   "source": [
    "W1.shape[0]"
   ]
  },
  {
   "cell_type": "code",
   "execution_count": 100,
   "id": "5b7abaa2-9bab-4d9f-9daa-a4202149c7a3",
   "metadata": {},
   "outputs": [],
   "source": [
    "for p in parameters:\n",
    "    p.requires_grad = True"
   ]
  },
  {
   "cell_type": "code",
   "execution_count": 101,
   "id": "35ce91f7-2c9d-4d49-b963-a62b217fa51d",
   "metadata": {},
   "outputs": [],
   "source": [
    "lre = torch.linspace(-3, 0, 1000) #learning rate exponential\n",
    "lrs = 10**lre"
   ]
  },
  {
   "cell_type": "code",
   "execution_count": null,
   "id": "99ef2c33-398f-4e18-b463-0ca486255f9e",
   "metadata": {},
   "outputs": [],
   "source": []
  },
  {
   "cell_type": "code",
   "execution_count": 102,
   "id": "a9d7419c-5bed-407a-9c5d-4ad9ecac8004",
   "metadata": {},
   "outputs": [
    {
     "name": "stdout",
     "output_type": "stream",
     "text": [
      "2.330894947052002\n"
     ]
    }
   ],
   "source": [
    "for i in range(50000):\n",
    "\n",
    "    #minibatch construct\n",
    "    #ix = torch.randint(0,X.shape[0], (32,))\n",
    "    ix = torch.randint(0,Xtr.shape[0], (32,))\n",
    "    \n",
    "    #emb = C[X[ix]] # (32, 3, 2) using words[:5] or C[X[idx]] since it's a minibatch, with all words it's (228146, 3, 2)\n",
    "    emb = C[Xtr[ix]]\n",
    "    h = torch.tanh(emb.view(-1, W1.shape[0]) @ W1 + b1) #(32, 100)\n",
    "    logits = h @ W2 + b2\n",
    "    #counts = logits.exp()\n",
    "    #prob = counts / counts.sum(1, keepdims=True)\n",
    "    #loss = -prob[torch.arange(32), Y].log().mean()\n",
    "    #loss = F.cross_entropy(logits, Y[ix])\n",
    "    loss = F.cross_entropy(logits, Ytr[ix])\n",
    "    \n",
    "    #backward pass\n",
    "    for p in parameters:\n",
    "        p.grad = None\n",
    "    loss.backward()\n",
    "    \n",
    "    #update\n",
    "    #lr = lrs[i]\n",
    "    lr = 0.01\n",
    "    for p in parameters:\n",
    "        p.data += -lr * p.grad\n",
    "\n",
    "    #track stats\n",
    "    #lri.append(lre[i])\n",
    "    stepi.append(i)\n",
    "    lossi.append(loss.log10().item())\n",
    "    \n",
    "print(loss.item())"
   ]
  },
  {
   "cell_type": "code",
   "execution_count": 67,
   "id": "c1c66414-293b-4f4a-8db6-67d4227ac86f",
   "metadata": {},
   "outputs": [
    {
     "data": {
      "text/plain": [
       "[<matplotlib.lines.Line2D at 0x23641a8e590>]"
      ]
     },
     "execution_count": 67,
     "metadata": {},
     "output_type": "execute_result"
    },
    {
     "data": {
      "image/png": "[encoded data removed]",
      "text/plain": [
       "<Figure size 640x480 with 1 Axes>"
      ]
     },
     "metadata": {},
     "output_type": "display_data"
    }
   ],
   "source": [
    "plt.plot(stepi, lossi)"
   ]
  },
  {
   "cell_type": "code",
   "execution_count": 14,
   "id": "4beb5676-2275-4706-a0a0-ad0b5ee4fac5",
   "metadata": {},
   "outputs": [
    {
     "data": {
      "text/plain": [
       "tensor([25,  1, 19,  0,  5, 14,  1, 14,  9,  1,  1,  5, 14,  1,  0,  0, 15,  8,\n",
       "        12, 11,  5,  1,  5,  5,  1, 12, 14, 14,  1,  9,  5,  1])"
      ]
     },
     "execution_count": 14,
     "metadata": {},
     "output_type": "execute_result"
    }
   ],
   "source": [
    "Y[ix]"
   ]
  },
  {
   "cell_type": "code",
   "execution_count": 103,
   "id": "adb212e8-d241-4954-b6c4-4592d52664fd",
   "metadata": {},
   "outputs": [
    {
     "data": {
      "text/plain": [
       "tensor(2.4023, grad_fn=<NllLossBackward0>)"
      ]
     },
     "execution_count": 103,
     "metadata": {},
     "output_type": "execute_result"
    }
   ],
   "source": [
    "    #emb = C[X] # (32, 3, 2) using words[:5] or C[X[idx]] since it's a minibatch, with all words it's (228146, 3, 2)\n",
    "    emb = C[Xtr]\n",
    "    h = torch.tanh(emb.view(emb.shape[0], W1.shape[0]) @ W1 + b1) #(32, 100)\n",
    "    logits = h @ W2 + b2\n",
    "    #counts = logits.exp()\n",
    "    #prob = counts / counts.sum(1, keepdims=True)\n",
    "    #loss = -prob[torch.arange(32), Y].log().mean()\n",
    "    loss = F.cross_entropy(logits, Ytr)\n",
    "    loss"
   ]
  },
  {
   "cell_type": "code",
   "execution_count": 104,
   "id": "85802f8e-bd4e-42c1-b796-a7799b616015",
   "metadata": {},
   "outputs": [
    {
     "data": {
      "text/plain": [
       "tensor(2.4113, grad_fn=<NllLossBackward0>)"
      ]
     },
     "execution_count": 104,
     "metadata": {},
     "output_type": "execute_result"
    }
   ],
   "source": [
    "    #emb = C[X] # (32, 3, 2) using words[:5] or C[X[idx]] since it's a minibatch, with all words it's (228146, 3, 2)\n",
    "    emb = C[Xdev]\n",
    "    h = torch.tanh(emb.view(emb.shape[0], W1.shape[0]) @ W1 + b1) #(32, 100)\n",
    "    logits = h @ W2 + b2\n",
    "    #counts = logits.exp()\n",
    "    #prob = counts / counts.sum(1, keepdims=True)\n",
    "    #loss = -prob[torch.arange(32), Y].log().mean()\n",
    "    loss = F.cross_entropy(logits, Ydev)\n",
    "    loss"
   ]
  },
  {
   "cell_type": "code",
   "execution_count": 49,
   "id": "89800b17-86ff-4672-9495-9dc5f3d6e092",
   "metadata": {},
   "outputs": [
    {
     "data": {
      "image/png": "[encoded data removed]",
      "text/plain": [
       "<Figure size 800x800 with 1 Axes>"
      ]
     },
     "metadata": {},
     "output_type": "display_data"
    }
   ],
   "source": [
    "#visualise the character embeddings\n",
    "plt.figure(figsize=(8,8))\n",
    "plt.scatter(C[:,0].data, C[:,1].data, s=200)\n",
    "for i in range(C.shape[0]):\n",
    "    plt.text(C[i,0].item(), C[i,1].item(), itos[i], ha=\"center\", va=\"center\", color='white')\n",
    "plt.grid('minor')"
   ]
  },
  {
   "cell_type": "code",
   "execution_count": 112,
   "id": "63c607f3-2b1e-4aba-80e1-9659fcf07d6e",
   "metadata": {},
   "outputs": [
    {
     "name": "stdout",
     "output_type": "stream",
     "text": [
      "mora.\n",
      "kayannieel.\n",
      "ndhonalarethan.\n",
      "ekdrari.\n",
      "adered.\n",
      "elii.\n",
      "shi.\n",
      "jelle.\n",
      "elieananar.\n",
      "katelosona.\n",
      "cayszibvlgohimiel.\n",
      "kinir.\n",
      "jelionn.\n",
      "puor.\n",
      "ummited.\n",
      "ryy.\n",
      "juliek.\n",
      "ylie.\n",
      "myskeyah.\n",
      "hyl.\n"
     ]
    }
   ],
   "source": [
    "#sample from the model\n",
    "\n",
    "g = torch.Generator().manual_seed(2147483647 + 10)\n",
    "\n",
    "for _ in range(20):\n",
    "\n",
    "    out = []\n",
    "    context = [0] * block_size #initialize with all ...\n",
    "    \n",
    "    while True:\n",
    "        emb = C[torch.tensor([context])] # (1, block_size, d)\n",
    "        h = torch.tanh(emb.view(1, -1) @ W1 + b1)\n",
    "        logits = h @ W2 + b2\n",
    "        probs = F.softmax(logits, dim=1)\n",
    "        ix = torch.multinomial(probs, num_samples=1, generator=g).item()\n",
    "        context = context[1:] + [ix]\n",
    "        out.append(ix)\n",
    "        if ix == 0:\n",
    "            break\n",
    "\n",
    "    print(''.join(itos[i] for i in out))"
   ]
  },
  {
   "cell_type": "code",
   "execution_count": 79,
   "id": "282ba69d-4483-450b-8217-901b676cc367",
   "metadata": {},
   "outputs": [
    {
     "data": {
      "text/plain": [
       "torch.Size([27, 10])"
      ]
     },
     "execution_count": 79,
     "metadata": {},
     "output_type": "execute_result"
    }
   ],
   "source": [
    "C.shape"
   ]
  },
  {
   "cell_type": "code",
   "execution_count": 111,
   "id": "c5556de9-ad79-434d-83be-9ef150c63c56",
   "metadata": {},
   "outputs": [
    {
     "data": {
      "text/plain": [
       "[0, 0, 0]"
      ]
     },
     "execution_count": 111,
     "metadata": {},
     "output_type": "execute_result"
    }
   ],
   "source": [
    "context = [0] * block_size\n",
    "context"
   ]
  },
  {
   "cell_type": "code",
   "execution_count": null,
   "id": "27cbe4fe-7509-46be-883a-73670a877a57",
   "metadata": {},
   "outputs": [],
   "source": []
  }
 ],
 "metadata": {
  "kernelspec": {
   "display_name": "Python 3 (ipykernel)",
   "language": "python",
   "name": "python3"
  },
  "language_info": {
   "codemirror_mode": {
    "name": "ipython",
    "version": 3
   },
   "file_extension": ".py",
   "mimetype": "text/x-python",
   "name": "python",
   "nbconvert_exporter": "python",
   "pygments_lexer": "ipython3",
   "version": "3.10.0"
  }
 },
 "nbformat": 4,
 "nbformat_minor": 5
}
